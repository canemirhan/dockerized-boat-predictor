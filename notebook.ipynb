{
 "cells": [
  {
   "cell_type": "code",
   "execution_count": 84,
   "id": "initial_id",
   "metadata": {
    "collapsed": true,
    "ExecuteTime": {
     "end_time": "2025-03-12T18:14:21.679689Z",
     "start_time": "2025-03-12T18:14:21.014578400Z"
    }
   },
   "outputs": [],
   "source": [
    "# Imports\n",
    "import warnings\n",
    "import pickle\n",
    "import optuna\n",
    "\n",
    "import pandas as pd\n",
    "import numpy as np\n",
    "import matplotlib.pyplot as plt\n",
    "import missingno as msno\n",
    "\n",
    "from lightgbm import LGBMRegressor\n",
    "from sklearn.feature_selection import SelectKBest, mutual_info_regression\n",
    "from sklearn.model_selection import train_test_split, cross_val_score\n",
    "from sklearn.metrics import mean_squared_error\n",
    "\n",
    "# Our module\n",
    "from utils import eda, feat_eng, data_prep"
   ]
  },
  {
   "cell_type": "code",
   "execution_count": 85,
   "outputs": [],
   "source": [
    "# Notebook and pandas dataframe output arrangements\n",
    "warnings.simplefilter(action=\"ignore\")\n",
    "pd.set_option(\"display.width\",500)\n",
    "pd.set_option(\"display.max_columns\",None)\n",
    "pd.set_option(\"display.float_format\", lambda x: \"%.3f\" % x)\n",
    "plt.rcParams[\"figure.figsize\"] = (8,3)"
   ],
   "metadata": {
    "collapsed": false,
    "ExecuteTime": {
     "end_time": "2025-03-12T18:14:21.703461400Z",
     "start_time": "2025-03-12T18:14:21.039324900Z"
    }
   },
   "id": "190ad7ea8c728c7f"
  },
  {
   "cell_type": "code",
   "execution_count": 86,
   "outputs": [],
   "source": [
    "# Loading data\n",
    "df = eda.load_data(\"./data.csv\")"
   ],
   "metadata": {
    "collapsed": false,
    "ExecuteTime": {
     "end_time": "2025-03-12T18:14:21.917726500Z",
     "start_time": "2025-03-12T18:14:21.052953500Z"
    }
   },
   "id": "1bc2685d483e352c"
  },
  {
   "cell_type": "markdown",
   "source": [
    "# EDA"
   ],
   "metadata": {
    "collapsed": false
   },
   "id": "f387c5c98f87e95a"
  },
  {
   "cell_type": "markdown",
   "source": [
    "## Big Picture"
   ],
   "metadata": {
    "collapsed": false
   },
   "id": "c75d265a7ae0b6d4"
  },
  {
   "cell_type": "code",
   "execution_count": 87,
   "outputs": [
    {
     "data": {
      "text/plain": "    type            boat_class  year condition  length_ft  beam_ft hull_material fuel_type  num_engines  total_hp      price\n1  power          power-center  1992      used     21.000    8.500    fiberglass  gasoline            1   150.000  16500.000\n3  power    power-sportcruiser  2018      used     40.000   11.000    fiberglass    diesel            2   800.000 539000.000\n5  power            power-deck  2020       new     18.000    7.420    fiberglass  gasoline            1    75.000  26995.000\n6  power  power-expresscruiser  2015      used     32.000   10.330    fiberglass  gasoline            2   600.000 169995.000\n8  power             power-aft  1994      used     44.000   15.000    fiberglass    diesel            2   700.000 109900.000",
      "text/html": "<div>\n<style scoped>\n    .dataframe tbody tr th:only-of-type {\n        vertical-align: middle;\n    }\n\n    .dataframe tbody tr th {\n        vertical-align: top;\n    }\n\n    .dataframe thead th {\n        text-align: right;\n    }\n</style>\n<table border=\"1\" class=\"dataframe\">\n  <thead>\n    <tr style=\"text-align: right;\">\n      <th></th>\n      <th>type</th>\n      <th>boat_class</th>\n      <th>year</th>\n      <th>condition</th>\n      <th>length_ft</th>\n      <th>beam_ft</th>\n      <th>hull_material</th>\n      <th>fuel_type</th>\n      <th>num_engines</th>\n      <th>total_hp</th>\n      <th>price</th>\n    </tr>\n  </thead>\n  <tbody>\n    <tr>\n      <th>1</th>\n      <td>power</td>\n      <td>power-center</td>\n      <td>1992</td>\n      <td>used</td>\n      <td>21.000</td>\n      <td>8.500</td>\n      <td>fiberglass</td>\n      <td>gasoline</td>\n      <td>1</td>\n      <td>150.000</td>\n      <td>16500.000</td>\n    </tr>\n    <tr>\n      <th>3</th>\n      <td>power</td>\n      <td>power-sportcruiser</td>\n      <td>2018</td>\n      <td>used</td>\n      <td>40.000</td>\n      <td>11.000</td>\n      <td>fiberglass</td>\n      <td>diesel</td>\n      <td>2</td>\n      <td>800.000</td>\n      <td>539000.000</td>\n    </tr>\n    <tr>\n      <th>5</th>\n      <td>power</td>\n      <td>power-deck</td>\n      <td>2020</td>\n      <td>new</td>\n      <td>18.000</td>\n      <td>7.420</td>\n      <td>fiberglass</td>\n      <td>gasoline</td>\n      <td>1</td>\n      <td>75.000</td>\n      <td>26995.000</td>\n    </tr>\n    <tr>\n      <th>6</th>\n      <td>power</td>\n      <td>power-expresscruiser</td>\n      <td>2015</td>\n      <td>used</td>\n      <td>32.000</td>\n      <td>10.330</td>\n      <td>fiberglass</td>\n      <td>gasoline</td>\n      <td>2</td>\n      <td>600.000</td>\n      <td>169995.000</td>\n    </tr>\n    <tr>\n      <th>8</th>\n      <td>power</td>\n      <td>power-aft</td>\n      <td>1994</td>\n      <td>used</td>\n      <td>44.000</td>\n      <td>15.000</td>\n      <td>fiberglass</td>\n      <td>diesel</td>\n      <td>2</td>\n      <td>700.000</td>\n      <td>109900.000</td>\n    </tr>\n  </tbody>\n</table>\n</div>"
     },
     "execution_count": 87,
     "metadata": {},
     "output_type": "execute_result"
    }
   ],
   "source": [
    "# Observing first 5 records\n",
    "df.head()"
   ],
   "metadata": {
    "collapsed": false,
    "ExecuteTime": {
     "end_time": "2025-03-12T18:14:22.013049700Z",
     "start_time": "2025-03-12T18:14:21.172084400Z"
    }
   },
   "id": "11018206c9612ef5"
  },
  {
   "cell_type": "code",
   "execution_count": 88,
   "outputs": [
    {
     "data": {
      "text/plain": "(18903, 11)"
     },
     "execution_count": 88,
     "metadata": {},
     "output_type": "execute_result"
    }
   ],
   "source": [
    "# 18903 rows, 11 columns\n",
    "df.shape"
   ],
   "metadata": {
    "collapsed": false,
    "ExecuteTime": {
     "end_time": "2025-03-12T18:14:22.092837800Z",
     "start_time": "2025-03-12T18:14:21.201734200Z"
    }
   },
   "id": "84385b28401c4321"
  },
  {
   "cell_type": "code",
   "execution_count": 89,
   "outputs": [
    {
     "data": {
      "text/plain": "Index(['type', 'boat_class', 'year', 'condition', 'length_ft', 'beam_ft', 'hull_material', 'fuel_type', 'num_engines', 'total_hp', 'price'], dtype='object')"
     },
     "execution_count": 89,
     "metadata": {},
     "output_type": "execute_result"
    }
   ],
   "source": [
    "# Showing columns\n",
    "df.columns"
   ],
   "metadata": {
    "collapsed": false,
    "ExecuteTime": {
     "end_time": "2025-03-12T18:14:22.124695900Z",
     "start_time": "2025-03-12T18:14:21.211642400Z"
    }
   },
   "id": "25a51eac18b85077"
  },
  {
   "cell_type": "code",
   "execution_count": 90,
   "outputs": [
    {
     "name": "stdout",
     "output_type": "stream",
     "text": [
      "<class 'pandas.core.frame.DataFrame'>\n",
      "Index: 18903 entries, 1 to 20000\n",
      "Data columns (total 11 columns):\n",
      " #   Column         Non-Null Count  Dtype  \n",
      "---  ------         --------------  -----  \n",
      " 0   type           18903 non-null  object \n",
      " 1   boat_class     18903 non-null  object \n",
      " 2   year           18903 non-null  int64  \n",
      " 3   condition      18903 non-null  object \n",
      " 4   length_ft      18903 non-null  float64\n",
      " 5   beam_ft        12399 non-null  float64\n",
      " 6   hull_material  18903 non-null  object \n",
      " 7   fuel_type      15951 non-null  object \n",
      " 8   num_engines    18903 non-null  int64  \n",
      " 9   total_hp       18055 non-null  float64\n",
      " 10  price          18903 non-null  float64\n",
      "dtypes: float64(4), int64(2), object(5)\n",
      "memory usage: 1.7+ MB\n"
     ]
    }
   ],
   "source": [
    "# Showing their dtypes\n",
    "df.info()"
   ],
   "metadata": {
    "collapsed": false,
    "ExecuteTime": {
     "end_time": "2025-03-12T18:14:22.124695900Z",
     "start_time": "2025-03-12T18:14:21.246223500Z"
    }
   },
   "id": "70590fe9644a1eb"
  },
  {
   "cell_type": "code",
   "execution_count": 91,
   "outputs": [
    {
     "data": {
      "text/plain": "                count       mean          std      min       25%       50%       75%            max\nyear        18903.000   2013.146       10.503 1910.000  2011.000  2019.000  2019.000       2020.000\nlength_ft   18903.000     23.804       14.613    1.000    18.000    21.000    25.000        375.000\nbeam_ft     12399.000     16.197       36.834    0.080     7.830     8.500     9.000       1311.000\nnum_engines 18903.000      1.070        0.426    0.000     1.000     1.000     1.000          4.000\ntotal_hp    18055.000    112.849      286.138    0.000     0.000     0.000   115.000       7200.000\nprice       18903.000 647146.881 73095667.967  500.000 19255.000 34195.000 57830.000 9999999999.000",
      "text/html": "<div>\n<style scoped>\n    .dataframe tbody tr th:only-of-type {\n        vertical-align: middle;\n    }\n\n    .dataframe tbody tr th {\n        vertical-align: top;\n    }\n\n    .dataframe thead th {\n        text-align: right;\n    }\n</style>\n<table border=\"1\" class=\"dataframe\">\n  <thead>\n    <tr style=\"text-align: right;\">\n      <th></th>\n      <th>count</th>\n      <th>mean</th>\n      <th>std</th>\n      <th>min</th>\n      <th>25%</th>\n      <th>50%</th>\n      <th>75%</th>\n      <th>max</th>\n    </tr>\n  </thead>\n  <tbody>\n    <tr>\n      <th>year</th>\n      <td>18903.000</td>\n      <td>2013.146</td>\n      <td>10.503</td>\n      <td>1910.000</td>\n      <td>2011.000</td>\n      <td>2019.000</td>\n      <td>2019.000</td>\n      <td>2020.000</td>\n    </tr>\n    <tr>\n      <th>length_ft</th>\n      <td>18903.000</td>\n      <td>23.804</td>\n      <td>14.613</td>\n      <td>1.000</td>\n      <td>18.000</td>\n      <td>21.000</td>\n      <td>25.000</td>\n      <td>375.000</td>\n    </tr>\n    <tr>\n      <th>beam_ft</th>\n      <td>12399.000</td>\n      <td>16.197</td>\n      <td>36.834</td>\n      <td>0.080</td>\n      <td>7.830</td>\n      <td>8.500</td>\n      <td>9.000</td>\n      <td>1311.000</td>\n    </tr>\n    <tr>\n      <th>num_engines</th>\n      <td>18903.000</td>\n      <td>1.070</td>\n      <td>0.426</td>\n      <td>0.000</td>\n      <td>1.000</td>\n      <td>1.000</td>\n      <td>1.000</td>\n      <td>4.000</td>\n    </tr>\n    <tr>\n      <th>total_hp</th>\n      <td>18055.000</td>\n      <td>112.849</td>\n      <td>286.138</td>\n      <td>0.000</td>\n      <td>0.000</td>\n      <td>0.000</td>\n      <td>115.000</td>\n      <td>7200.000</td>\n    </tr>\n    <tr>\n      <th>price</th>\n      <td>18903.000</td>\n      <td>647146.881</td>\n      <td>73095667.967</td>\n      <td>500.000</td>\n      <td>19255.000</td>\n      <td>34195.000</td>\n      <td>57830.000</td>\n      <td>9999999999.000</td>\n    </tr>\n  </tbody>\n</table>\n</div>"
     },
     "execution_count": 91,
     "metadata": {},
     "output_type": "execute_result"
    }
   ],
   "source": [
    "# Descriptive statistics \n",
    "df.describe().T"
   ],
   "metadata": {
    "collapsed": false,
    "ExecuteTime": {
     "end_time": "2025-03-12T18:14:22.124695900Z",
     "start_time": "2025-03-12T18:14:21.262184300Z"
    }
   },
   "id": "63bdac670464173a"
  },
  {
   "cell_type": "code",
   "execution_count": 92,
   "outputs": [
    {
     "name": "stdout",
     "output_type": "stream",
     "text": [
      "************************* SUMMARY **************************\n",
      "# of categoric variables: 5\n",
      "['type', 'boat_class', 'condition', 'hull_material', 'fuel_type']\n",
      "# of numeric variables: 6\n",
      "['year', 'length_ft', 'beam_ft', 'num_engines', 'total_hp', 'price']\n"
     ]
    }
   ],
   "source": [
    "# Grabbing numeric and categoric columns and showing the summary\n",
    "num_cols, cat_cols = eda.grab_cols(df,True)"
   ],
   "metadata": {
    "collapsed": false,
    "ExecuteTime": {
     "end_time": "2025-03-12T18:14:22.124695900Z",
     "start_time": "2025-03-12T18:14:21.312382300Z"
    }
   },
   "id": "1bdf662c1f7ec7fb"
  },
  {
   "cell_type": "markdown",
   "source": [
    "## Categoric Variables"
   ],
   "metadata": {
    "collapsed": false
   },
   "id": "a1270556615e760c"
  },
  {
   "cell_type": "code",
   "execution_count": 93,
   "outputs": [
    {
     "data": {
      "text/plain": "<Figure size 800x300 with 2 Axes>",
      "image/png": "[encoded data removed]"
     },
     "metadata": {},
     "output_type": "display_data"
    },
    {
     "name": "stdout",
     "output_type": "stream",
     "text": [
      "type\n",
      "power       655864.624\n",
      "sail        107258.261\n",
      "unpowered     3416.254\n",
      "Name: price, dtype: float64\n"
     ]
    },
    {
     "data": {
      "text/plain": "<Figure size 800x300 with 2 Axes>",
      "image/png": "[encoded data removed]"
     },
     "metadata": {},
     "output_type": "display_data"
    },
    {
     "name": "stdout",
     "output_type": "stream",
     "text": [
      "boat_class\n",
      "power-aft            74831.286\n",
      "power-airboat       139889.000\n",
      "power-aluminum       26790.278\n",
      "power-antique        92108.256\n",
      "power-barge        3691633.333\n",
      "                       ...    \n",
      "sail-unspec          37249.500\n",
      "sail-yawl            99500.000\n",
      "unpowered-dinghy      3520.000\n",
      "unpowered-kayak       1956.474\n",
      "unpowered-tender      6179.583\n",
      "Name: price, Length: 72, dtype: float64\n"
     ]
    },
    {
     "data": {
      "text/plain": "<Figure size 800x300 with 2 Axes>",
      "image/png": "[encoded data removed]"
     },
     "metadata": {},
     "output_type": "display_data"
    },
    {
     "name": "stdout",
     "output_type": "stream",
     "text": [
      "condition\n",
      "new    1033893.184\n",
      "used     86179.240\n",
      "Name: price, dtype: float64\n"
     ]
    },
    {
     "data": {
      "text/plain": "<Figure size 800x300 with 2 Axes>",
      "image/png": "[encoded data removed]"
     },
     "metadata": {},
     "output_type": "display_data"
    },
    {
     "name": "stdout",
     "output_type": "stream",
     "text": [
      "hull_material\n",
      "aluminum          33703.115\n",
      "composite      69445103.581\n",
      "ferro-cement      27334.091\n",
      "fiberglass        95316.701\n",
      "hypalon           31693.842\n",
      "other             39516.191\n",
      "pvc                6587.182\n",
      "steel            914488.920\n",
      "wood             118463.746\n",
      "Name: price, dtype: float64\n"
     ]
    },
    {
     "data": {
      "text/plain": "<Figure size 800x300 with 2 Axes>",
      "image/png": "[encoded data removed]"
     },
     "metadata": {},
     "output_type": "display_data"
    },
    {
     "name": "stdout",
     "output_type": "stream",
     "text": [
      "fuel_type\n",
      "diesel      391092.310\n",
      "electric     72989.769\n",
      "gasoline   1788027.215\n",
      "other        48255.354\n",
      "Name: price, dtype: float64\n"
     ]
    }
   ],
   "source": [
    "# Plotting categoric variables to observe their distributions\n",
    "for col in cat_cols:\n",
    "    eda.cat_summary(df,col)"
   ],
   "metadata": {
    "collapsed": false,
    "ExecuteTime": {
     "end_time": "2025-03-12T18:14:25.433925800Z",
     "start_time": "2025-03-12T18:14:21.326426400Z"
    }
   },
   "id": "4aca2c2fcc2b0670"
  },
  {
   "cell_type": "markdown",
   "source": [
    "## Numeric Variables"
   ],
   "metadata": {
    "collapsed": false
   },
   "id": "28e7622f06606dac"
  },
  {
   "cell_type": "code",
   "execution_count": 94,
   "outputs": [],
   "source": [
    "# Taking sample due to excessively high response time for plotting numeric variables on full dataset\n",
    "df_samp = df.sample(2000)"
   ],
   "metadata": {
    "collapsed": false,
    "ExecuteTime": {
     "end_time": "2025-03-12T18:14:25.465546900Z",
     "start_time": "2025-03-12T18:14:25.402266700Z"
    }
   },
   "id": "42c0aa8c3130b618"
  },
  {
   "cell_type": "code",
   "execution_count": 95,
   "outputs": [
    {
     "data": {
      "text/plain": "<Figure size 800x300 with 2 Axes>",
      "image/png": "[encoded data removed]"
     },
     "metadata": {},
     "output_type": "display_data"
    },
    {
     "data": {
      "text/plain": "<Figure size 800x300 with 2 Axes>",
      "image/png": "[encoded data removed]"
     },
     "metadata": {},
     "output_type": "display_data"
    },
    {
     "data": {
      "text/plain": "<Figure size 800x300 with 2 Axes>",
      "image/png": "[encoded data removed]"
     },
     "metadata": {},
     "output_type": "display_data"
    },
    {
     "data": {
      "text/plain": "<Figure size 800x300 with 2 Axes>",
      "image/png": "[encoded data removed]"
     },
     "metadata": {},
     "output_type": "display_data"
    },
    {
     "data": {
      "text/plain": "<Figure size 800x300 with 2 Axes>",
      "image/png": "[encoded data removed]"
     },
     "metadata": {},
     "output_type": "display_data"
    },
    {
     "data": {
      "text/plain": "<Figure size 800x300 with 2 Axes>",
      "image/png": "[encoded data removed]"
     },
     "metadata": {},
     "output_type": "display_data"
    }
   ],
   "source": [
    "# Plotting numeric variables to observe their distributions and outliers\n",
    "for col in num_cols:\n",
    "    eda.num_summary(df_samp,col)"
   ],
   "metadata": {
    "collapsed": false,
    "ExecuteTime": {
     "end_time": "2025-03-12T18:14:35.741734300Z",
     "start_time": "2025-03-12T18:14:25.421455900Z"
    }
   },
   "id": "90227841399d106a"
  },
  {
   "cell_type": "code",
   "execution_count": 96,
   "outputs": [
    {
     "data": {
      "text/plain": "<Figure size 800x300 with 2 Axes>",
      "image/png": "[encoded data removed]"
     },
     "metadata": {},
     "output_type": "display_data"
    }
   ],
   "source": [
    "# Correlation plot\n",
    "eda.corr_analysis(df,num_cols)"
   ],
   "metadata": {
    "collapsed": false,
    "ExecuteTime": {
     "end_time": "2025-03-12T18:14:36.042647900Z",
     "start_time": "2025-03-12T18:14:35.729361300Z"
    }
   },
   "id": "8e1e22f8ee3d917e"
  },
  {
   "cell_type": "markdown",
   "source": [
    "# Data Preprocessing"
   ],
   "metadata": {
    "collapsed": false
   },
   "id": "890aa0c8fe801f27"
  },
  {
   "cell_type": "markdown",
   "source": [
    "## Duplicated records"
   ],
   "metadata": {
    "collapsed": false
   },
   "id": "73f99aabf6ba6376"
  },
  {
   "cell_type": "code",
   "execution_count": 97,
   "outputs": [
    {
     "data": {
      "text/plain": "        type  boat_class  year condition  length_ft  beam_ft hull_material fuel_type  num_engines  total_hp       price\n12957  power   power-jon  2017       new     10.000    3.830      aluminum       NaN            1     0.000     519.000\n10581  power   power-jon  2016       new     10.000    3.830      aluminum       NaN            1     0.000     519.000\n10578  power   power-jon  2017       new     10.000    3.830      aluminum       NaN            1     0.000     519.000\n10574  power   power-jon  2016       new     10.000    3.830      aluminum       NaN            1     0.000     519.000\n10085  power   power-jon  2017       new     10.000    3.830      aluminum       NaN            1     0.000     519.000\n...      ...         ...   ...       ...        ...      ...           ...       ...          ...       ...         ...\n62     power  power-mega  2019       new     48.000      NaN    fiberglass    diesel            2   870.000  799000.000\n50     power  power-mega  2019       new     50.000      NaN    fiberglass    diesel            2  1340.000 1099000.000\n49     power  power-mega  2019       new     50.000      NaN    fiberglass    diesel            2  1340.000 1099000.000\n54     power  power-mega  2019       new     51.000      NaN    fiberglass    diesel            2  1340.000 1225000.000\n64     power  power-mega  2019       new     51.000      NaN    fiberglass    diesel            2  1340.000 1225000.000\n\n[5915 rows x 11 columns]",
      "text/html": "<div>\n<style scoped>\n    .dataframe tbody tr th:only-of-type {\n        vertical-align: middle;\n    }\n\n    .dataframe tbody tr th {\n        vertical-align: top;\n    }\n\n    .dataframe thead th {\n        text-align: right;\n    }\n</style>\n<table border=\"1\" class=\"dataframe\">\n  <thead>\n    <tr style=\"text-align: right;\">\n      <th></th>\n      <th>type</th>\n      <th>boat_class</th>\n      <th>year</th>\n      <th>condition</th>\n      <th>length_ft</th>\n      <th>beam_ft</th>\n      <th>hull_material</th>\n      <th>fuel_type</th>\n      <th>num_engines</th>\n      <th>total_hp</th>\n      <th>price</th>\n    </tr>\n  </thead>\n  <tbody>\n    <tr>\n      <th>12957</th>\n      <td>power</td>\n      <td>power-jon</td>\n      <td>2017</td>\n      <td>new</td>\n      <td>10.000</td>\n      <td>3.830</td>\n      <td>aluminum</td>\n      <td>NaN</td>\n      <td>1</td>\n      <td>0.000</td>\n      <td>519.000</td>\n    </tr>\n    <tr>\n      <th>10581</th>\n      <td>power</td>\n      <td>power-jon</td>\n      <td>2016</td>\n      <td>new</td>\n      <td>10.000</td>\n      <td>3.830</td>\n      <td>aluminum</td>\n      <td>NaN</td>\n      <td>1</td>\n      <td>0.000</td>\n      <td>519.000</td>\n    </tr>\n    <tr>\n      <th>10578</th>\n      <td>power</td>\n      <td>power-jon</td>\n      <td>2017</td>\n      <td>new</td>\n      <td>10.000</td>\n      <td>3.830</td>\n      <td>aluminum</td>\n      <td>NaN</td>\n      <td>1</td>\n      <td>0.000</td>\n      <td>519.000</td>\n    </tr>\n    <tr>\n      <th>10574</th>\n      <td>power</td>\n      <td>power-jon</td>\n      <td>2016</td>\n      <td>new</td>\n      <td>10.000</td>\n      <td>3.830</td>\n      <td>aluminum</td>\n      <td>NaN</td>\n      <td>1</td>\n      <td>0.000</td>\n      <td>519.000</td>\n    </tr>\n    <tr>\n      <th>10085</th>\n      <td>power</td>\n      <td>power-jon</td>\n      <td>2017</td>\n      <td>new</td>\n      <td>10.000</td>\n      <td>3.830</td>\n      <td>aluminum</td>\n      <td>NaN</td>\n      <td>1</td>\n      <td>0.000</td>\n      <td>519.000</td>\n    </tr>\n    <tr>\n      <th>...</th>\n      <td>...</td>\n      <td>...</td>\n      <td>...</td>\n      <td>...</td>\n      <td>...</td>\n      <td>...</td>\n      <td>...</td>\n      <td>...</td>\n      <td>...</td>\n      <td>...</td>\n      <td>...</td>\n    </tr>\n    <tr>\n      <th>62</th>\n      <td>power</td>\n      <td>power-mega</td>\n      <td>2019</td>\n      <td>new</td>\n      <td>48.000</td>\n      <td>NaN</td>\n      <td>fiberglass</td>\n      <td>diesel</td>\n      <td>2</td>\n      <td>870.000</td>\n      <td>799000.000</td>\n    </tr>\n    <tr>\n      <th>50</th>\n      <td>power</td>\n      <td>power-mega</td>\n      <td>2019</td>\n      <td>new</td>\n      <td>50.000</td>\n      <td>NaN</td>\n      <td>fiberglass</td>\n      <td>diesel</td>\n      <td>2</td>\n      <td>1340.000</td>\n      <td>1099000.000</td>\n    </tr>\n    <tr>\n      <th>49</th>\n      <td>power</td>\n      <td>power-mega</td>\n      <td>2019</td>\n      <td>new</td>\n      <td>50.000</td>\n      <td>NaN</td>\n      <td>fiberglass</td>\n      <td>diesel</td>\n      <td>2</td>\n      <td>1340.000</td>\n      <td>1099000.000</td>\n    </tr>\n    <tr>\n      <th>54</th>\n      <td>power</td>\n      <td>power-mega</td>\n      <td>2019</td>\n      <td>new</td>\n      <td>51.000</td>\n      <td>NaN</td>\n      <td>fiberglass</td>\n      <td>diesel</td>\n      <td>2</td>\n      <td>1340.000</td>\n      <td>1225000.000</td>\n    </tr>\n    <tr>\n      <th>64</th>\n      <td>power</td>\n      <td>power-mega</td>\n      <td>2019</td>\n      <td>new</td>\n      <td>51.000</td>\n      <td>NaN</td>\n      <td>fiberglass</td>\n      <td>diesel</td>\n      <td>2</td>\n      <td>1340.000</td>\n      <td>1225000.000</td>\n    </tr>\n  </tbody>\n</table>\n<p>5915 rows × 11 columns</p>\n</div>"
     },
     "execution_count": 97,
     "metadata": {},
     "output_type": "execute_result"
    }
   ],
   "source": [
    "# Observing duplicated records\n",
    "df[df.duplicated(keep=False)].sort_values(by=\"price\")"
   ],
   "metadata": {
    "collapsed": false,
    "ExecuteTime": {
     "end_time": "2025-03-12T18:14:36.079591600Z",
     "start_time": "2025-03-12T18:14:36.038351500Z"
    }
   },
   "id": "df4e040770d9f4e7"
  },
  {
   "cell_type": "code",
   "execution_count": 98,
   "outputs": [],
   "source": [
    "# Dropping them\n",
    "df.drop_duplicates(inplace=True)"
   ],
   "metadata": {
    "collapsed": false,
    "ExecuteTime": {
     "end_time": "2025-03-12T18:14:36.126853800Z",
     "start_time": "2025-03-12T18:14:36.079591600Z"
    }
   },
   "id": "5e1135b184d0405f"
  },
  {
   "cell_type": "code",
   "execution_count": 99,
   "outputs": [
    {
     "data": {
      "text/plain": "0"
     },
     "execution_count": 99,
     "metadata": {},
     "output_type": "execute_result"
    }
   ],
   "source": [
    "# Checking\n",
    "df.duplicated().sum()"
   ],
   "metadata": {
    "collapsed": false,
    "ExecuteTime": {
     "end_time": "2025-03-12T18:14:36.222517900Z",
     "start_time": "2025-03-12T18:14:36.111087200Z"
    }
   },
   "id": "8620f65f560b9652"
  },
  {
   "cell_type": "markdown",
   "source": [
    "## Missing Values"
   ],
   "metadata": {
    "collapsed": false
   },
   "id": "bab465973eb55614"
  },
  {
   "cell_type": "code",
   "execution_count": 100,
   "outputs": [
    {
     "data": {
      "text/plain": "<Figure size 2500x1000 with 2 Axes>",
      "image/png": "[encoded data removed]"
     },
     "metadata": {},
     "output_type": "display_data"
    }
   ],
   "source": [
    "# Observing nulls using missingno library\n",
    "msno.matrix(df)\n",
    "plt.show()"
   ],
   "metadata": {
    "collapsed": false,
    "ExecuteTime": {
     "end_time": "2025-03-12T18:14:37.329721200Z",
     "start_time": "2025-03-12T18:14:36.142961600Z"
    }
   },
   "id": "5e9af3df7b4941e4"
  },
  {
   "cell_type": "code",
   "execution_count": 101,
   "outputs": [],
   "source": [
    "# Setting total_hp null records to 0, since the records having 0 engines' total_hp were filled null\n",
    "df[\"total_hp\"].fillna(0,inplace=True)"
   ],
   "metadata": {
    "collapsed": false,
    "ExecuteTime": {
     "end_time": "2025-03-12T18:14:37.542206200Z",
     "start_time": "2025-03-12T18:14:37.329721200Z"
    }
   },
   "id": "e87fab4b976c678f"
  },
  {
   "cell_type": "code",
   "execution_count": 102,
   "outputs": [],
   "source": [
    "# Filling nulls according to their corresponding categorics\n",
    "data_prep.fill_nulls(df)"
   ],
   "metadata": {
    "collapsed": false,
    "ExecuteTime": {
     "end_time": "2025-03-12T18:14:37.769650300Z",
     "start_time": "2025-03-12T18:14:37.361431900Z"
    }
   },
   "id": "6ea15a877d56af"
  },
  {
   "cell_type": "code",
   "execution_count": 103,
   "outputs": [
    {
     "data": {
      "text/plain": "False"
     },
     "execution_count": 103,
     "metadata": {},
     "output_type": "execute_result"
    }
   ],
   "source": [
    "# Checking\n",
    "df.isna().sum().any()"
   ],
   "metadata": {
    "collapsed": false,
    "ExecuteTime": {
     "end_time": "2025-03-12T18:14:37.857401300Z",
     "start_time": "2025-03-12T18:14:37.769650300Z"
    }
   },
   "id": "20e4f2f78dd15997"
  },
  {
   "cell_type": "markdown",
   "source": [
    "## Outlier Handling"
   ],
   "metadata": {
    "collapsed": false
   },
   "id": "4a902c01a805811"
  },
  {
   "cell_type": "code",
   "execution_count": 104,
   "outputs": [
    {
     "name": "stdout",
     "output_type": "stream",
     "text": [
      "YEAR\n",
      "# of outliers: 9\n",
      "\n",
      "LENGTH_FT\n",
      "# of outliers: 85\n",
      "\n",
      "BEAM_FT\n",
      "# of outliers: 6\n",
      "\n",
      "TOTAL_HP\n",
      "# of outliers: 101\n",
      "\n",
      "PRICE\n",
      "# of outliers: 257\n"
     ]
    }
   ],
   "source": [
    "# Showing # of outliers and replacing outliers \n",
    "for col in num_cols:\n",
    "    if data_prep.check_outliers(df,col):\n",
    "        print(f\"{col.upper()}\")\n",
    "        print(f\"# of outliers: {len(data_prep.get_outliers(df,col))}\\n\")\n",
    "        data_prep.replace_outliers(df,col)"
   ],
   "metadata": {
    "collapsed": false,
    "ExecuteTime": {
     "end_time": "2025-03-12T18:14:37.984210700Z",
     "start_time": "2025-03-12T18:14:37.807504500Z"
    }
   },
   "id": "9c5a85af84fc0810"
  },
  {
   "cell_type": "markdown",
   "source": [
    "# Feature Extraction"
   ],
   "metadata": {
    "collapsed": false
   },
   "id": "c0371005a507d758"
  },
  {
   "cell_type": "code",
   "execution_count": 105,
   "outputs": [],
   "source": [
    "# Feature extraction pipeline\n",
    "df = feat_eng.feat_extract(df)"
   ],
   "metadata": {
    "collapsed": false,
    "ExecuteTime": {
     "end_time": "2025-03-12T18:14:38.064034600Z",
     "start_time": "2025-03-12T18:14:37.978144600Z"
    }
   },
   "id": "c70bd0e471e56e7d"
  },
  {
   "cell_type": "code",
   "execution_count": 106,
   "outputs": [
    {
     "name": "stdout",
     "output_type": "stream",
     "text": [
      "************************* SUMMARY **************************\n",
      "# of categoric variables: 5\n",
      "['type', 'condition', 'hull_material', 'fuel_type', 'class']\n",
      "# of numeric variables: 9\n",
      "['length_ft', 'beam_ft', 'num_engines', 'total_hp', 'price', 'length_beam', 'hp_per_lb', 'hp_per_engine', 'boat_age']\n"
     ]
    }
   ],
   "source": [
    "# Grabbing columns and showing results after feature extraction\n",
    "num_cols, cat_cols = eda.grab_cols(df,True)"
   ],
   "metadata": {
    "collapsed": false,
    "ExecuteTime": {
     "end_time": "2025-03-12T18:14:38.122833Z",
     "start_time": "2025-03-12T18:14:38.042257400Z"
    }
   },
   "id": "60f9d538d3a54079"
  },
  {
   "cell_type": "markdown",
   "source": [
    "# Encoding"
   ],
   "metadata": {
    "collapsed": false
   },
   "id": "28328c2ed7576d3d"
  },
  {
   "cell_type": "markdown",
   "source": [
    "## Rare Encoding"
   ],
   "metadata": {
    "collapsed": false
   },
   "id": "1d0f6bd09171b84b"
  },
  {
   "cell_type": "code",
   "execution_count": 107,
   "outputs": [],
   "source": [
    "feat_eng.rare_encoding(df,\"hull_material\",0.2,\"other\")\n",
    "feat_eng.rare_encoding(df,\"class\",0.04,\"other\")\n",
    "feat_eng.rare_encoding(df,\"type\",0.5,\"unpowered\")"
   ],
   "metadata": {
    "collapsed": false,
    "ExecuteTime": {
     "end_time": "2025-03-12T18:14:38.249458300Z",
     "start_time": "2025-03-12T18:14:38.080164800Z"
    }
   },
   "id": "54f668bc65ef2926"
  },
  {
   "cell_type": "markdown",
   "source": [
    "## One Hot Encoding "
   ],
   "metadata": {
    "collapsed": false
   },
   "id": "844ac732e556a43d"
  },
  {
   "cell_type": "code",
   "execution_count": 108,
   "outputs": [],
   "source": [
    "# OHE for categoric variables, I could use label encoding/mapping as Yunus Emre Gündoğmuş preferred.\n",
    "df = pd.get_dummies(df,columns=cat_cols,drop_first=True,dtype=\"int\")"
   ],
   "metadata": {
    "collapsed": false,
    "ExecuteTime": {
     "end_time": "2025-03-12T18:14:38.249458300Z",
     "start_time": "2025-03-12T18:14:38.112004900Z"
    }
   },
   "id": "e374becfdd77c9fa"
  },
  {
   "cell_type": "code",
   "execution_count": 109,
   "outputs": [
    {
     "data": {
      "text/plain": "   length_ft  beam_ft  num_engines  total_hp      price  length_beam  hp_per_lb  hp_per_engine  boat_age  type_unpowered  condition_used  hull_material_fiberglass  hull_material_other  fuel_type_electric  fuel_type_gasoline  fuel_type_other  class_bass  class_bowrider  class_center  class_cruiser  class_other  class_pontoon  class_skiwake\n1     21.000    8.500            1   150.000  16500.000      178.500      0.840        150.000        33               0               1                         1                    0                   0                   1                0           0               0             1              0            0              0              0\n3     40.000   11.000            2   800.000 491749.000      440.000      1.818        400.000         7               0               1                         1                    0                   0                   0                0           0               0             0              0            1              0              0\n5     18.000    7.420            1    75.000  26995.000      133.560      0.562         75.000         5               0               0                         1                    0                   0                   1                0           0               0             0              0            1              0              0\n6     32.000   10.330            2   600.000 169995.000      330.560      1.815        300.000        10               0               1                         1                    0                   0                   1                0           0               0             0              0            1              0              0\n8     44.000   15.000            2   700.000 109900.000      660.000      1.061        350.000        31               0               1                         1                    0                   0                   0                0           0               0             0              0            1              0              0",
      "text/html": "<div>\n<style scoped>\n    .dataframe tbody tr th:only-of-type {\n        vertical-align: middle;\n    }\n\n    .dataframe tbody tr th {\n        vertical-align: top;\n    }\n\n    .dataframe thead th {\n        text-align: right;\n    }\n</style>\n<table border=\"1\" class=\"dataframe\">\n  <thead>\n    <tr style=\"text-align: right;\">\n      <th></th>\n      <th>length_ft</th>\n      <th>beam_ft</th>\n      <th>num_engines</th>\n      <th>total_hp</th>\n      <th>price</th>\n      <th>length_beam</th>\n      <th>hp_per_lb</th>\n      <th>hp_per_engine</th>\n      <th>boat_age</th>\n      <th>type_unpowered</th>\n      <th>condition_used</th>\n      <th>hull_material_fiberglass</th>\n      <th>hull_material_other</th>\n      <th>fuel_type_electric</th>\n      <th>fuel_type_gasoline</th>\n      <th>fuel_type_other</th>\n      <th>class_bass</th>\n      <th>class_bowrider</th>\n      <th>class_center</th>\n      <th>class_cruiser</th>\n      <th>class_other</th>\n      <th>class_pontoon</th>\n      <th>class_skiwake</th>\n    </tr>\n  </thead>\n  <tbody>\n    <tr>\n      <th>1</th>\n      <td>21.000</td>\n      <td>8.500</td>\n      <td>1</td>\n      <td>150.000</td>\n      <td>16500.000</td>\n      <td>178.500</td>\n      <td>0.840</td>\n      <td>150.000</td>\n      <td>33</td>\n      <td>0</td>\n      <td>1</td>\n      <td>1</td>\n      <td>0</td>\n      <td>0</td>\n      <td>1</td>\n      <td>0</td>\n      <td>0</td>\n      <td>0</td>\n      <td>1</td>\n      <td>0</td>\n      <td>0</td>\n      <td>0</td>\n      <td>0</td>\n    </tr>\n    <tr>\n      <th>3</th>\n      <td>40.000</td>\n      <td>11.000</td>\n      <td>2</td>\n      <td>800.000</td>\n      <td>491749.000</td>\n      <td>440.000</td>\n      <td>1.818</td>\n      <td>400.000</td>\n      <td>7</td>\n      <td>0</td>\n      <td>1</td>\n      <td>1</td>\n      <td>0</td>\n      <td>0</td>\n      <td>0</td>\n      <td>0</td>\n      <td>0</td>\n      <td>0</td>\n      <td>0</td>\n      <td>0</td>\n      <td>1</td>\n      <td>0</td>\n      <td>0</td>\n    </tr>\n    <tr>\n      <th>5</th>\n      <td>18.000</td>\n      <td>7.420</td>\n      <td>1</td>\n      <td>75.000</td>\n      <td>26995.000</td>\n      <td>133.560</td>\n      <td>0.562</td>\n      <td>75.000</td>\n      <td>5</td>\n      <td>0</td>\n      <td>0</td>\n      <td>1</td>\n      <td>0</td>\n      <td>0</td>\n      <td>1</td>\n      <td>0</td>\n      <td>0</td>\n      <td>0</td>\n      <td>0</td>\n      <td>0</td>\n      <td>1</td>\n      <td>0</td>\n      <td>0</td>\n    </tr>\n    <tr>\n      <th>6</th>\n      <td>32.000</td>\n      <td>10.330</td>\n      <td>2</td>\n      <td>600.000</td>\n      <td>169995.000</td>\n      <td>330.560</td>\n      <td>1.815</td>\n      <td>300.000</td>\n      <td>10</td>\n      <td>0</td>\n      <td>1</td>\n      <td>1</td>\n      <td>0</td>\n      <td>0</td>\n      <td>1</td>\n      <td>0</td>\n      <td>0</td>\n      <td>0</td>\n      <td>0</td>\n      <td>0</td>\n      <td>1</td>\n      <td>0</td>\n      <td>0</td>\n    </tr>\n    <tr>\n      <th>8</th>\n      <td>44.000</td>\n      <td>15.000</td>\n      <td>2</td>\n      <td>700.000</td>\n      <td>109900.000</td>\n      <td>660.000</td>\n      <td>1.061</td>\n      <td>350.000</td>\n      <td>31</td>\n      <td>0</td>\n      <td>1</td>\n      <td>1</td>\n      <td>0</td>\n      <td>0</td>\n      <td>0</td>\n      <td>0</td>\n      <td>0</td>\n      <td>0</td>\n      <td>0</td>\n      <td>0</td>\n      <td>1</td>\n      <td>0</td>\n      <td>0</td>\n    </tr>\n  </tbody>\n</table>\n</div>"
     },
     "execution_count": 109,
     "metadata": {},
     "output_type": "execute_result"
    }
   ],
   "source": [
    "# Final dataframe\n",
    "df.head()"
   ],
   "metadata": {
    "collapsed": false,
    "ExecuteTime": {
     "end_time": "2025-03-12T18:14:38.249458300Z",
     "start_time": "2025-03-12T18:14:38.177500400Z"
    }
   },
   "id": "e1bce3a99151ead5"
  },
  {
   "cell_type": "markdown",
   "source": [
    "# Model Preparation"
   ],
   "metadata": {
    "collapsed": false
   },
   "id": "507a3bb54cca26fe"
  },
  {
   "cell_type": "code",
   "execution_count": 110,
   "outputs": [],
   "source": [
    "# Splitting features and target\n",
    "X = df.drop(\"price\",axis=1)\n",
    "Y = df[\"price\"]"
   ],
   "metadata": {
    "collapsed": false,
    "ExecuteTime": {
     "end_time": "2025-03-12T18:14:38.281111400Z",
     "start_time": "2025-03-12T18:14:38.221955500Z"
    }
   },
   "id": "824a002fb8ac9c36"
  },
  {
   "cell_type": "markdown",
   "source": [
    "## Feature Selection"
   ],
   "metadata": {
    "collapsed": false
   },
   "id": "4b6366ac9061a953"
  },
  {
   "cell_type": "code",
   "execution_count": 111,
   "outputs": [
    {
     "data": {
      "text/plain": "<Figure size 800x300 with 1 Axes>",
      "image/png": "[encoded data removed]"
     },
     "metadata": {},
     "output_type": "display_data"
    }
   ],
   "source": [
    "# Feature selection plot\n",
    "feat_eng.feat_select(X,Y,2,X.shape[1])"
   ],
   "metadata": {
    "collapsed": false,
    "ExecuteTime": {
     "end_time": "2025-03-12T18:16:28.924032800Z",
     "start_time": "2025-03-12T18:14:38.242845Z"
    }
   },
   "id": "bb2c838d357ce155"
  },
  {
   "cell_type": "code",
   "execution_count": 112,
   "outputs": [],
   "source": [
    "# I prefer 10 features and fitting X and Y again\n",
    "feat_selector = SelectKBest(mutual_info_regression,k=10)\n",
    "feat_selector.fit(X,Y);"
   ],
   "metadata": {
    "collapsed": false,
    "ExecuteTime": {
     "end_time": "2025-03-12T18:16:32.776607300Z",
     "start_time": "2025-03-12T18:16:28.924032800Z"
    }
   },
   "id": "fc0d02d6fa41f1bb"
  },
  {
   "cell_type": "code",
   "execution_count": 113,
   "outputs": [
    {
     "data": {
      "text/plain": "Index(['length_ft', 'beam_ft', 'num_engines', 'total_hp', 'length_beam', 'hp_per_lb', 'hp_per_engine', 'boat_age', 'condition_used', 'hull_material_fiberglass'], dtype='object')"
     },
     "execution_count": 113,
     "metadata": {},
     "output_type": "execute_result"
    }
   ],
   "source": [
    "# Selected features\n",
    "selected_feats = X.columns[feat_selector.get_support()]\n",
    "selected_feats"
   ],
   "metadata": {
    "collapsed": false,
    "ExecuteTime": {
     "end_time": "2025-03-12T18:16:32.783658900Z",
     "start_time": "2025-03-12T18:16:32.767940500Z"
    }
   },
   "id": "e8b5a655ead5690e"
  },
  {
   "cell_type": "code",
   "execution_count": 114,
   "outputs": [],
   "source": [
    "# Diminishing data by capturing selected features\n",
    "X = X.loc[:,selected_feats]"
   ],
   "metadata": {
    "collapsed": false,
    "ExecuteTime": {
     "end_time": "2025-03-12T18:16:32.806539100Z",
     "start_time": "2025-03-12T18:16:32.783658900Z"
    }
   },
   "id": "6d88d815f2f6b97"
  },
  {
   "cell_type": "markdown",
   "source": [
    "## Train-Val-Test Split"
   ],
   "metadata": {
    "collapsed": false
   },
   "id": "1bfd6819199acb40"
  },
  {
   "cell_type": "markdown",
   "source": [
    "I split my data as train (~70%), validation (~15%) and test (~20%). Validation for hyperparameter tuning and test for evaluating our metric root mean squared error (rmse)."
   ],
   "metadata": {
    "collapsed": false
   },
   "id": "1fad240877a98bc9"
  },
  {
   "cell_type": "code",
   "execution_count": 115,
   "outputs": [],
   "source": [
    "# Train-Test split\n",
    "x_train, x_test, y_train, y_test = train_test_split(X,Y,test_size=0.2)"
   ],
   "metadata": {
    "collapsed": false,
    "ExecuteTime": {
     "end_time": "2025-03-12T18:16:32.815552600Z",
     "start_time": "2025-03-12T18:16:32.799454800Z"
    }
   },
   "id": "788265536d4c51c"
  },
  {
   "cell_type": "code",
   "execution_count": 116,
   "outputs": [],
   "source": [
    "# Train-Val split\n",
    "x_train, x_val, y_train, y_val = train_test_split(x_train,y_train,test_size=0.15)"
   ],
   "metadata": {
    "collapsed": false,
    "ExecuteTime": {
     "end_time": "2025-03-12T18:16:32.831726800Z",
     "start_time": "2025-03-12T18:16:32.815552600Z"
    }
   },
   "id": "8e6c4c139c1c5c1e"
  },
  {
   "cell_type": "code",
   "execution_count": 117,
   "outputs": [
    {
     "name": "stdout",
     "output_type": "stream",
     "text": [
      "# of train samples 9935\n",
      "# of validation samples 1754\n",
      "# of test samples 2923\n"
     ]
    }
   ],
   "source": [
    "# Showing # of records for each split\n",
    "print(f\"# of train samples {x_train.shape[0]}\")\n",
    "print(f\"# of validation samples {x_val.shape[0]}\")\n",
    "print(f\"# of test samples {x_test.shape[0]}\")"
   ],
   "metadata": {
    "collapsed": false,
    "ExecuteTime": {
     "end_time": "2025-03-12T18:16:32.863127100Z",
     "start_time": "2025-03-12T18:16:32.836807300Z"
    }
   },
   "id": "61a9435913f5c5eb"
  },
  {
   "cell_type": "markdown",
   "source": [
    "## Hyperparameter Tuning"
   ],
   "metadata": {
    "collapsed": false
   },
   "id": "ca30caf9d6f2b6ef"
  },
  {
   "cell_type": "markdown",
   "source": [
    "For HT, I used Optuna library. To use optuna, we need to define an objective function. In this case, we are trying to minimize rmse. [Optuna docs](https://optuna.readthedocs.io/en/stable/reference/optuna.html)"
   ],
   "metadata": {
    "collapsed": false
   },
   "id": "78da78c04d1d0b4e"
  },
  {
   "cell_type": "code",
   "execution_count": 118,
   "outputs": [],
   "source": [
    "def objective(trial:optuna.trial.Trial):\n",
    "    # Determining parameters and their intervals arbitrarily.\n",
    "    params = {\"max_depth\": trial.suggest_int(\"max_depth\",10,25),\n",
    "              \"learning_rate\": trial.suggest_float(\"learning_rate\",0.05,0.2),\n",
    "              \"n_estimators\": trial.suggest_int(\"n_estimators\",300,1000),\n",
    "              \"objective\": trial.suggest_categorical(\"objective\",[\"huber\",\"regression\"])}\n",
    "    \n",
    "    # Initialize model and cross validate\n",
    "    model = LGBMRegressor(verbosity=-1,**params)\n",
    "    score = np.mean(cross_val_score(model,x_val,y_val,scoring=\"neg_mean_squared_error\",cv=3,verbose=0,n_jobs=-1))\n",
    "    \n",
    "    return np.sqrt(-score)"
   ],
   "metadata": {
    "collapsed": false,
    "ExecuteTime": {
     "end_time": "2025-03-12T18:16:32.863127100Z",
     "start_time": "2025-03-12T18:16:32.847443600Z"
    }
   },
   "id": "e5b2ffddd0c633c9"
  },
  {
   "cell_type": "code",
   "execution_count": 119,
   "outputs": [
    {
     "name": "stderr",
     "output_type": "stream",
     "text": [
      "[I 2025-03-12 21:16:32,863] A new study created in memory with name: no-name-65613f47-03d8-4899-9a8a-b75478ed8704\n"
     ]
    }
   ],
   "source": [
    "# Create study \n",
    "study = optuna.create_study(direction=\"minimize\")"
   ],
   "metadata": {
    "collapsed": false,
    "ExecuteTime": {
     "end_time": "2025-03-12T18:16:32.879251100Z",
     "start_time": "2025-03-12T18:16:32.863127100Z"
    }
   },
   "id": "e80164e30580b64a"
  },
  {
   "cell_type": "code",
   "execution_count": 120,
   "outputs": [
    {
     "name": "stderr",
     "output_type": "stream",
     "text": [
      "[I 2025-03-12 21:16:37,352] Trial 0 finished with value: 37260.01998850904 and parameters: {'max_depth': 18, 'learning_rate': 0.19277680592521607, 'n_estimators': 964, 'objective': 'regression'}. Best is trial 0 with value: 37260.01998850904.\n",
      "[I 2025-03-12 21:16:39,660] Trial 1 finished with value: 36201.93821072879 and parameters: {'max_depth': 13, 'learning_rate': 0.09021521954925057, 'n_estimators': 374, 'objective': 'regression'}. Best is trial 1 with value: 36201.93821072879.\n",
      "[I 2025-03-12 21:16:42,721] Trial 2 finished with value: 82862.51727196526 and parameters: {'max_depth': 22, 'learning_rate': 0.18731656585855938, 'n_estimators': 441, 'objective': 'huber'}. Best is trial 1 with value: 36201.93821072879.\n",
      "[I 2025-03-12 21:16:45,990] Trial 3 finished with value: 37197.575479574785 and parameters: {'max_depth': 25, 'learning_rate': 0.1772451541956797, 'n_estimators': 535, 'objective': 'regression'}. Best is trial 1 with value: 36201.93821072879.\n",
      "[I 2025-03-12 21:16:49,976] Trial 4 finished with value: 82880.80071385918 and parameters: {'max_depth': 24, 'learning_rate': 0.06396516217142965, 'n_estimators': 568, 'objective': 'huber'}. Best is trial 1 with value: 36201.93821072879.\n",
      "[I 2025-03-12 21:16:55,185] Trial 5 finished with value: 37424.38450748565 and parameters: {'max_depth': 25, 'learning_rate': 0.15045150885043787, 'n_estimators': 977, 'objective': 'regression'}. Best is trial 1 with value: 36201.93821072879.\n",
      "[I 2025-03-12 21:17:01,192] Trial 6 finished with value: 37215.70696946487 and parameters: {'max_depth': 15, 'learning_rate': 0.13998962178765179, 'n_estimators': 829, 'objective': 'regression'}. Best is trial 1 with value: 36201.93821072879.\n",
      "[I 2025-03-12 21:17:06,620] Trial 7 finished with value: 82848.91715439475 and parameters: {'max_depth': 17, 'learning_rate': 0.12258591755400354, 'n_estimators': 955, 'objective': 'huber'}. Best is trial 1 with value: 36201.93821072879.\n",
      "[I 2025-03-12 21:17:10,990] Trial 8 finished with value: 82881.96661909895 and parameters: {'max_depth': 22, 'learning_rate': 0.051678166095326564, 'n_estimators': 646, 'objective': 'huber'}. Best is trial 1 with value: 36201.93821072879.\n",
      "[I 2025-03-12 21:17:14,876] Trial 9 finished with value: 36544.36522685074 and parameters: {'max_depth': 13, 'learning_rate': 0.11348268757660254, 'n_estimators': 662, 'objective': 'regression'}. Best is trial 1 with value: 36201.93821072879.\n",
      "[I 2025-03-12 21:17:16,328] Trial 10 finished with value: 35535.78571569014 and parameters: {'max_depth': 12, 'learning_rate': 0.08710561808420092, 'n_estimators': 355, 'objective': 'regression'}. Best is trial 10 with value: 35535.78571569014.\n",
      "[I 2025-03-12 21:17:17,380] Trial 11 finished with value: 35960.24932490225 and parameters: {'max_depth': 10, 'learning_rate': 0.08780264568650334, 'n_estimators': 309, 'objective': 'regression'}. Best is trial 10 with value: 35535.78571569014.\n",
      "[I 2025-03-12 21:17:18,357] Trial 12 finished with value: 35576.64550052314 and parameters: {'max_depth': 10, 'learning_rate': 0.08541089285015413, 'n_estimators': 309, 'objective': 'regression'}. Best is trial 10 with value: 35535.78571569014.\n",
      "[I 2025-03-12 21:17:19,398] Trial 13 finished with value: 35774.29138207075 and parameters: {'max_depth': 10, 'learning_rate': 0.08889291526201357, 'n_estimators': 302, 'objective': 'regression'}. Best is trial 10 with value: 35535.78571569014.\n",
      "[I 2025-03-12 21:17:21,187] Trial 14 finished with value: 35742.96562723121 and parameters: {'max_depth': 12, 'learning_rate': 0.0762603445853429, 'n_estimators': 452, 'objective': 'regression'}. Best is trial 10 with value: 35535.78571569014.\n",
      "[I 2025-03-12 21:17:23,375] Trial 15 finished with value: 36094.74652206635 and parameters: {'max_depth': 16, 'learning_rate': 0.10483624703358249, 'n_estimators': 414, 'objective': 'regression'}. Best is trial 10 with value: 35535.78571569014.\n",
      "[I 2025-03-12 21:17:25,270] Trial 16 finished with value: 35733.101481578466 and parameters: {'max_depth': 11, 'learning_rate': 0.10346561236215164, 'n_estimators': 529, 'objective': 'regression'}. Best is trial 10 with value: 35535.78571569014.\n",
      "[I 2025-03-12 21:17:27,690] Trial 17 finished with value: 36335.95661533981 and parameters: {'max_depth': 14, 'learning_rate': 0.06939221148612248, 'n_estimators': 764, 'objective': 'regression'}. Best is trial 10 with value: 35535.78571569014.\n",
      "[I 2025-03-12 21:17:28,967] Trial 18 finished with value: 82874.42713261134 and parameters: {'max_depth': 18, 'learning_rate': 0.14371054755776275, 'n_estimators': 365, 'objective': 'huber'}. Best is trial 10 with value: 35535.78571569014.\n",
      "[I 2025-03-12 21:17:30,706] Trial 19 finished with value: 35800.88193163616 and parameters: {'max_depth': 20, 'learning_rate': 0.053241220687683784, 'n_estimators': 480, 'objective': 'regression'}. Best is trial 10 with value: 35535.78571569014.\n",
      "[I 2025-03-12 21:17:32,807] Trial 20 finished with value: 36848.89163761218 and parameters: {'max_depth': 12, 'learning_rate': 0.1618282938270916, 'n_estimators': 625, 'objective': 'regression'}. Best is trial 10 with value: 35535.78571569014.\n",
      "[I 2025-03-12 21:17:34,185] Trial 21 finished with value: 36137.9410976568 and parameters: {'max_depth': 11, 'learning_rate': 0.10217870462710468, 'n_estimators': 540, 'objective': 'regression'}. Best is trial 10 with value: 35535.78571569014.\n",
      "[I 2025-03-12 21:17:35,096] Trial 22 finished with value: 35699.811662917156 and parameters: {'max_depth': 10, 'learning_rate': 0.10198949412602516, 'n_estimators': 363, 'objective': 'regression'}. Best is trial 10 with value: 35535.78571569014.\n",
      "[I 2025-03-12 21:17:36,173] Trial 23 finished with value: 35934.25383877437 and parameters: {'max_depth': 10, 'learning_rate': 0.12493956211913794, 'n_estimators': 366, 'objective': 'regression'}. Best is trial 10 with value: 35535.78571569014.\n",
      "[I 2025-03-12 21:17:37,384] Trial 24 finished with value: 35858.64610047449 and parameters: {'max_depth': 12, 'learning_rate': 0.07878399367091724, 'n_estimators': 333, 'objective': 'regression'}. Best is trial 10 with value: 35535.78571569014.\n",
      "[I 2025-03-12 21:17:38,929] Trial 25 finished with value: 36030.84202926536 and parameters: {'max_depth': 14, 'learning_rate': 0.09635361486434263, 'n_estimators': 406, 'objective': 'regression'}. Best is trial 10 with value: 35535.78571569014.\n",
      "[I 2025-03-12 21:17:40,941] Trial 26 finished with value: 82873.8204705164 and parameters: {'max_depth': 11, 'learning_rate': 0.11154943773696578, 'n_estimators': 484, 'objective': 'huber'}. Best is trial 10 with value: 35535.78571569014.\n",
      "[I 2025-03-12 21:17:42,083] Trial 27 finished with value: 35923.4208518863 and parameters: {'max_depth': 14, 'learning_rate': 0.08007042832136314, 'n_estimators': 352, 'objective': 'regression'}. Best is trial 10 with value: 35535.78571569014.\n",
      "[I 2025-03-12 21:17:43,201] Trial 28 finished with value: 35885.20752352767 and parameters: {'max_depth': 10, 'learning_rate': 0.06628607791487653, 'n_estimators': 405, 'objective': 'regression'}. Best is trial 10 with value: 35535.78571569014.\n",
      "[I 2025-03-12 21:17:44,551] Trial 29 finished with value: 35799.32786396431 and parameters: {'max_depth': 16, 'learning_rate': 0.1147990129275799, 'n_estimators': 300, 'objective': 'regression'}. Best is trial 10 with value: 35535.78571569014.\n",
      "[I 2025-03-12 21:17:46,652] Trial 30 finished with value: 36810.36283246041 and parameters: {'max_depth': 13, 'learning_rate': 0.12943477814419052, 'n_estimators': 592, 'objective': 'regression'}. Best is trial 10 with value: 35535.78571569014.\n",
      "[I 2025-03-12 21:17:48,349] Trial 31 finished with value: 36055.60687282573 and parameters: {'max_depth': 11, 'learning_rate': 0.09930779712650784, 'n_estimators': 504, 'objective': 'regression'}. Best is trial 10 with value: 35535.78571569014.\n",
      "[I 2025-03-12 21:17:49,398] Trial 32 finished with value: 35928.477696759546 and parameters: {'max_depth': 11, 'learning_rate': 0.09028574905594734, 'n_estimators': 402, 'objective': 'regression'}. Best is trial 10 with value: 35535.78571569014.\n",
      "[I 2025-03-12 21:17:50,679] Trial 33 finished with value: 36172.70490808085 and parameters: {'max_depth': 12, 'learning_rate': 0.10846199881902115, 'n_estimators': 446, 'objective': 'regression'}. Best is trial 10 with value: 35535.78571569014.\n",
      "[I 2025-03-12 21:17:52,395] Trial 34 finished with value: 36250.47071029854 and parameters: {'max_depth': 10, 'learning_rate': 0.09550521671421594, 'n_estimators': 742, 'objective': 'regression'}. Best is trial 10 with value: 35535.78571569014.\n",
      "[I 2025-03-12 21:17:53,452] Trial 35 finished with value: 35627.371665031125 and parameters: {'max_depth': 13, 'learning_rate': 0.07750896486906113, 'n_estimators': 363, 'objective': 'regression'}. Best is trial 10 with value: 35535.78571569014.\n",
      "[I 2025-03-12 21:17:54,850] Trial 36 finished with value: 82885.78473192937 and parameters: {'max_depth': 13, 'learning_rate': 0.06147748606000576, 'n_estimators': 386, 'objective': 'huber'}. Best is trial 10 with value: 35535.78571569014.\n",
      "[I 2025-03-12 21:17:56,023] Trial 37 finished with value: 35854.43610392248 and parameters: {'max_depth': 15, 'learning_rate': 0.08020735777270194, 'n_estimators': 357, 'objective': 'regression'}. Best is trial 10 with value: 35535.78571569014.\n",
      "[I 2025-03-12 21:17:57,892] Trial 38 finished with value: 35523.51540271344 and parameters: {'max_depth': 19, 'learning_rate': 0.07256732849210039, 'n_estimators': 441, 'objective': 'regression'}. Best is trial 38 with value: 35523.51540271344.\n",
      "[I 2025-03-12 21:17:59,585] Trial 39 finished with value: 82884.99620699287 and parameters: {'max_depth': 19, 'learning_rate': 0.058596673285263655, 'n_estimators': 439, 'objective': 'huber'}. Best is trial 38 with value: 35523.51540271344.\n",
      "[I 2025-03-12 21:18:01,120] Trial 40 finished with value: 35634.79622139427 and parameters: {'max_depth': 21, 'learning_rate': 0.07202499621580598, 'n_estimators': 340, 'objective': 'regression'}. Best is trial 38 with value: 35523.51540271344.\n",
      "[I 2025-03-12 21:18:02,437] Trial 41 finished with value: 35933.91939982222 and parameters: {'max_depth': 21, 'learning_rate': 0.07153080258094802, 'n_estimators': 331, 'objective': 'regression'}. Best is trial 38 with value: 35523.51540271344.\n",
      "[I 2025-03-12 21:18:03,709] Trial 42 finished with value: 35460.18753597403 and parameters: {'max_depth': 23, 'learning_rate': 0.08502261725997753, 'n_estimators': 322, 'objective': 'regression'}. Best is trial 42 with value: 35460.18753597403.\n",
      "[I 2025-03-12 21:18:08,293] Trial 43 finished with value: 36917.70181942517 and parameters: {'max_depth': 24, 'learning_rate': 0.08812808239846646, 'n_estimators': 908, 'objective': 'regression'}. Best is trial 42 with value: 35460.18753597403.\n",
      "[I 2025-03-12 21:18:11,822] Trial 44 finished with value: 36098.87909250839 and parameters: {'max_depth': 23, 'learning_rate': 0.08549526353531559, 'n_estimators': 437, 'objective': 'regression'}. Best is trial 42 with value: 35460.18753597403.\n",
      "[I 2025-03-12 21:18:13,373] Trial 45 finished with value: 36812.00982367609 and parameters: {'max_depth': 17, 'learning_rate': 0.19875603037905124, 'n_estimators': 321, 'objective': 'regression'}. Best is trial 42 with value: 35460.18753597403.\n",
      "[I 2025-03-12 21:18:15,048] Trial 46 finished with value: 35706.5465372647 and parameters: {'max_depth': 25, 'learning_rate': 0.0587381308506237, 'n_estimators': 390, 'objective': 'regression'}. Best is trial 42 with value: 35460.18753597403.\n",
      "[I 2025-03-12 21:18:17,201] Trial 47 finished with value: 82879.65957135978 and parameters: {'max_depth': 23, 'learning_rate': 0.0830885884954539, 'n_estimators': 472, 'objective': 'huber'}. Best is trial 42 with value: 35460.18753597403.\n",
      "[I 2025-03-12 21:18:18,843] Trial 48 finished with value: 35548.52362593448 and parameters: {'max_depth': 19, 'learning_rate': 0.07339303598474742, 'n_estimators': 300, 'objective': 'regression'}. Best is trial 42 with value: 35460.18753597403.\n",
      "[I 2025-03-12 21:18:20,968] Trial 49 finished with value: 35754.256418887475 and parameters: {'max_depth': 19, 'learning_rate': 0.0943133268008132, 'n_estimators': 306, 'objective': 'regression'}. Best is trial 42 with value: 35460.18753597403.\n",
      "[I 2025-03-12 21:18:25,923] Trial 50 finished with value: 36306.78037914368 and parameters: {'max_depth': 19, 'learning_rate': 0.06551453622616833, 'n_estimators': 700, 'objective': 'regression'}. Best is trial 42 with value: 35460.18753597403.\n",
      "[I 2025-03-12 21:18:27,661] Trial 51 finished with value: 35678.36398233722 and parameters: {'max_depth': 20, 'learning_rate': 0.07404245040223605, 'n_estimators': 325, 'objective': 'regression'}. Best is trial 42 with value: 35460.18753597403.\n",
      "[I 2025-03-12 21:18:29,245] Trial 52 finished with value: 36767.440621021626 and parameters: {'max_depth': 18, 'learning_rate': 0.1800793785195965, 'n_estimators': 376, 'objective': 'regression'}. Best is trial 42 with value: 35460.18753597403.\n",
      "[I 2025-03-12 21:18:30,951] Trial 53 finished with value: 35366.86864306763 and parameters: {'max_depth': 17, 'learning_rate': 0.053816503508030016, 'n_estimators': 429, 'objective': 'regression'}. Best is trial 53 with value: 35366.86864306763.\n",
      "[I 2025-03-12 21:18:32,760] Trial 54 finished with value: 35620.21987708665 and parameters: {'max_depth': 17, 'learning_rate': 0.053293712402841864, 'n_estimators': 423, 'objective': 'regression'}. Best is trial 53 with value: 35366.86864306763.\n",
      "[I 2025-03-12 21:18:33,969] Trial 55 finished with value: 35787.47951069604 and parameters: {'max_depth': 20, 'learning_rate': 0.06741625696679863, 'n_estimators': 300, 'objective': 'regression'}. Best is trial 53 with value: 35366.86864306763.\n",
      "[I 2025-03-12 21:18:36,016] Trial 56 finished with value: 35944.896541203234 and parameters: {'max_depth': 22, 'learning_rate': 0.05087565801253472, 'n_estimators': 514, 'objective': 'regression'}. Best is trial 53 with value: 35366.86864306763.\n",
      "[I 2025-03-12 21:18:37,230] Trial 57 finished with value: 82887.5617921615 and parameters: {'max_depth': 21, 'learning_rate': 0.0575974136202055, 'n_estimators': 334, 'objective': 'huber'}. Best is trial 53 with value: 35366.86864306763.\n",
      "[I 2025-03-12 21:18:38,700] Trial 58 finished with value: 35693.84710362557 and parameters: {'max_depth': 18, 'learning_rate': 0.09163349275335361, 'n_estimators': 383, 'objective': 'regression'}. Best is trial 53 with value: 35366.86864306763.\n",
      "[I 2025-03-12 21:18:40,862] Trial 59 finished with value: 37214.83211413924 and parameters: {'max_depth': 16, 'learning_rate': 0.16194023750303171, 'n_estimators': 564, 'objective': 'regression'}. Best is trial 53 with value: 35366.86864306763.\n",
      "[I 2025-03-12 21:18:42,576] Trial 60 finished with value: 35501.08053043616 and parameters: {'max_depth': 24, 'learning_rate': 0.0832137384759361, 'n_estimators': 460, 'objective': 'regression'}. Best is trial 53 with value: 35366.86864306763.\n",
      "[I 2025-03-12 21:18:44,395] Trial 61 finished with value: 35614.679269147724 and parameters: {'max_depth': 24, 'learning_rate': 0.08250242760154364, 'n_estimators': 469, 'objective': 'regression'}. Best is trial 53 with value: 35366.86864306763.\n",
      "[I 2025-03-12 21:18:45,965] Trial 62 finished with value: 36021.983893071774 and parameters: {'max_depth': 25, 'learning_rate': 0.07588473661185176, 'n_estimators': 422, 'objective': 'regression'}. Best is trial 53 with value: 35366.86864306763.\n",
      "[I 2025-03-12 21:18:47,497] Trial 63 finished with value: 35874.13130453736 and parameters: {'max_depth': 23, 'learning_rate': 0.11937458926075896, 'n_estimators': 342, 'objective': 'regression'}. Best is trial 53 with value: 35366.86864306763.\n",
      "[I 2025-03-12 21:18:49,560] Trial 64 finished with value: 35710.58687101951 and parameters: {'max_depth': 22, 'learning_rate': 0.06316806865308805, 'n_estimators': 459, 'objective': 'regression'}. Best is trial 53 with value: 35366.86864306763.\n",
      "[I 2025-03-12 21:18:51,499] Trial 65 finished with value: 35841.26178511625 and parameters: {'max_depth': 15, 'learning_rate': 0.07031899095679643, 'n_estimators': 417, 'objective': 'regression'}. Best is trial 53 with value: 35366.86864306763.\n",
      "[I 2025-03-12 21:18:54,383] Trial 66 finished with value: 36867.2917327167 and parameters: {'max_depth': 19, 'learning_rate': 0.13167687654992397, 'n_estimators': 487, 'objective': 'regression'}. Best is trial 53 with value: 35366.86864306763.\n",
      "[I 2025-03-12 21:18:56,631] Trial 67 finished with value: 35919.94838473202 and parameters: {'max_depth': 20, 'learning_rate': 0.08628707411879949, 'n_estimators': 351, 'objective': 'regression'}. Best is trial 53 with value: 35366.86864306763.\n",
      "[I 2025-03-12 21:18:59,298] Trial 68 finished with value: 36221.76165269332 and parameters: {'max_depth': 24, 'learning_rate': 0.1070623414164587, 'n_estimators': 542, 'objective': 'regression'}. Best is trial 53 with value: 35366.86864306763.\n",
      "[I 2025-03-12 21:19:00,796] Trial 69 finished with value: 82879.98993583614 and parameters: {'max_depth': 17, 'learning_rate': 0.09816473782880823, 'n_estimators': 391, 'objective': 'huber'}. Best is trial 53 with value: 35366.86864306763.\n",
      "[I 2025-03-12 21:19:02,014] Trial 70 finished with value: 35845.32171707914 and parameters: {'max_depth': 23, 'learning_rate': 0.09179947805720262, 'n_estimators': 320, 'objective': 'regression'}. Best is trial 53 with value: 35366.86864306763.\n",
      "[I 2025-03-12 21:19:05,179] Trial 71 finished with value: 35766.47752115628 and parameters: {'max_depth': 24, 'learning_rate': 0.08275138168369077, 'n_estimators': 463, 'objective': 'regression'}. Best is trial 53 with value: 35366.86864306763.\n",
      "[I 2025-03-12 21:19:06,693] Trial 72 finished with value: 35701.156186565226 and parameters: {'max_depth': 24, 'learning_rate': 0.08087524221316661, 'n_estimators': 373, 'objective': 'regression'}. Best is trial 53 with value: 35366.86864306763.\n",
      "[I 2025-03-12 21:19:08,827] Trial 73 finished with value: 35947.73161777684 and parameters: {'max_depth': 22, 'learning_rate': 0.07557135386158419, 'n_estimators': 510, 'objective': 'regression'}. Best is trial 53 with value: 35366.86864306763.\n",
      "[I 2025-03-12 21:19:09,916] Trial 74 finished with value: 35989.36600883444 and parameters: {'max_depth': 12, 'learning_rate': 0.0683564673213429, 'n_estimators': 427, 'objective': 'regression'}. Best is trial 53 with value: 35366.86864306763.\n",
      "[I 2025-03-12 21:19:11,667] Trial 75 finished with value: 35727.444409950695 and parameters: {'max_depth': 25, 'learning_rate': 0.08480651718126879, 'n_estimators': 491, 'objective': 'regression'}. Best is trial 53 with value: 35366.86864306763.\n",
      "[I 2025-03-12 21:19:14,174] Trial 76 finished with value: 36134.767263123016 and parameters: {'max_depth': 24, 'learning_rate': 0.07784255529398809, 'n_estimators': 597, 'objective': 'regression'}. Best is trial 53 with value: 35366.86864306763.\n",
      "[I 2025-03-12 21:19:17,621] Trial 77 finished with value: 36821.81393324442 and parameters: {'max_depth': 21, 'learning_rate': 0.08915999075404821, 'n_estimators': 822, 'objective': 'regression'}. Best is trial 53 with value: 35366.86864306763.\n",
      "[I 2025-03-12 21:19:19,282] Trial 78 finished with value: 35431.35362713609 and parameters: {'max_depth': 23, 'learning_rate': 0.06211831393597242, 'n_estimators': 398, 'objective': 'regression'}. Best is trial 53 with value: 35366.86864306763.\n",
      "[I 2025-03-12 21:19:20,920] Trial 79 finished with value: 35751.288094280906 and parameters: {'max_depth': 22, 'learning_rate': 0.055442953726316926, 'n_estimators': 403, 'objective': 'regression'}. Best is trial 53 with value: 35366.86864306763.\n",
      "[I 2025-03-12 21:19:22,578] Trial 80 finished with value: 35838.43075352716 and parameters: {'max_depth': 23, 'learning_rate': 0.07219429718566968, 'n_estimators': 351, 'objective': 'regression'}. Best is trial 53 with value: 35366.86864306763.\n",
      "[I 2025-03-12 21:19:25,000] Trial 81 finished with value: 35650.35743998662 and parameters: {'max_depth': 25, 'learning_rate': 0.06781462558064444, 'n_estimators': 439, 'objective': 'regression'}. Best is trial 53 with value: 35366.86864306763.\n",
      "[I 2025-03-12 21:19:26,299] Trial 82 finished with value: 35636.353281411844 and parameters: {'max_depth': 24, 'learning_rate': 0.062163186986310716, 'n_estimators': 317, 'objective': 'regression'}. Best is trial 53 with value: 35366.86864306763.\n",
      "[I 2025-03-12 21:19:28,264] Trial 83 finished with value: 35835.15723987494 and parameters: {'max_depth': 23, 'learning_rate': 0.05922928508554668, 'n_estimators': 368, 'objective': 'regression'}. Best is trial 53 with value: 35366.86864306763.\n",
      "[I 2025-03-12 21:19:30,131] Trial 84 finished with value: 35981.868326180425 and parameters: {'max_depth': 24, 'learning_rate': 0.10116692633663697, 'n_estimators': 450, 'objective': 'regression'}. Best is trial 53 with value: 35366.86864306763.\n",
      "[I 2025-03-12 21:19:32,403] Trial 85 finished with value: 35649.55444091608 and parameters: {'max_depth': 20, 'learning_rate': 0.06432519854643358, 'n_estimators': 399, 'objective': 'regression'}. Best is trial 53 with value: 35366.86864306763.\n",
      "[I 2025-03-12 21:19:33,846] Trial 86 finished with value: 82884.97821609593 and parameters: {'max_depth': 15, 'learning_rate': 0.07362693303479201, 'n_estimators': 350, 'objective': 'huber'}. Best is trial 53 with value: 35366.86864306763.\n",
      "[I 2025-03-12 21:19:34,793] Trial 87 finished with value: 35592.639431535405 and parameters: {'max_depth': 11, 'learning_rate': 0.08029995279735427, 'n_estimators': 312, 'objective': 'regression'}. Best is trial 53 with value: 35366.86864306763.\n",
      "[I 2025-03-12 21:19:35,694] Trial 88 finished with value: 35730.50302527912 and parameters: {'max_depth': 11, 'learning_rate': 0.09503212141460268, 'n_estimators': 300, 'objective': 'regression'}. Best is trial 53 with value: 35366.86864306763.\n",
      "[I 2025-03-12 21:19:36,687] Trial 89 finished with value: 35577.072425678634 and parameters: {'max_depth': 10, 'learning_rate': 0.05000282306814683, 'n_estimators': 331, 'objective': 'regression'}. Best is trial 53 with value: 35366.86864306763.\n",
      "[I 2025-03-12 21:19:37,722] Trial 90 finished with value: 35368.16816299613 and parameters: {'max_depth': 10, 'learning_rate': 0.05012445646891926, 'n_estimators': 332, 'objective': 'regression'}. Best is trial 53 with value: 35366.86864306763.\n",
      "[I 2025-03-12 21:19:38,769] Trial 91 finished with value: 35702.02711458569 and parameters: {'max_depth': 10, 'learning_rate': 0.06067038448128501, 'n_estimators': 328, 'objective': 'regression'}. Best is trial 53 with value: 35366.86864306763.\n",
      "[I 2025-03-12 21:19:39,646] Trial 92 finished with value: 35549.026313478964 and parameters: {'max_depth': 10, 'learning_rate': 0.05494603213312387, 'n_estimators': 339, 'objective': 'regression'}. Best is trial 53 with value: 35366.86864306763.\n",
      "[I 2025-03-12 21:19:40,699] Trial 93 finished with value: 35749.2971832699 and parameters: {'max_depth': 11, 'learning_rate': 0.056099909591949076, 'n_estimators': 373, 'objective': 'regression'}. Best is trial 53 with value: 35366.86864306763.\n",
      "[I 2025-03-12 21:19:41,735] Trial 94 finished with value: 35480.59583517326 and parameters: {'max_depth': 10, 'learning_rate': 0.06497129211988172, 'n_estimators': 358, 'objective': 'regression'}. Best is trial 53 with value: 35366.86864306763.\n",
      "[I 2025-03-12 21:19:43,356] Trial 95 finished with value: 35418.653986757214 and parameters: {'max_depth': 10, 'learning_rate': 0.05369507271202232, 'n_estimators': 385, 'objective': 'regression'}. Best is trial 53 with value: 35366.86864306763.\n",
      "[I 2025-03-12 21:19:45,304] Trial 96 finished with value: 35593.88284761652 and parameters: {'max_depth': 12, 'learning_rate': 0.054107780495291635, 'n_estimators': 387, 'objective': 'regression'}. Best is trial 53 with value: 35366.86864306763.\n",
      "[I 2025-03-12 21:19:56,492] Trial 97 finished with value: 35711.74437195462 and parameters: {'max_depth': 10, 'learning_rate': 0.06388546228098077, 'n_estimators': 413, 'objective': 'regression'}. Best is trial 53 with value: 35366.86864306763.\n",
      "[I 2025-03-12 21:19:58,003] Trial 98 finished with value: 35623.165981134 and parameters: {'max_depth': 14, 'learning_rate': 0.05213840670028856, 'n_estimators': 367, 'objective': 'regression'}. Best is trial 53 with value: 35366.86864306763.\n",
      "[I 2025-03-12 21:19:59,809] Trial 99 finished with value: 35559.08297576763 and parameters: {'max_depth': 18, 'learning_rate': 0.05896006472604093, 'n_estimators': 398, 'objective': 'regression'}. Best is trial 53 with value: 35366.86864306763.\n",
      "[I 2025-03-12 21:20:01,294] Trial 100 finished with value: 82883.37839234505 and parameters: {'max_depth': 12, 'learning_rate': 0.06885545755233768, 'n_estimators': 433, 'objective': 'huber'}. Best is trial 53 with value: 35366.86864306763.\n",
      "[I 2025-03-12 21:20:02,280] Trial 101 finished with value: 35588.0653382743 and parameters: {'max_depth': 10, 'learning_rate': 0.054862814770379936, 'n_estimators': 340, 'objective': 'regression'}. Best is trial 53 with value: 35366.86864306763.\n",
      "[I 2025-03-12 21:20:03,201] Trial 102 finished with value: 35690.694403061294 and parameters: {'max_depth': 10, 'learning_rate': 0.06551918895088583, 'n_estimators': 354, 'objective': 'regression'}. Best is trial 53 with value: 35366.86864306763.\n",
      "[I 2025-03-12 21:20:04,783] Trial 103 finished with value: 35735.25432240865 and parameters: {'max_depth': 11, 'learning_rate': 0.06072423892202885, 'n_estimators': 384, 'objective': 'regression'}. Best is trial 53 with value: 35366.86864306763.\n",
      "[I 2025-03-12 21:20:06,000] Trial 104 finished with value: 35603.27018977477 and parameters: {'max_depth': 11, 'learning_rate': 0.05761438148567668, 'n_estimators': 344, 'objective': 'regression'}. Best is trial 53 with value: 35366.86864306763.\n",
      "[I 2025-03-12 21:20:07,004] Trial 105 finished with value: 35541.215681861264 and parameters: {'max_depth': 10, 'learning_rate': 0.05085180534873669, 'n_estimators': 313, 'objective': 'regression'}. Best is trial 53 with value: 35366.86864306763.\n",
      "[I 2025-03-12 21:20:08,189] Trial 106 finished with value: 35652.9251580233 and parameters: {'max_depth': 13, 'learning_rate': 0.050108340619015326, 'n_estimators': 321, 'objective': 'regression'}. Best is trial 53 with value: 35366.86864306763.\n",
      "[I 2025-03-12 21:20:14,556] Trial 107 finished with value: 35776.68423320332 and parameters: {'max_depth': 16, 'learning_rate': 0.07038336990235608, 'n_estimators': 417, 'objective': 'regression'}. Best is trial 53 with value: 35366.86864306763.\n",
      "[I 2025-03-12 21:20:18,110] Trial 108 finished with value: 35877.085417518756 and parameters: {'max_depth': 10, 'learning_rate': 0.0520321680800424, 'n_estimators': 998, 'objective': 'regression'}. Best is trial 53 with value: 35366.86864306763.\n",
      "[I 2025-03-12 21:20:20,061] Trial 109 finished with value: 35699.826062012224 and parameters: {'max_depth': 19, 'learning_rate': 0.06202874520210431, 'n_estimators': 306, 'objective': 'regression'}. Best is trial 53 with value: 35366.86864306763.\n",
      "[I 2025-03-12 21:20:21,697] Trial 110 finished with value: 35694.545338751814 and parameters: {'max_depth': 11, 'learning_rate': 0.07614795049261282, 'n_estimators': 361, 'objective': 'regression'}. Best is trial 53 with value: 35366.86864306763.\n",
      "[I 2025-03-12 21:20:23,293] Trial 111 finished with value: 35762.489826640274 and parameters: {'max_depth': 10, 'learning_rate': 0.05260684633218724, 'n_estimators': 335, 'objective': 'regression'}. Best is trial 53 with value: 35366.86864306763.\n",
      "[I 2025-03-12 21:20:24,680] Trial 112 finished with value: 35499.84817604683 and parameters: {'max_depth': 10, 'learning_rate': 0.05664888736350328, 'n_estimators': 381, 'objective': 'regression'}. Best is trial 53 with value: 35366.86864306763.\n",
      "[I 2025-03-12 21:20:26,209] Trial 113 finished with value: 35808.436019221976 and parameters: {'max_depth': 10, 'learning_rate': 0.05699012155384711, 'n_estimators': 376, 'objective': 'regression'}. Best is trial 53 with value: 35366.86864306763.\n",
      "[I 2025-03-12 21:20:28,478] Trial 114 finished with value: 35778.2536089273 and parameters: {'max_depth': 11, 'learning_rate': 0.06508789581728178, 'n_estimators': 656, 'objective': 'regression'}. Best is trial 53 with value: 35366.86864306763.\n",
      "[I 2025-03-12 21:20:29,992] Trial 115 finished with value: 36332.417713714116 and parameters: {'max_depth': 11, 'learning_rate': 0.1531267964971734, 'n_estimators': 361, 'objective': 'regression'}. Best is trial 53 with value: 35366.86864306763.\n",
      "[I 2025-03-12 21:20:31,801] Trial 116 finished with value: 35984.85069462807 and parameters: {'max_depth': 12, 'learning_rate': 0.06671792187312636, 'n_estimators': 408, 'objective': 'regression'}. Best is trial 53 with value: 35366.86864306763.\n",
      "[I 2025-03-12 21:20:33,294] Trial 117 finished with value: 35670.21262397967 and parameters: {'max_depth': 21, 'learning_rate': 0.07214532188002937, 'n_estimators': 316, 'objective': 'regression'}. Best is trial 53 with value: 35366.86864306763.\n",
      "[I 2025-03-12 21:20:34,614] Trial 118 finished with value: 35752.45718459153 and parameters: {'max_depth': 10, 'learning_rate': 0.06119852617436636, 'n_estimators': 382, 'objective': 'regression'}. Best is trial 53 with value: 35366.86864306763.\n",
      "[I 2025-03-12 21:20:36,975] Trial 119 finished with value: 82884.76868163115 and parameters: {'max_depth': 17, 'learning_rate': 0.05742183713928339, 'n_estimators': 458, 'objective': 'huber'}. Best is trial 53 with value: 35366.86864306763.\n",
      "[I 2025-03-12 21:20:39,826] Trial 120 finished with value: 35614.050735109886 and parameters: {'max_depth': 23, 'learning_rate': 0.07886762112370792, 'n_estimators': 392, 'objective': 'regression'}. Best is trial 53 with value: 35366.86864306763.\n",
      "[I 2025-03-12 21:20:40,925] Trial 121 finished with value: 35625.33522051489 and parameters: {'max_depth': 10, 'learning_rate': 0.05397956732428416, 'n_estimators': 343, 'objective': 'regression'}. Best is trial 53 with value: 35366.86864306763.\n",
      "[I 2025-03-12 21:20:41,995] Trial 122 finished with value: 35368.705741417405 and parameters: {'max_depth': 10, 'learning_rate': 0.05377613686021217, 'n_estimators': 328, 'objective': 'regression'}. Best is trial 53 with value: 35366.86864306763.\n",
      "[I 2025-03-12 21:20:43,224] Trial 123 finished with value: 35515.9529022746 and parameters: {'max_depth': 11, 'learning_rate': 0.05008055117549465, 'n_estimators': 323, 'objective': 'regression'}. Best is trial 53 with value: 35366.86864306763.\n",
      "[I 2025-03-12 21:20:44,565] Trial 124 finished with value: 35722.83637123032 and parameters: {'max_depth': 11, 'learning_rate': 0.050747023056999976, 'n_estimators': 355, 'objective': 'regression'}. Best is trial 53 with value: 35366.86864306763.\n",
      "[I 2025-03-12 21:20:45,529] Trial 125 finished with value: 35875.58795550855 and parameters: {'max_depth': 11, 'learning_rate': 0.05595225911549978, 'n_estimators': 325, 'objective': 'regression'}. Best is trial 53 with value: 35366.86864306763.\n",
      "[I 2025-03-12 21:20:46,823] Trial 126 finished with value: 35403.41560585755 and parameters: {'max_depth': 10, 'learning_rate': 0.059684694744361305, 'n_estimators': 438, 'objective': 'regression'}. Best is trial 53 with value: 35366.86864306763.\n",
      "[I 2025-03-12 21:20:48,206] Trial 127 finished with value: 35642.30086343519 and parameters: {'max_depth': 10, 'learning_rate': 0.05930507469822753, 'n_estimators': 430, 'objective': 'regression'}. Best is trial 53 with value: 35366.86864306763.\n",
      "[I 2025-03-12 21:20:49,593] Trial 128 finished with value: 35643.888636942356 and parameters: {'max_depth': 10, 'learning_rate': 0.06341958044524693, 'n_estimators': 477, 'objective': 'regression'}. Best is trial 53 with value: 35366.86864306763.\n",
      "[I 2025-03-12 21:20:50,965] Trial 129 finished with value: 35517.30055902444 and parameters: {'max_depth': 11, 'learning_rate': 0.05409783094547383, 'n_estimators': 440, 'objective': 'regression'}. Best is trial 53 with value: 35366.86864306763.\n",
      "[I 2025-03-12 21:20:52,529] Trial 130 finished with value: 35341.216439355856 and parameters: {'max_depth': 11, 'learning_rate': 0.05494851235993663, 'n_estimators': 495, 'objective': 'regression'}. Best is trial 130 with value: 35341.216439355856.\n",
      "[I 2025-03-12 21:20:53,754] Trial 131 finished with value: 35717.28111714076 and parameters: {'max_depth': 11, 'learning_rate': 0.056737760636437096, 'n_estimators': 445, 'objective': 'regression'}. Best is trial 130 with value: 35341.216439355856.\n",
      "[I 2025-03-12 21:20:55,100] Trial 132 finished with value: 35567.2230664013 and parameters: {'max_depth': 11, 'learning_rate': 0.06159098043294911, 'n_estimators': 501, 'objective': 'regression'}. Best is trial 130 with value: 35341.216439355856.\n",
      "[I 2025-03-12 21:20:56,434] Trial 133 finished with value: 35314.574680027814 and parameters: {'max_depth': 10, 'learning_rate': 0.055152963805391086, 'n_estimators': 451, 'objective': 'regression'}. Best is trial 133 with value: 35314.574680027814.\n",
      "[I 2025-03-12 21:20:57,569] Trial 134 finished with value: 35516.87015128923 and parameters: {'max_depth': 10, 'learning_rate': 0.053929103621644, 'n_estimators': 465, 'objective': 'regression'}. Best is trial 133 with value: 35314.574680027814.\n",
      "[I 2025-03-12 21:20:58,742] Trial 135 finished with value: 35641.58583228179 and parameters: {'max_depth': 10, 'learning_rate': 0.05003769268373329, 'n_estimators': 493, 'objective': 'regression'}. Best is trial 133 with value: 35314.574680027814.\n",
      "[I 2025-03-12 21:20:59,826] Trial 136 finished with value: 35579.94862234256 and parameters: {'max_depth': 10, 'learning_rate': 0.05370635939199235, 'n_estimators': 463, 'objective': 'regression'}. Best is trial 133 with value: 35314.574680027814.\n",
      "[I 2025-03-12 21:21:01,539] Trial 137 finished with value: 35595.46591983699 and parameters: {'max_depth': 10, 'learning_rate': 0.055244123350754126, 'n_estimators': 522, 'objective': 'regression'}. Best is trial 133 with value: 35314.574680027814.\n",
      "[I 2025-03-12 21:21:03,050] Trial 138 finished with value: 35722.42914782082 and parameters: {'max_depth': 10, 'learning_rate': 0.05979516059960233, 'n_estimators': 469, 'objective': 'regression'}. Best is trial 133 with value: 35314.574680027814.\n",
      "[I 2025-03-12 21:21:04,502] Trial 139 finished with value: 35738.263124974306 and parameters: {'max_depth': 12, 'learning_rate': 0.057370790542764755, 'n_estimators': 417, 'objective': 'regression'}. Best is trial 133 with value: 35314.574680027814.\n",
      "[I 2025-03-12 21:21:05,902] Trial 140 finished with value: 35650.794924158574 and parameters: {'max_depth': 10, 'learning_rate': 0.06343621454680863, 'n_estimators': 453, 'objective': 'regression'}. Best is trial 133 with value: 35314.574680027814.\n",
      "[I 2025-03-12 21:21:07,021] Trial 141 finished with value: 35544.64085793546 and parameters: {'max_depth': 11, 'learning_rate': 0.05394413726238432, 'n_estimators': 438, 'objective': 'regression'}. Best is trial 133 with value: 35314.574680027814.\n",
      "[I 2025-03-12 21:21:08,152] Trial 142 finished with value: 35553.407217749605 and parameters: {'max_depth': 11, 'learning_rate': 0.053493183309476694, 'n_estimators': 401, 'objective': 'regression'}. Best is trial 133 with value: 35314.574680027814.\n",
      "[I 2025-03-12 21:21:09,423] Trial 143 finished with value: 35649.47366027144 and parameters: {'max_depth': 10, 'learning_rate': 0.058527521727592374, 'n_estimators': 482, 'objective': 'regression'}. Best is trial 133 with value: 35314.574680027814.\n",
      "[I 2025-03-12 21:21:11,171] Trial 144 finished with value: 35862.59929054119 and parameters: {'max_depth': 11, 'learning_rate': 0.06024734976498304, 'n_estimators': 426, 'objective': 'regression'}. Best is trial 133 with value: 35314.574680027814.\n",
      "[I 2025-03-12 21:21:12,432] Trial 145 finished with value: 35614.61433767783 and parameters: {'max_depth': 12, 'learning_rate': 0.055718355692129753, 'n_estimators': 413, 'objective': 'regression'}. Best is trial 133 with value: 35314.574680027814.\n",
      "[I 2025-03-12 21:21:13,606] Trial 146 finished with value: 35621.51504520559 and parameters: {'max_depth': 11, 'learning_rate': 0.0662690878225499, 'n_estimators': 452, 'objective': 'regression'}. Best is trial 133 with value: 35314.574680027814.\n",
      "[I 2025-03-12 21:21:15,084] Trial 147 finished with value: 82887.77209826074 and parameters: {'max_depth': 10, 'learning_rate': 0.0501497452761108, 'n_estimators': 373, 'objective': 'huber'}. Best is trial 133 with value: 35314.574680027814.\n",
      "[I 2025-03-12 21:21:16,168] Trial 148 finished with value: 35628.271825844065 and parameters: {'max_depth': 10, 'learning_rate': 0.05327577353992912, 'n_estimators': 435, 'objective': 'regression'}. Best is trial 133 with value: 35314.574680027814.\n",
      "[I 2025-03-12 21:21:17,985] Trial 149 finished with value: 35717.821390123914 and parameters: {'max_depth': 10, 'learning_rate': 0.06267576443841644, 'n_estimators': 720, 'objective': 'regression'}. Best is trial 133 with value: 35314.574680027814.\n",
      "[I 2025-03-12 21:21:19,025] Trial 150 finished with value: 35428.178053511685 and parameters: {'max_depth': 11, 'learning_rate': 0.05861134017810919, 'n_estimators': 402, 'objective': 'regression'}. Best is trial 133 with value: 35314.574680027814.\n",
      "[I 2025-03-12 21:21:20,013] Trial 151 finished with value: 35698.32604863722 and parameters: {'max_depth': 11, 'learning_rate': 0.05843042553495655, 'n_estimators': 401, 'objective': 'regression'}. Best is trial 133 with value: 35314.574680027814.\n",
      "[I 2025-03-12 21:21:21,105] Trial 152 finished with value: 35558.578227723716 and parameters: {'max_depth': 12, 'learning_rate': 0.05364228202844405, 'n_estimators': 392, 'objective': 'regression'}. Best is trial 133 with value: 35314.574680027814.\n",
      "[I 2025-03-12 21:21:22,637] Trial 153 finished with value: 35568.06568139313 and parameters: {'max_depth': 11, 'learning_rate': 0.05670399388884252, 'n_estimators': 552, 'objective': 'regression'}. Best is trial 133 with value: 35314.574680027814.\n",
      "[I 2025-03-12 21:21:23,856] Trial 154 finished with value: 35618.33512985513 and parameters: {'max_depth': 10, 'learning_rate': 0.06056870106797455, 'n_estimators': 476, 'objective': 'regression'}. Best is trial 133 with value: 35314.574680027814.\n",
      "[I 2025-03-12 21:21:24,900] Trial 155 finished with value: 35502.179687723394 and parameters: {'max_depth': 11, 'learning_rate': 0.05003437700003157, 'n_estimators': 419, 'objective': 'regression'}. Best is trial 133 with value: 35314.574680027814.\n",
      "[I 2025-03-12 21:21:26,058] Trial 156 finished with value: 35481.46371858374 and parameters: {'max_depth': 10, 'learning_rate': 0.0520452712735682, 'n_estimators': 416, 'objective': 'regression'}. Best is trial 133 with value: 35314.574680027814.\n",
      "[I 2025-03-12 21:21:26,984] Trial 157 finished with value: 35499.829139048794 and parameters: {'max_depth': 10, 'learning_rate': 0.05099521839175527, 'n_estimators': 380, 'objective': 'regression'}. Best is trial 133 with value: 35314.574680027814.\n",
      "[I 2025-03-12 21:21:27,903] Trial 158 finished with value: 35760.67366516336 and parameters: {'max_depth': 10, 'learning_rate': 0.06525640573252403, 'n_estimators': 381, 'objective': 'regression'}. Best is trial 133 with value: 35314.574680027814.\n",
      "[I 2025-03-12 21:21:29,049] Trial 159 finished with value: 35749.291564958876 and parameters: {'max_depth': 10, 'learning_rate': 0.05780241011866515, 'n_estimators': 411, 'objective': 'regression'}. Best is trial 133 with value: 35314.574680027814.\n",
      "[I 2025-03-12 21:21:29,938] Trial 160 finished with value: 35905.28020140003 and parameters: {'max_depth': 10, 'learning_rate': 0.11839762952212926, 'n_estimators': 367, 'objective': 'regression'}. Best is trial 133 with value: 35314.574680027814.\n",
      "[I 2025-03-12 21:21:31,784] Trial 161 finished with value: 35446.527709606 and parameters: {'max_depth': 11, 'learning_rate': 0.050316228978960806, 'n_estimators': 422, 'objective': 'regression'}. Best is trial 133 with value: 35314.574680027814.\n",
      "[I 2025-03-12 21:21:33,092] Trial 162 finished with value: 35563.4081576299 and parameters: {'max_depth': 11, 'learning_rate': 0.05259173568829338, 'n_estimators': 422, 'objective': 'regression'}. Best is trial 133 with value: 35314.574680027814.\n",
      "[I 2025-03-12 21:21:34,469] Trial 163 finished with value: 35520.20464591335 and parameters: {'max_depth': 13, 'learning_rate': 0.05031571664731906, 'n_estimators': 401, 'objective': 'regression'}. Best is trial 133 with value: 35314.574680027814.\n",
      "[I 2025-03-12 21:21:35,568] Trial 164 finished with value: 35576.5668931585 and parameters: {'max_depth': 10, 'learning_rate': 0.05649338778239899, 'n_estimators': 425, 'objective': 'regression'}. Best is trial 133 with value: 35314.574680027814.\n",
      "[I 2025-03-12 21:21:36,569] Trial 165 finished with value: 35753.90719459441 and parameters: {'max_depth': 10, 'learning_rate': 0.06033186223445057, 'n_estimators': 387, 'objective': 'regression'}. Best is trial 133 with value: 35314.574680027814.\n",
      "[I 2025-03-12 21:21:38,677] Trial 166 finished with value: 35577.94402866461 and parameters: {'max_depth': 23, 'learning_rate': 0.05234267291675457, 'n_estimators': 408, 'objective': 'regression'}. Best is trial 133 with value: 35314.574680027814.\n",
      "[I 2025-03-12 21:21:42,777] Trial 167 finished with value: 36671.92923243458 and parameters: {'max_depth': 22, 'learning_rate': 0.06920528557970256, 'n_estimators': 920, 'objective': 'regression'}. Best is trial 133 with value: 35314.574680027814.\n",
      "[I 2025-03-12 21:21:44,105] Trial 168 finished with value: 35916.90906995557 and parameters: {'max_depth': 11, 'learning_rate': 0.05562994955856106, 'n_estimators': 449, 'objective': 'regression'}. Best is trial 133 with value: 35314.574680027814.\n",
      "[I 2025-03-12 21:21:46,467] Trial 169 finished with value: 35761.012757644 and parameters: {'max_depth': 12, 'learning_rate': 0.06310694614828405, 'n_estimators': 620, 'objective': 'regression'}. Best is trial 133 with value: 35314.574680027814.\n",
      "[I 2025-03-12 21:21:48,309] Trial 170 finished with value: 82888.06648363636 and parameters: {'max_depth': 10, 'learning_rate': 0.050032356910132664, 'n_estimators': 359, 'objective': 'huber'}. Best is trial 133 with value: 35314.574680027814.\n",
      "[I 2025-03-12 21:21:49,592] Trial 171 finished with value: 35592.60751488998 and parameters: {'max_depth': 11, 'learning_rate': 0.05028707997765429, 'n_estimators': 346, 'objective': 'regression'}. Best is trial 133 with value: 35314.574680027814.\n",
      "[I 2025-03-12 21:21:50,722] Trial 172 finished with value: 35427.272090215134 and parameters: {'max_depth': 11, 'learning_rate': 0.05829774244255606, 'n_estimators': 377, 'objective': 'regression'}. Best is trial 133 with value: 35314.574680027814.\n",
      "[I 2025-03-12 21:21:51,906] Trial 173 finished with value: 35595.21099896735 and parameters: {'max_depth': 10, 'learning_rate': 0.05890303769757238, 'n_estimators': 383, 'objective': 'regression'}. Best is trial 133 with value: 35314.574680027814.\n",
      "[I 2025-03-12 21:21:53,412] Trial 174 finished with value: 35770.49862424044 and parameters: {'max_depth': 11, 'learning_rate': 0.05559082647497517, 'n_estimators': 396, 'objective': 'regression'}. Best is trial 133 with value: 35314.574680027814.\n",
      "[I 2025-03-12 21:21:55,149] Trial 175 finished with value: 35650.60078847266 and parameters: {'max_depth': 14, 'learning_rate': 0.06135809548134849, 'n_estimators': 372, 'objective': 'regression'}. Best is trial 133 with value: 35314.574680027814.\n",
      "[I 2025-03-12 21:21:56,376] Trial 176 finished with value: 36135.16099748076 and parameters: {'max_depth': 11, 'learning_rate': 0.13422880431289413, 'n_estimators': 429, 'objective': 'regression'}. Best is trial 133 with value: 35314.574680027814.\n",
      "[I 2025-03-12 21:21:57,203] Trial 177 finished with value: 35754.843605222064 and parameters: {'max_depth': 10, 'learning_rate': 0.057877141567466726, 'n_estimators': 359, 'objective': 'regression'}. Best is trial 133 with value: 35314.574680027814.\n",
      "[I 2025-03-12 21:21:58,613] Trial 178 finished with value: 35724.60613956104 and parameters: {'max_depth': 25, 'learning_rate': 0.053123002689320846, 'n_estimators': 412, 'objective': 'regression'}. Best is trial 133 with value: 35314.574680027814.\n",
      "[I 2025-03-12 21:21:59,555] Trial 179 finished with value: 35694.38498334263 and parameters: {'max_depth': 10, 'learning_rate': 0.06689613736305997, 'n_estimators': 393, 'objective': 'regression'}. Best is trial 133 with value: 35314.574680027814.\n",
      "[I 2025-03-12 21:22:01,920] Trial 180 finished with value: 36125.54667136638 and parameters: {'max_depth': 15, 'learning_rate': 0.05511602323296005, 'n_estimators': 778, 'objective': 'regression'}. Best is trial 133 with value: 35314.574680027814.\n",
      "[I 2025-03-12 21:22:03,247] Trial 181 finished with value: 35586.41422164007 and parameters: {'max_depth': 11, 'learning_rate': 0.05013810847204944, 'n_estimators': 342, 'objective': 'regression'}. Best is trial 133 with value: 35314.574680027814.\n",
      "[I 2025-03-12 21:22:04,305] Trial 182 finished with value: 35705.062670734565 and parameters: {'max_depth': 12, 'learning_rate': 0.05253553910369687, 'n_estimators': 323, 'objective': 'regression'}. Best is trial 133 with value: 35314.574680027814.\n",
      "[I 2025-03-12 21:22:05,176] Trial 183 finished with value: 35802.85927689919 and parameters: {'max_depth': 11, 'learning_rate': 0.056154581713389815, 'n_estimators': 331, 'objective': 'regression'}. Best is trial 133 with value: 35314.574680027814.\n",
      "[I 2025-03-12 21:22:06,897] Trial 184 finished with value: 35573.41238685557 and parameters: {'max_depth': 10, 'learning_rate': 0.060004098092972746, 'n_estimators': 442, 'objective': 'regression'}. Best is trial 133 with value: 35314.574680027814.\n",
      "[I 2025-03-12 21:22:08,754] Trial 185 finished with value: 35531.4665188829 and parameters: {'max_depth': 11, 'learning_rate': 0.053012636323637924, 'n_estimators': 374, 'objective': 'regression'}. Best is trial 133 with value: 35314.574680027814.\n",
      "[I 2025-03-12 21:22:10,348] Trial 186 finished with value: 35554.60007641458 and parameters: {'max_depth': 10, 'learning_rate': 0.0634794563374295, 'n_estimators': 352, 'objective': 'regression'}. Best is trial 133 with value: 35314.574680027814.\n",
      "[I 2025-03-12 21:22:11,718] Trial 187 finished with value: 35649.890273193276 and parameters: {'max_depth': 11, 'learning_rate': 0.05000042322165044, 'n_estimators': 426, 'objective': 'regression'}. Best is trial 133 with value: 35314.574680027814.\n",
      "[I 2025-03-12 21:22:12,679] Trial 188 finished with value: 35522.4021175815 and parameters: {'max_depth': 10, 'learning_rate': 0.057593757539034125, 'n_estimators': 410, 'objective': 'regression'}. Best is trial 133 with value: 35314.574680027814.\n",
      "[I 2025-03-12 21:22:13,789] Trial 189 finished with value: 35645.40878171809 and parameters: {'max_depth': 11, 'learning_rate': 0.05472905627954412, 'n_estimators': 390, 'objective': 'regression'}. Best is trial 133 with value: 35314.574680027814.\n",
      "[I 2025-03-12 21:22:17,258] Trial 190 finished with value: 36096.549910124835 and parameters: {'max_depth': 12, 'learning_rate': 0.05969069023309328, 'n_estimators': 681, 'objective': 'regression'}. Best is trial 133 with value: 35314.574680027814.\n",
      "[I 2025-03-12 21:22:18,535] Trial 191 finished with value: 35651.74609234388 and parameters: {'max_depth': 10, 'learning_rate': 0.053446370671929, 'n_estimators': 462, 'objective': 'regression'}. Best is trial 133 with value: 35314.574680027814.\n",
      "[I 2025-03-12 21:22:19,876] Trial 192 finished with value: 35545.49745195326 and parameters: {'max_depth': 10, 'learning_rate': 0.053708113142160514, 'n_estimators': 450, 'objective': 'regression'}. Best is trial 133 with value: 35314.574680027814.\n",
      "[I 2025-03-12 21:22:21,067] Trial 193 finished with value: 35713.15373305477 and parameters: {'max_depth': 10, 'learning_rate': 0.056631724219073684, 'n_estimators': 464, 'objective': 'regression'}. Best is trial 133 with value: 35314.574680027814.\n",
      "[I 2025-03-12 21:22:22,131] Trial 194 finished with value: 35719.2918704438 and parameters: {'max_depth': 10, 'learning_rate': 0.052603176718440274, 'n_estimators': 438, 'objective': 'regression'}. Best is trial 133 with value: 35314.574680027814.\n",
      "[I 2025-03-12 21:22:23,485] Trial 195 finished with value: 35503.574757976516 and parameters: {'max_depth': 16, 'learning_rate': 0.05750377823998894, 'n_estimators': 419, 'objective': 'regression'}. Best is trial 133 with value: 35314.574680027814.\n",
      "[I 2025-03-12 21:22:25,022] Trial 196 finished with value: 35384.81340419085 and parameters: {'max_depth': 16, 'learning_rate': 0.06262109963097277, 'n_estimators': 421, 'objective': 'regression'}. Best is trial 133 with value: 35314.574680027814.\n",
      "[I 2025-03-12 21:22:27,037] Trial 197 finished with value: 35708.57649187763 and parameters: {'max_depth': 17, 'learning_rate': 0.06372571512058062, 'n_estimators': 422, 'objective': 'regression'}. Best is trial 133 with value: 35314.574680027814.\n",
      "[I 2025-03-12 21:22:28,652] Trial 198 finished with value: 35738.350088524174 and parameters: {'max_depth': 16, 'learning_rate': 0.06143576264391083, 'n_estimators': 405, 'objective': 'regression'}. Best is trial 133 with value: 35314.574680027814.\n",
      "[I 2025-03-12 21:22:30,461] Trial 199 finished with value: 35686.734948420875 and parameters: {'max_depth': 16, 'learning_rate': 0.05825624499653852, 'n_estimators': 414, 'objective': 'regression'}. Best is trial 133 with value: 35314.574680027814.\n"
     ]
    }
   ],
   "source": [
    "# Start HT with 200 trials\n",
    "study.optimize(objective,n_trials=200)"
   ],
   "metadata": {
    "collapsed": false,
    "ExecuteTime": {
     "end_time": "2025-03-12T18:22:30.491736500Z",
     "start_time": "2025-03-12T18:16:32.879251100Z"
    }
   },
   "id": "111d58bbe0c2c81b"
  },
  {
   "cell_type": "code",
   "execution_count": 121,
   "outputs": [
    {
     "data": {
      "text/plain": "35314.574680027814"
     },
     "execution_count": 121,
     "metadata": {},
     "output_type": "execute_result"
    }
   ],
   "source": [
    "# Best rmse\n",
    "study.best_value"
   ],
   "metadata": {
    "collapsed": false,
    "ExecuteTime": {
     "end_time": "2025-03-12T18:22:30.544560500Z",
     "start_time": "2025-03-12T18:22:30.503733100Z"
    }
   },
   "id": "feb91b0565036ae"
  },
  {
   "cell_type": "code",
   "execution_count": 122,
   "outputs": [
    {
     "data": {
      "text/plain": "{'max_depth': 10,\n 'learning_rate': 0.055152963805391086,\n 'n_estimators': 451,\n 'objective': 'regression'}"
     },
     "execution_count": 122,
     "metadata": {},
     "output_type": "execute_result"
    }
   ],
   "source": [
    "# Best params\n",
    "best_params = study.best_params\n",
    "best_params"
   ],
   "metadata": {
    "collapsed": false,
    "ExecuteTime": {
     "end_time": "2025-03-12T18:22:30.560881900Z",
     "start_time": "2025-03-12T18:22:30.525956200Z"
    }
   },
   "id": "fcfa41166816727e"
  },
  {
   "cell_type": "code",
   "execution_count": 123,
   "outputs": [
    {
     "data": {
      "application/vnd.plotly.v1+json": {
       "data": [
        {
         "mode": "markers",
         "name": "Objective Value",
         "x": [
          0,
          1,
          2,
          3,
          4,
          5,
          6,
          7,
          8,
          9,
          10,
          11,
          12,
          13,
          14,
          15,
          16,
          17,
          18,
          19,
          20,
          21,
          22,
          23,
          24,
          25,
          26,
          27,
          28,
          29,
          30,
          31,
          32,
          33,
          34,
          35,
          36,
          37,
          38,
          39,
          40,
          41,
          42,
          43,
          44,
          45,
          46,
          47,
          48,
          49,
          50,
          51,
          52,
          53,
          54,
          55,
          56,
          57,
          58,
          59,
          60,
          61,
          62,
          63,
          64,
          65,
          66,
          67,
          68,
          69,
          70,
          71,
          72,
          73,
          74,
          75,
          76,
          77,
          78,
          79,
          80,
          81,
          82,
          83,
          84,
          85,
          86,
          87,
          88,
          89,
          90,
          91,
          92,
          93,
          94,
          95,
          96,
          97,
          98,
          99,
          100,
          101,
          102,
          103,
          104,
          105,
          106,
          107,
          108,
          109,
          110,
          111,
          112,
          113,
          114,
          115,
          116,
          117,
          118,
          119,
          120,
          121,
          122,
          123,
          124,
          125,
          126,
          127,
          128,
          129,
          130,
          131,
          132,
          133,
          134,
          135,
          136,
          137,
          138,
          139,
          140,
          141,
          142,
          143,
          144,
          145,
          146,
          147,
          148,
          149,
          150,
          151,
          152,
          153,
          154,
          155,
          156,
          157,
          158,
          159,
          160,
          161,
          162,
          163,
          164,
          165,
          166,
          167,
          168,
          169,
          170,
          171,
          172,
          173,
          174,
          175,
          176,
          177,
          178,
          179,
          180,
          181,
          182,
          183,
          184,
          185,
          186,
          187,
          188,
          189,
          190,
          191,
          192,
          193,
          194,
          195,
          196,
          197,
          198,
          199
         ],
         "y": [
          37260.01998850904,
          36201.93821072879,
          82862.51727196526,
          37197.575479574785,
          82880.80071385918,
          37424.38450748565,
          37215.70696946487,
          82848.91715439475,
          82881.96661909895,
          36544.36522685074,
          35535.78571569014,
          35960.24932490225,
          35576.64550052314,
          35774.29138207075,
          35742.96562723121,
          36094.74652206635,
          35733.101481578466,
          36335.95661533981,
          82874.42713261134,
          35800.88193163616,
          36848.89163761218,
          36137.9410976568,
          35699.811662917156,
          35934.25383877437,
          35858.64610047449,
          36030.84202926536,
          82873.8204705164,
          35923.4208518863,
          35885.20752352767,
          35799.32786396431,
          36810.36283246041,
          36055.60687282573,
          35928.477696759546,
          36172.70490808085,
          36250.47071029854,
          35627.371665031125,
          82885.78473192937,
          35854.43610392248,
          35523.51540271344,
          82884.99620699287,
          35634.79622139427,
          35933.91939982222,
          35460.18753597403,
          36917.70181942517,
          36098.87909250839,
          36812.00982367609,
          35706.5465372647,
          82879.65957135978,
          35548.52362593448,
          35754.256418887475,
          36306.78037914368,
          35678.36398233722,
          36767.440621021626,
          35366.86864306763,
          35620.21987708665,
          35787.47951069604,
          35944.896541203234,
          82887.5617921615,
          35693.84710362557,
          37214.83211413924,
          35501.08053043616,
          35614.679269147724,
          36021.983893071774,
          35874.13130453736,
          35710.58687101951,
          35841.26178511625,
          36867.2917327167,
          35919.94838473202,
          36221.76165269332,
          82879.98993583614,
          35845.32171707914,
          35766.47752115628,
          35701.156186565226,
          35947.73161777684,
          35989.36600883444,
          35727.444409950695,
          36134.767263123016,
          36821.81393324442,
          35431.35362713609,
          35751.288094280906,
          35838.43075352716,
          35650.35743998662,
          35636.353281411844,
          35835.15723987494,
          35981.868326180425,
          35649.55444091608,
          82884.97821609593,
          35592.639431535405,
          35730.50302527912,
          35577.072425678634,
          35368.16816299613,
          35702.02711458569,
          35549.026313478964,
          35749.2971832699,
          35480.59583517326,
          35418.653986757214,
          35593.88284761652,
          35711.74437195462,
          35623.165981134,
          35559.08297576763,
          82883.37839234505,
          35588.0653382743,
          35690.694403061294,
          35735.25432240865,
          35603.27018977477,
          35541.215681861264,
          35652.9251580233,
          35776.68423320332,
          35877.085417518756,
          35699.826062012224,
          35694.545338751814,
          35762.489826640274,
          35499.84817604683,
          35808.436019221976,
          35778.2536089273,
          36332.417713714116,
          35984.85069462807,
          35670.21262397967,
          35752.45718459153,
          82884.76868163115,
          35614.050735109886,
          35625.33522051489,
          35368.705741417405,
          35515.9529022746,
          35722.83637123032,
          35875.58795550855,
          35403.41560585755,
          35642.30086343519,
          35643.888636942356,
          35517.30055902444,
          35341.216439355856,
          35717.28111714076,
          35567.2230664013,
          35314.574680027814,
          35516.87015128923,
          35641.58583228179,
          35579.94862234256,
          35595.46591983699,
          35722.42914782082,
          35738.263124974306,
          35650.794924158574,
          35544.64085793546,
          35553.407217749605,
          35649.47366027144,
          35862.59929054119,
          35614.61433767783,
          35621.51504520559,
          82887.77209826074,
          35628.271825844065,
          35717.821390123914,
          35428.178053511685,
          35698.32604863722,
          35558.578227723716,
          35568.06568139313,
          35618.33512985513,
          35502.179687723394,
          35481.46371858374,
          35499.829139048794,
          35760.67366516336,
          35749.291564958876,
          35905.28020140003,
          35446.527709606,
          35563.4081576299,
          35520.20464591335,
          35576.5668931585,
          35753.90719459441,
          35577.94402866461,
          36671.92923243458,
          35916.90906995557,
          35761.012757644,
          82888.06648363636,
          35592.60751488998,
          35427.272090215134,
          35595.21099896735,
          35770.49862424044,
          35650.60078847266,
          36135.16099748076,
          35754.843605222064,
          35724.60613956104,
          35694.38498334263,
          36125.54667136638,
          35586.41422164007,
          35705.062670734565,
          35802.85927689919,
          35573.41238685557,
          35531.4665188829,
          35554.60007641458,
          35649.890273193276,
          35522.4021175815,
          35645.40878171809,
          36096.549910124835,
          35651.74609234388,
          35545.49745195326,
          35713.15373305477,
          35719.2918704438,
          35503.574757976516,
          35384.81340419085,
          35708.57649187763,
          35738.350088524174,
          35686.734948420875
         ],
         "type": "scatter"
        },
        {
         "mode": "lines",
         "name": "Best Value",
         "x": [
          0,
          1,
          2,
          3,
          4,
          5,
          6,
          7,
          8,
          9,
          10,
          11,
          12,
          13,
          14,
          15,
          16,
          17,
          18,
          19,
          20,
          21,
          22,
          23,
          24,
          25,
          26,
          27,
          28,
          29,
          30,
          31,
          32,
          33,
          34,
          35,
          36,
          37,
          38,
          39,
          40,
          41,
          42,
          43,
          44,
          45,
          46,
          47,
          48,
          49,
          50,
          51,
          52,
          53,
          54,
          55,
          56,
          57,
          58,
          59,
          60,
          61,
          62,
          63,
          64,
          65,
          66,
          67,
          68,
          69,
          70,
          71,
          72,
          73,
          74,
          75,
          76,
          77,
          78,
          79,
          80,
          81,
          82,
          83,
          84,
          85,
          86,
          87,
          88,
          89,
          90,
          91,
          92,
          93,
          94,
          95,
          96,
          97,
          98,
          99,
          100,
          101,
          102,
          103,
          104,
          105,
          106,
          107,
          108,
          109,
          110,
          111,
          112,
          113,
          114,
          115,
          116,
          117,
          118,
          119,
          120,
          121,
          122,
          123,
          124,
          125,
          126,
          127,
          128,
          129,
          130,
          131,
          132,
          133,
          134,
          135,
          136,
          137,
          138,
          139,
          140,
          141,
          142,
          143,
          144,
          145,
          146,
          147,
          148,
          149,
          150,
          151,
          152,
          153,
          154,
          155,
          156,
          157,
          158,
          159,
          160,
          161,
          162,
          163,
          164,
          165,
          166,
          167,
          168,
          169,
          170,
          171,
          172,
          173,
          174,
          175,
          176,
          177,
          178,
          179,
          180,
          181,
          182,
          183,
          184,
          185,
          186,
          187,
          188,
          189,
          190,
          191,
          192,
          193,
          194,
          195,
          196,
          197,
          198,
          199
         ],
         "y": [
          37260.01998850904,
          36201.93821072879,
          36201.93821072879,
          36201.93821072879,
          36201.93821072879,
          36201.93821072879,
          36201.93821072879,
          36201.93821072879,
          36201.93821072879,
          36201.93821072879,
          35535.78571569014,
          35535.78571569014,
          35535.78571569014,
          35535.78571569014,
          35535.78571569014,
          35535.78571569014,
          35535.78571569014,
          35535.78571569014,
          35535.78571569014,
          35535.78571569014,
          35535.78571569014,
          35535.78571569014,
          35535.78571569014,
          35535.78571569014,
          35535.78571569014,
          35535.78571569014,
          35535.78571569014,
          35535.78571569014,
          35535.78571569014,
          35535.78571569014,
          35535.78571569014,
          35535.78571569014,
          35535.78571569014,
          35535.78571569014,
          35535.78571569014,
          35535.78571569014,
          35535.78571569014,
          35535.78571569014,
          35523.51540271344,
          35523.51540271344,
          35523.51540271344,
          35523.51540271344,
          35460.18753597403,
          35460.18753597403,
          35460.18753597403,
          35460.18753597403,
          35460.18753597403,
          35460.18753597403,
          35460.18753597403,
          35460.18753597403,
          35460.18753597403,
          35460.18753597403,
          35460.18753597403,
          35366.86864306763,
          35366.86864306763,
          35366.86864306763,
          35366.86864306763,
          35366.86864306763,
          35366.86864306763,
          35366.86864306763,
          35366.86864306763,
          35366.86864306763,
          35366.86864306763,
          35366.86864306763,
          35366.86864306763,
          35366.86864306763,
          35366.86864306763,
          35366.86864306763,
          35366.86864306763,
          35366.86864306763,
          35366.86864306763,
          35366.86864306763,
          35366.86864306763,
          35366.86864306763,
          35366.86864306763,
          35366.86864306763,
          35366.86864306763,
          35366.86864306763,
          35366.86864306763,
          35366.86864306763,
          35366.86864306763,
          35366.86864306763,
          35366.86864306763,
          35366.86864306763,
          35366.86864306763,
          35366.86864306763,
          35366.86864306763,
          35366.86864306763,
          35366.86864306763,
          35366.86864306763,
          35366.86864306763,
          35366.86864306763,
          35366.86864306763,
          35366.86864306763,
          35366.86864306763,
          35366.86864306763,
          35366.86864306763,
          35366.86864306763,
          35366.86864306763,
          35366.86864306763,
          35366.86864306763,
          35366.86864306763,
          35366.86864306763,
          35366.86864306763,
          35366.86864306763,
          35366.86864306763,
          35366.86864306763,
          35366.86864306763,
          35366.86864306763,
          35366.86864306763,
          35366.86864306763,
          35366.86864306763,
          35366.86864306763,
          35366.86864306763,
          35366.86864306763,
          35366.86864306763,
          35366.86864306763,
          35366.86864306763,
          35366.86864306763,
          35366.86864306763,
          35366.86864306763,
          35366.86864306763,
          35366.86864306763,
          35366.86864306763,
          35366.86864306763,
          35366.86864306763,
          35366.86864306763,
          35366.86864306763,
          35366.86864306763,
          35366.86864306763,
          35341.216439355856,
          35341.216439355856,
          35341.216439355856,
          35314.574680027814,
          35314.574680027814,
          35314.574680027814,
          35314.574680027814,
          35314.574680027814,
          35314.574680027814,
          35314.574680027814,
          35314.574680027814,
          35314.574680027814,
          35314.574680027814,
          35314.574680027814,
          35314.574680027814,
          35314.574680027814,
          35314.574680027814,
          35314.574680027814,
          35314.574680027814,
          35314.574680027814,
          35314.574680027814,
          35314.574680027814,
          35314.574680027814,
          35314.574680027814,
          35314.574680027814,
          35314.574680027814,
          35314.574680027814,
          35314.574680027814,
          35314.574680027814,
          35314.574680027814,
          35314.574680027814,
          35314.574680027814,
          35314.574680027814,
          35314.574680027814,
          35314.574680027814,
          35314.574680027814,
          35314.574680027814,
          35314.574680027814,
          35314.574680027814,
          35314.574680027814,
          35314.574680027814,
          35314.574680027814,
          35314.574680027814,
          35314.574680027814,
          35314.574680027814,
          35314.574680027814,
          35314.574680027814,
          35314.574680027814,
          35314.574680027814,
          35314.574680027814,
          35314.574680027814,
          35314.574680027814,
          35314.574680027814,
          35314.574680027814,
          35314.574680027814,
          35314.574680027814,
          35314.574680027814,
          35314.574680027814,
          35314.574680027814,
          35314.574680027814,
          35314.574680027814,
          35314.574680027814,
          35314.574680027814,
          35314.574680027814,
          35314.574680027814,
          35314.574680027814,
          35314.574680027814,
          35314.574680027814,
          35314.574680027814,
          35314.574680027814
         ],
         "type": "scatter"
        },
        {
         "marker": {
          "color": "#cccccc"
         },
         "mode": "markers",
         "name": "Infeasible Trial",
         "showlegend": false,
         "x": [],
         "y": [],
         "type": "scatter"
        }
       ],
       "layout": {
        "title": {
         "text": "Optimization History Plot"
        },
        "xaxis": {
         "title": {
          "text": "Trial"
         }
        },
        "yaxis": {
         "title": {
          "text": "Objective Value"
         }
        },
        "template": {
         "data": {
          "histogram2dcontour": [
           {
            "type": "histogram2dcontour",
            "colorbar": {
             "outlinewidth": 0,
             "ticks": ""
            },
            "colorscale": [
             [
              0.0,
              "#0d0887"
             ],
             [
              0.1111111111111111,
              "#46039f"
             ],
             [
              0.2222222222222222,
              "#7201a8"
             ],
             [
              0.3333333333333333,
              "#9c179e"
             ],
             [
              0.4444444444444444,
              "#bd3786"
             ],
             [
              0.5555555555555556,
              "#d8576b"
             ],
             [
              0.6666666666666666,
              "#ed7953"
             ],
             [
              0.7777777777777778,
              "#fb9f3a"
             ],
             [
              0.8888888888888888,
              "#fdca26"
             ],
             [
              1.0,
              "#f0f921"
             ]
            ]
           }
          ],
          "choropleth": [
           {
            "type": "choropleth",
            "colorbar": {
             "outlinewidth": 0,
             "ticks": ""
            }
           }
          ],
          "histogram2d": [
           {
            "type": "histogram2d",
            "colorbar": {
             "outlinewidth": 0,
             "ticks": ""
            },
            "colorscale": [
             [
              0.0,
              "#0d0887"
             ],
             [
              0.1111111111111111,
              "#46039f"
             ],
             [
              0.2222222222222222,
              "#7201a8"
             ],
             [
              0.3333333333333333,
              "#9c179e"
             ],
             [
              0.4444444444444444,
              "#bd3786"
             ],
             [
              0.5555555555555556,
              "#d8576b"
             ],
             [
              0.6666666666666666,
              "#ed7953"
             ],
             [
              0.7777777777777778,
              "#fb9f3a"
             ],
             [
              0.8888888888888888,
              "#fdca26"
             ],
             [
              1.0,
              "#f0f921"
             ]
            ]
           }
          ],
          "heatmap": [
           {
            "type": "heatmap",
            "colorbar": {
             "outlinewidth": 0,
             "ticks": ""
            },
            "colorscale": [
             [
              0.0,
              "#0d0887"
             ],
             [
              0.1111111111111111,
              "#46039f"
             ],
             [
              0.2222222222222222,
              "#7201a8"
             ],
             [
              0.3333333333333333,
              "#9c179e"
             ],
             [
              0.4444444444444444,
              "#bd3786"
             ],
             [
              0.5555555555555556,
              "#d8576b"
             ],
             [
              0.6666666666666666,
              "#ed7953"
             ],
             [
              0.7777777777777778,
              "#fb9f3a"
             ],
             [
              0.8888888888888888,
              "#fdca26"
             ],
             [
              1.0,
              "#f0f921"
             ]
            ]
           }
          ],
          "heatmapgl": [
           {
            "type": "heatmapgl",
            "colorbar": {
             "outlinewidth": 0,
             "ticks": ""
            },
            "colorscale": [
             [
              0.0,
              "#0d0887"
             ],
             [
              0.1111111111111111,
              "#46039f"
             ],
             [
              0.2222222222222222,
              "#7201a8"
             ],
             [
              0.3333333333333333,
              "#9c179e"
             ],
             [
              0.4444444444444444,
              "#bd3786"
             ],
             [
              0.5555555555555556,
              "#d8576b"
             ],
             [
              0.6666666666666666,
              "#ed7953"
             ],
             [
              0.7777777777777778,
              "#fb9f3a"
             ],
             [
              0.8888888888888888,
              "#fdca26"
             ],
             [
              1.0,
              "#f0f921"
             ]
            ]
           }
          ],
          "contourcarpet": [
           {
            "type": "contourcarpet",
            "colorbar": {
             "outlinewidth": 0,
             "ticks": ""
            }
           }
          ],
          "contour": [
           {
            "type": "contour",
            "colorbar": {
             "outlinewidth": 0,
             "ticks": ""
            },
            "colorscale": [
             [
              0.0,
              "#0d0887"
             ],
             [
              0.1111111111111111,
              "#46039f"
             ],
             [
              0.2222222222222222,
              "#7201a8"
             ],
             [
              0.3333333333333333,
              "#9c179e"
             ],
             [
              0.4444444444444444,
              "#bd3786"
             ],
             [
              0.5555555555555556,
              "#d8576b"
             ],
             [
              0.6666666666666666,
              "#ed7953"
             ],
             [
              0.7777777777777778,
              "#fb9f3a"
             ],
             [
              0.8888888888888888,
              "#fdca26"
             ],
             [
              1.0,
              "#f0f921"
             ]
            ]
           }
          ],
          "surface": [
           {
            "type": "surface",
            "colorbar": {
             "outlinewidth": 0,
             "ticks": ""
            },
            "colorscale": [
             [
              0.0,
              "#0d0887"
             ],
             [
              0.1111111111111111,
              "#46039f"
             ],
             [
              0.2222222222222222,
              "#7201a8"
             ],
             [
              0.3333333333333333,
              "#9c179e"
             ],
             [
              0.4444444444444444,
              "#bd3786"
             ],
             [
              0.5555555555555556,
              "#d8576b"
             ],
             [
              0.6666666666666666,
              "#ed7953"
             ],
             [
              0.7777777777777778,
              "#fb9f3a"
             ],
             [
              0.8888888888888888,
              "#fdca26"
             ],
             [
              1.0,
              "#f0f921"
             ]
            ]
           }
          ],
          "mesh3d": [
           {
            "type": "mesh3d",
            "colorbar": {
             "outlinewidth": 0,
             "ticks": ""
            }
           }
          ],
          "scatter": [
           {
            "fillpattern": {
             "fillmode": "overlay",
             "size": 10,
             "solidity": 0.2
            },
            "type": "scatter"
           }
          ],
          "parcoords": [
           {
            "type": "parcoords",
            "line": {
             "colorbar": {
              "outlinewidth": 0,
              "ticks": ""
             }
            }
           }
          ],
          "scatterpolargl": [
           {
            "type": "scatterpolargl",
            "marker": {
             "colorbar": {
              "outlinewidth": 0,
              "ticks": ""
             }
            }
           }
          ],
          "bar": [
           {
            "error_x": {
             "color": "#2a3f5f"
            },
            "error_y": {
             "color": "#2a3f5f"
            },
            "marker": {
             "line": {
              "color": "#E5ECF6",
              "width": 0.5
             },
             "pattern": {
              "fillmode": "overlay",
              "size": 10,
              "solidity": 0.2
             }
            },
            "type": "bar"
           }
          ],
          "scattergeo": [
           {
            "type": "scattergeo",
            "marker": {
             "colorbar": {
              "outlinewidth": 0,
              "ticks": ""
             }
            }
           }
          ],
          "scatterpolar": [
           {
            "type": "scatterpolar",
            "marker": {
             "colorbar": {
              "outlinewidth": 0,
              "ticks": ""
             }
            }
           }
          ],
          "histogram": [
           {
            "marker": {
             "pattern": {
              "fillmode": "overlay",
              "size": 10,
              "solidity": 0.2
             }
            },
            "type": "histogram"
           }
          ],
          "scattergl": [
           {
            "type": "scattergl",
            "marker": {
             "colorbar": {
              "outlinewidth": 0,
              "ticks": ""
             }
            }
           }
          ],
          "scatter3d": [
           {
            "type": "scatter3d",
            "line": {
             "colorbar": {
              "outlinewidth": 0,
              "ticks": ""
             }
            },
            "marker": {
             "colorbar": {
              "outlinewidth": 0,
              "ticks": ""
             }
            }
           }
          ],
          "scattermapbox": [
           {
            "type": "scattermapbox",
            "marker": {
             "colorbar": {
              "outlinewidth": 0,
              "ticks": ""
             }
            }
           }
          ],
          "scatterternary": [
           {
            "type": "scatterternary",
            "marker": {
             "colorbar": {
              "outlinewidth": 0,
              "ticks": ""
             }
            }
           }
          ],
          "scattercarpet": [
           {
            "type": "scattercarpet",
            "marker": {
             "colorbar": {
              "outlinewidth": 0,
              "ticks": ""
             }
            }
           }
          ],
          "carpet": [
           {
            "aaxis": {
             "endlinecolor": "#2a3f5f",
             "gridcolor": "white",
             "linecolor": "white",
             "minorgridcolor": "white",
             "startlinecolor": "#2a3f5f"
            },
            "baxis": {
             "endlinecolor": "#2a3f5f",
             "gridcolor": "white",
             "linecolor": "white",
             "minorgridcolor": "white",
             "startlinecolor": "#2a3f5f"
            },
            "type": "carpet"
           }
          ],
          "table": [
           {
            "cells": {
             "fill": {
              "color": "#EBF0F8"
             },
             "line": {
              "color": "white"
             }
            },
            "header": {
             "fill": {
              "color": "#C8D4E3"
             },
             "line": {
              "color": "white"
             }
            },
            "type": "table"
           }
          ],
          "barpolar": [
           {
            "marker": {
             "line": {
              "color": "#E5ECF6",
              "width": 0.5
             },
             "pattern": {
              "fillmode": "overlay",
              "size": 10,
              "solidity": 0.2
             }
            },
            "type": "barpolar"
           }
          ],
          "pie": [
           {
            "automargin": true,
            "type": "pie"
           }
          ]
         },
         "layout": {
          "autotypenumbers": "strict",
          "colorway": [
           "#636efa",
           "#EF553B",
           "#00cc96",
           "#ab63fa",
           "#FFA15A",
           "#19d3f3",
           "#FF6692",
           "#B6E880",
           "#FF97FF",
           "#FECB52"
          ],
          "font": {
           "color": "#2a3f5f"
          },
          "hovermode": "closest",
          "hoverlabel": {
           "align": "left"
          },
          "paper_bgcolor": "white",
          "plot_bgcolor": "#E5ECF6",
          "polar": {
           "bgcolor": "#E5ECF6",
           "angularaxis": {
            "gridcolor": "white",
            "linecolor": "white",
            "ticks": ""
           },
           "radialaxis": {
            "gridcolor": "white",
            "linecolor": "white",
            "ticks": ""
           }
          },
          "ternary": {
           "bgcolor": "#E5ECF6",
           "aaxis": {
            "gridcolor": "white",
            "linecolor": "white",
            "ticks": ""
           },
           "baxis": {
            "gridcolor": "white",
            "linecolor": "white",
            "ticks": ""
           },
           "caxis": {
            "gridcolor": "white",
            "linecolor": "white",
            "ticks": ""
           }
          },
          "coloraxis": {
           "colorbar": {
            "outlinewidth": 0,
            "ticks": ""
           }
          },
          "colorscale": {
           "sequential": [
            [
             0.0,
             "#0d0887"
            ],
            [
             0.1111111111111111,
             "#46039f"
            ],
            [
             0.2222222222222222,
             "#7201a8"
            ],
            [
             0.3333333333333333,
             "#9c179e"
            ],
            [
             0.4444444444444444,
             "#bd3786"
            ],
            [
             0.5555555555555556,
             "#d8576b"
            ],
            [
             0.6666666666666666,
             "#ed7953"
            ],
            [
             0.7777777777777778,
             "#fb9f3a"
            ],
            [
             0.8888888888888888,
             "#fdca26"
            ],
            [
             1.0,
             "#f0f921"
            ]
           ],
           "sequentialminus": [
            [
             0.0,
             "#0d0887"
            ],
            [
             0.1111111111111111,
             "#46039f"
            ],
            [
             0.2222222222222222,
             "#7201a8"
            ],
            [
             0.3333333333333333,
             "#9c179e"
            ],
            [
             0.4444444444444444,
             "#bd3786"
            ],
            [
             0.5555555555555556,
             "#d8576b"
            ],
            [
             0.6666666666666666,
             "#ed7953"
            ],
            [
             0.7777777777777778,
             "#fb9f3a"
            ],
            [
             0.8888888888888888,
             "#fdca26"
            ],
            [
             1.0,
             "#f0f921"
            ]
           ],
           "diverging": [
            [
             0,
             "#8e0152"
            ],
            [
             0.1,
             "#c51b7d"
            ],
            [
             0.2,
             "#de77ae"
            ],
            [
             0.3,
             "#f1b6da"
            ],
            [
             0.4,
             "#fde0ef"
            ],
            [
             0.5,
             "#f7f7f7"
            ],
            [
             0.6,
             "#e6f5d0"
            ],
            [
             0.7,
             "#b8e186"
            ],
            [
             0.8,
             "#7fbc41"
            ],
            [
             0.9,
             "#4d9221"
            ],
            [
             1,
             "#276419"
            ]
           ]
          },
          "xaxis": {
           "gridcolor": "white",
           "linecolor": "white",
           "ticks": "",
           "title": {
            "standoff": 15
           },
           "zerolinecolor": "white",
           "automargin": true,
           "zerolinewidth": 2
          },
          "yaxis": {
           "gridcolor": "white",
           "linecolor": "white",
           "ticks": "",
           "title": {
            "standoff": 15
           },
           "zerolinecolor": "white",
           "automargin": true,
           "zerolinewidth": 2
          },
          "scene": {
           "xaxis": {
            "backgroundcolor": "#E5ECF6",
            "gridcolor": "white",
            "linecolor": "white",
            "showbackground": true,
            "ticks": "",
            "zerolinecolor": "white",
            "gridwidth": 2
           },
           "yaxis": {
            "backgroundcolor": "#E5ECF6",
            "gridcolor": "white",
            "linecolor": "white",
            "showbackground": true,
            "ticks": "",
            "zerolinecolor": "white",
            "gridwidth": 2
           },
           "zaxis": {
            "backgroundcolor": "#E5ECF6",
            "gridcolor": "white",
            "linecolor": "white",
            "showbackground": true,
            "ticks": "",
            "zerolinecolor": "white",
            "gridwidth": 2
           }
          },
          "shapedefaults": {
           "line": {
            "color": "#2a3f5f"
           }
          },
          "annotationdefaults": {
           "arrowcolor": "#2a3f5f",
           "arrowhead": 0,
           "arrowwidth": 1
          },
          "geo": {
           "bgcolor": "white",
           "landcolor": "#E5ECF6",
           "subunitcolor": "white",
           "showland": true,
           "showlakes": true,
           "lakecolor": "white"
          },
          "title": {
           "x": 0.05
          },
          "mapbox": {
           "style": "light"
          }
         }
        }
       },
       "config": {
        "plotlyServerURL": "https://plot.ly"
       }
      },
      "text/html": "<div>                            <div id=\"fd82c63c-42e8-4e10-8205-38c203138e95\" class=\"plotly-graph-div\" style=\"height:525px; width:100%;\"></div>            <script type=\"text/javascript\">                require([\"plotly\"], function(Plotly) {                    window.PLOTLYENV=window.PLOTLYENV || {};                                    if (document.getElementById(\"fd82c63c-42e8-4e10-8205-38c203138e95\")) {                    Plotly.newPlot(                        \"fd82c63c-42e8-4e10-8205-38c203138e95\",                        [{\"mode\":\"markers\",\"name\":\"Objective Value\",\"x\":[0,1,2,3,4,5,6,7,8,9,10,11,12,13,14,15,16,17,18,19,20,21,22,23,24,25,26,27,28,29,30,31,32,33,34,35,36,37,38,39,40,41,42,43,44,45,46,47,48,49,50,51,52,53,54,55,56,57,58,59,60,61,62,63,64,65,66,67,68,69,70,71,72,73,74,75,76,77,78,79,80,81,82,83,84,85,86,87,88,89,90,91,92,93,94,95,96,97,98,99,100,101,102,103,104,105,106,107,108,109,110,111,112,113,114,115,116,117,118,119,120,121,122,123,124,125,126,127,128,129,130,131,132,133,134,135,136,137,138,139,140,141,142,143,144,145,146,147,148,149,150,151,152,153,154,155,156,157,158,159,160,161,162,163,164,165,166,167,168,169,170,171,172,173,174,175,176,177,178,179,180,181,182,183,184,185,186,187,188,189,190,191,192,193,194,195,196,197,198,199],\"y\":[37260.01998850904,36201.93821072879,82862.51727196526,37197.575479574785,82880.80071385918,37424.38450748565,37215.70696946487,82848.91715439475,82881.96661909895,36544.36522685074,35535.78571569014,35960.24932490225,35576.64550052314,35774.29138207075,35742.96562723121,36094.74652206635,35733.101481578466,36335.95661533981,82874.42713261134,35800.88193163616,36848.89163761218,36137.9410976568,35699.811662917156,35934.25383877437,35858.64610047449,36030.84202926536,82873.8204705164,35923.4208518863,35885.20752352767,35799.32786396431,36810.36283246041,36055.60687282573,35928.477696759546,36172.70490808085,36250.47071029854,35627.371665031125,82885.78473192937,35854.43610392248,35523.51540271344,82884.99620699287,35634.79622139427,35933.91939982222,35460.18753597403,36917.70181942517,36098.87909250839,36812.00982367609,35706.5465372647,82879.65957135978,35548.52362593448,35754.256418887475,36306.78037914368,35678.36398233722,36767.440621021626,35366.86864306763,35620.21987708665,35787.47951069604,35944.896541203234,82887.5617921615,35693.84710362557,37214.83211413924,35501.08053043616,35614.679269147724,36021.983893071774,35874.13130453736,35710.58687101951,35841.26178511625,36867.2917327167,35919.94838473202,36221.76165269332,82879.98993583614,35845.32171707914,35766.47752115628,35701.156186565226,35947.73161777684,35989.36600883444,35727.444409950695,36134.767263123016,36821.81393324442,35431.35362713609,35751.288094280906,35838.43075352716,35650.35743998662,35636.353281411844,35835.15723987494,35981.868326180425,35649.55444091608,82884.97821609593,35592.639431535405,35730.50302527912,35577.072425678634,35368.16816299613,35702.02711458569,35549.026313478964,35749.2971832699,35480.59583517326,35418.653986757214,35593.88284761652,35711.74437195462,35623.165981134,35559.08297576763,82883.37839234505,35588.0653382743,35690.694403061294,35735.25432240865,35603.27018977477,35541.215681861264,35652.9251580233,35776.68423320332,35877.085417518756,35699.826062012224,35694.545338751814,35762.489826640274,35499.84817604683,35808.436019221976,35778.2536089273,36332.417713714116,35984.85069462807,35670.21262397967,35752.45718459153,82884.76868163115,35614.050735109886,35625.33522051489,35368.705741417405,35515.9529022746,35722.83637123032,35875.58795550855,35403.41560585755,35642.30086343519,35643.888636942356,35517.30055902444,35341.216439355856,35717.28111714076,35567.2230664013,35314.574680027814,35516.87015128923,35641.58583228179,35579.94862234256,35595.46591983699,35722.42914782082,35738.263124974306,35650.794924158574,35544.64085793546,35553.407217749605,35649.47366027144,35862.59929054119,35614.61433767783,35621.51504520559,82887.77209826074,35628.271825844065,35717.821390123914,35428.178053511685,35698.32604863722,35558.578227723716,35568.06568139313,35618.33512985513,35502.179687723394,35481.46371858374,35499.829139048794,35760.67366516336,35749.291564958876,35905.28020140003,35446.527709606,35563.4081576299,35520.20464591335,35576.5668931585,35753.90719459441,35577.94402866461,36671.92923243458,35916.90906995557,35761.012757644,82888.06648363636,35592.60751488998,35427.272090215134,35595.21099896735,35770.49862424044,35650.60078847266,36135.16099748076,35754.843605222064,35724.60613956104,35694.38498334263,36125.54667136638,35586.41422164007,35705.062670734565,35802.85927689919,35573.41238685557,35531.4665188829,35554.60007641458,35649.890273193276,35522.4021175815,35645.40878171809,36096.549910124835,35651.74609234388,35545.49745195326,35713.15373305477,35719.2918704438,35503.574757976516,35384.81340419085,35708.57649187763,35738.350088524174,35686.734948420875],\"type\":\"scatter\"},{\"mode\":\"lines\",\"name\":\"Best Value\",\"x\":[0,1,2,3,4,5,6,7,8,9,10,11,12,13,14,15,16,17,18,19,20,21,22,23,24,25,26,27,28,29,30,31,32,33,34,35,36,37,38,39,40,41,42,43,44,45,46,47,48,49,50,51,52,53,54,55,56,57,58,59,60,61,62,63,64,65,66,67,68,69,70,71,72,73,74,75,76,77,78,79,80,81,82,83,84,85,86,87,88,89,90,91,92,93,94,95,96,97,98,99,100,101,102,103,104,105,106,107,108,109,110,111,112,113,114,115,116,117,118,119,120,121,122,123,124,125,126,127,128,129,130,131,132,133,134,135,136,137,138,139,140,141,142,143,144,145,146,147,148,149,150,151,152,153,154,155,156,157,158,159,160,161,162,163,164,165,166,167,168,169,170,171,172,173,174,175,176,177,178,179,180,181,182,183,184,185,186,187,188,189,190,191,192,193,194,195,196,197,198,199],\"y\":[37260.01998850904,36201.93821072879,36201.93821072879,36201.93821072879,36201.93821072879,36201.93821072879,36201.93821072879,36201.93821072879,36201.93821072879,36201.93821072879,35535.78571569014,35535.78571569014,35535.78571569014,35535.78571569014,35535.78571569014,35535.78571569014,35535.78571569014,35535.78571569014,35535.78571569014,35535.78571569014,35535.78571569014,35535.78571569014,35535.78571569014,35535.78571569014,35535.78571569014,35535.78571569014,35535.78571569014,35535.78571569014,35535.78571569014,35535.78571569014,35535.78571569014,35535.78571569014,35535.78571569014,35535.78571569014,35535.78571569014,35535.78571569014,35535.78571569014,35535.78571569014,35523.51540271344,35523.51540271344,35523.51540271344,35523.51540271344,35460.18753597403,35460.18753597403,35460.18753597403,35460.18753597403,35460.18753597403,35460.18753597403,35460.18753597403,35460.18753597403,35460.18753597403,35460.18753597403,35460.18753597403,35366.86864306763,35366.86864306763,35366.86864306763,35366.86864306763,35366.86864306763,35366.86864306763,35366.86864306763,35366.86864306763,35366.86864306763,35366.86864306763,35366.86864306763,35366.86864306763,35366.86864306763,35366.86864306763,35366.86864306763,35366.86864306763,35366.86864306763,35366.86864306763,35366.86864306763,35366.86864306763,35366.86864306763,35366.86864306763,35366.86864306763,35366.86864306763,35366.86864306763,35366.86864306763,35366.86864306763,35366.86864306763,35366.86864306763,35366.86864306763,35366.86864306763,35366.86864306763,35366.86864306763,35366.86864306763,35366.86864306763,35366.86864306763,35366.86864306763,35366.86864306763,35366.86864306763,35366.86864306763,35366.86864306763,35366.86864306763,35366.86864306763,35366.86864306763,35366.86864306763,35366.86864306763,35366.86864306763,35366.86864306763,35366.86864306763,35366.86864306763,35366.86864306763,35366.86864306763,35366.86864306763,35366.86864306763,35366.86864306763,35366.86864306763,35366.86864306763,35366.86864306763,35366.86864306763,35366.86864306763,35366.86864306763,35366.86864306763,35366.86864306763,35366.86864306763,35366.86864306763,35366.86864306763,35366.86864306763,35366.86864306763,35366.86864306763,35366.86864306763,35366.86864306763,35366.86864306763,35366.86864306763,35366.86864306763,35366.86864306763,35366.86864306763,35366.86864306763,35341.216439355856,35341.216439355856,35341.216439355856,35314.574680027814,35314.574680027814,35314.574680027814,35314.574680027814,35314.574680027814,35314.574680027814,35314.574680027814,35314.574680027814,35314.574680027814,35314.574680027814,35314.574680027814,35314.574680027814,35314.574680027814,35314.574680027814,35314.574680027814,35314.574680027814,35314.574680027814,35314.574680027814,35314.574680027814,35314.574680027814,35314.574680027814,35314.574680027814,35314.574680027814,35314.574680027814,35314.574680027814,35314.574680027814,35314.574680027814,35314.574680027814,35314.574680027814,35314.574680027814,35314.574680027814,35314.574680027814,35314.574680027814,35314.574680027814,35314.574680027814,35314.574680027814,35314.574680027814,35314.574680027814,35314.574680027814,35314.574680027814,35314.574680027814,35314.574680027814,35314.574680027814,35314.574680027814,35314.574680027814,35314.574680027814,35314.574680027814,35314.574680027814,35314.574680027814,35314.574680027814,35314.574680027814,35314.574680027814,35314.574680027814,35314.574680027814,35314.574680027814,35314.574680027814,35314.574680027814,35314.574680027814,35314.574680027814,35314.574680027814,35314.574680027814,35314.574680027814,35314.574680027814,35314.574680027814,35314.574680027814,35314.574680027814,35314.574680027814],\"type\":\"scatter\"},{\"marker\":{\"color\":\"#cccccc\"},\"mode\":\"markers\",\"name\":\"Infeasible Trial\",\"showlegend\":false,\"x\":[],\"y\":[],\"type\":\"scatter\"}],                        {\"title\":{\"text\":\"Optimization History Plot\"},\"xaxis\":{\"title\":{\"text\":\"Trial\"}},\"yaxis\":{\"title\":{\"text\":\"Objective Value\"}},\"template\":{\"data\":{\"histogram2dcontour\":[{\"type\":\"histogram2dcontour\",\"colorbar\":{\"outlinewidth\":0,\"ticks\":\"\"},\"colorscale\":[[0.0,\"#0d0887\"],[0.1111111111111111,\"#46039f\"],[0.2222222222222222,\"#7201a8\"],[0.3333333333333333,\"#9c179e\"],[0.4444444444444444,\"#bd3786\"],[0.5555555555555556,\"#d8576b\"],[0.6666666666666666,\"#ed7953\"],[0.7777777777777778,\"#fb9f3a\"],[0.8888888888888888,\"#fdca26\"],[1.0,\"#f0f921\"]]}],\"choropleth\":[{\"type\":\"choropleth\",\"colorbar\":{\"outlinewidth\":0,\"ticks\":\"\"}}],\"histogram2d\":[{\"type\":\"histogram2d\",\"colorbar\":{\"outlinewidth\":0,\"ticks\":\"\"},\"colorscale\":[[0.0,\"#0d0887\"],[0.1111111111111111,\"#46039f\"],[0.2222222222222222,\"#7201a8\"],[0.3333333333333333,\"#9c179e\"],[0.4444444444444444,\"#bd3786\"],[0.5555555555555556,\"#d8576b\"],[0.6666666666666666,\"#ed7953\"],[0.7777777777777778,\"#fb9f3a\"],[0.8888888888888888,\"#fdca26\"],[1.0,\"#f0f921\"]]}],\"heatmap\":[{\"type\":\"heatmap\",\"colorbar\":{\"outlinewidth\":0,\"ticks\":\"\"},\"colorscale\":[[0.0,\"#0d0887\"],[0.1111111111111111,\"#46039f\"],[0.2222222222222222,\"#7201a8\"],[0.3333333333333333,\"#9c179e\"],[0.4444444444444444,\"#bd3786\"],[0.5555555555555556,\"#d8576b\"],[0.6666666666666666,\"#ed7953\"],[0.7777777777777778,\"#fb9f3a\"],[0.8888888888888888,\"#fdca26\"],[1.0,\"#f0f921\"]]}],\"heatmapgl\":[{\"type\":\"heatmapgl\",\"colorbar\":{\"outlinewidth\":0,\"ticks\":\"\"},\"colorscale\":[[0.0,\"#0d0887\"],[0.1111111111111111,\"#46039f\"],[0.2222222222222222,\"#7201a8\"],[0.3333333333333333,\"#9c179e\"],[0.4444444444444444,\"#bd3786\"],[0.5555555555555556,\"#d8576b\"],[0.6666666666666666,\"#ed7953\"],[0.7777777777777778,\"#fb9f3a\"],[0.8888888888888888,\"#fdca26\"],[1.0,\"#f0f921\"]]}],\"contourcarpet\":[{\"type\":\"contourcarpet\",\"colorbar\":{\"outlinewidth\":0,\"ticks\":\"\"}}],\"contour\":[{\"type\":\"contour\",\"colorbar\":{\"outlinewidth\":0,\"ticks\":\"\"},\"colorscale\":[[0.0,\"#0d0887\"],[0.1111111111111111,\"#46039f\"],[0.2222222222222222,\"#7201a8\"],[0.3333333333333333,\"#9c179e\"],[0.4444444444444444,\"#bd3786\"],[0.5555555555555556,\"#d8576b\"],[0.6666666666666666,\"#ed7953\"],[0.7777777777777778,\"#fb9f3a\"],[0.8888888888888888,\"#fdca26\"],[1.0,\"#f0f921\"]]}],\"surface\":[{\"type\":\"surface\",\"colorbar\":{\"outlinewidth\":0,\"ticks\":\"\"},\"colorscale\":[[0.0,\"#0d0887\"],[0.1111111111111111,\"#46039f\"],[0.2222222222222222,\"#7201a8\"],[0.3333333333333333,\"#9c179e\"],[0.4444444444444444,\"#bd3786\"],[0.5555555555555556,\"#d8576b\"],[0.6666666666666666,\"#ed7953\"],[0.7777777777777778,\"#fb9f3a\"],[0.8888888888888888,\"#fdca26\"],[1.0,\"#f0f921\"]]}],\"mesh3d\":[{\"type\":\"mesh3d\",\"colorbar\":{\"outlinewidth\":0,\"ticks\":\"\"}}],\"scatter\":[{\"fillpattern\":{\"fillmode\":\"overlay\",\"size\":10,\"solidity\":0.2},\"type\":\"scatter\"}],\"parcoords\":[{\"type\":\"parcoords\",\"line\":{\"colorbar\":{\"outlinewidth\":0,\"ticks\":\"\"}}}],\"scatterpolargl\":[{\"type\":\"scatterpolargl\",\"marker\":{\"colorbar\":{\"outlinewidth\":0,\"ticks\":\"\"}}}],\"bar\":[{\"error_x\":{\"color\":\"#2a3f5f\"},\"error_y\":{\"color\":\"#2a3f5f\"},\"marker\":{\"line\":{\"color\":\"#E5ECF6\",\"width\":0.5},\"pattern\":{\"fillmode\":\"overlay\",\"size\":10,\"solidity\":0.2}},\"type\":\"bar\"}],\"scattergeo\":[{\"type\":\"scattergeo\",\"marker\":{\"colorbar\":{\"outlinewidth\":0,\"ticks\":\"\"}}}],\"scatterpolar\":[{\"type\":\"scatterpolar\",\"marker\":{\"colorbar\":{\"outlinewidth\":0,\"ticks\":\"\"}}}],\"histogram\":[{\"marker\":{\"pattern\":{\"fillmode\":\"overlay\",\"size\":10,\"solidity\":0.2}},\"type\":\"histogram\"}],\"scattergl\":[{\"type\":\"scattergl\",\"marker\":{\"colorbar\":{\"outlinewidth\":0,\"ticks\":\"\"}}}],\"scatter3d\":[{\"type\":\"scatter3d\",\"line\":{\"colorbar\":{\"outlinewidth\":0,\"ticks\":\"\"}},\"marker\":{\"colorbar\":{\"outlinewidth\":0,\"ticks\":\"\"}}}],\"scattermapbox\":[{\"type\":\"scattermapbox\",\"marker\":{\"colorbar\":{\"outlinewidth\":0,\"ticks\":\"\"}}}],\"scatterternary\":[{\"type\":\"scatterternary\",\"marker\":{\"colorbar\":{\"outlinewidth\":0,\"ticks\":\"\"}}}],\"scattercarpet\":[{\"type\":\"scattercarpet\",\"marker\":{\"colorbar\":{\"outlinewidth\":0,\"ticks\":\"\"}}}],\"carpet\":[{\"aaxis\":{\"endlinecolor\":\"#2a3f5f\",\"gridcolor\":\"white\",\"linecolor\":\"white\",\"minorgridcolor\":\"white\",\"startlinecolor\":\"#2a3f5f\"},\"baxis\":{\"endlinecolor\":\"#2a3f5f\",\"gridcolor\":\"white\",\"linecolor\":\"white\",\"minorgridcolor\":\"white\",\"startlinecolor\":\"#2a3f5f\"},\"type\":\"carpet\"}],\"table\":[{\"cells\":{\"fill\":{\"color\":\"#EBF0F8\"},\"line\":{\"color\":\"white\"}},\"header\":{\"fill\":{\"color\":\"#C8D4E3\"},\"line\":{\"color\":\"white\"}},\"type\":\"table\"}],\"barpolar\":[{\"marker\":{\"line\":{\"color\":\"#E5ECF6\",\"width\":0.5},\"pattern\":{\"fillmode\":\"overlay\",\"size\":10,\"solidity\":0.2}},\"type\":\"barpolar\"}],\"pie\":[{\"automargin\":true,\"type\":\"pie\"}]},\"layout\":{\"autotypenumbers\":\"strict\",\"colorway\":[\"#636efa\",\"#EF553B\",\"#00cc96\",\"#ab63fa\",\"#FFA15A\",\"#19d3f3\",\"#FF6692\",\"#B6E880\",\"#FF97FF\",\"#FECB52\"],\"font\":{\"color\":\"#2a3f5f\"},\"hovermode\":\"closest\",\"hoverlabel\":{\"align\":\"left\"},\"paper_bgcolor\":\"white\",\"plot_bgcolor\":\"#E5ECF6\",\"polar\":{\"bgcolor\":\"#E5ECF6\",\"angularaxis\":{\"gridcolor\":\"white\",\"linecolor\":\"white\",\"ticks\":\"\"},\"radialaxis\":{\"gridcolor\":\"white\",\"linecolor\":\"white\",\"ticks\":\"\"}},\"ternary\":{\"bgcolor\":\"#E5ECF6\",\"aaxis\":{\"gridcolor\":\"white\",\"linecolor\":\"white\",\"ticks\":\"\"},\"baxis\":{\"gridcolor\":\"white\",\"linecolor\":\"white\",\"ticks\":\"\"},\"caxis\":{\"gridcolor\":\"white\",\"linecolor\":\"white\",\"ticks\":\"\"}},\"coloraxis\":{\"colorbar\":{\"outlinewidth\":0,\"ticks\":\"\"}},\"colorscale\":{\"sequential\":[[0.0,\"#0d0887\"],[0.1111111111111111,\"#46039f\"],[0.2222222222222222,\"#7201a8\"],[0.3333333333333333,\"#9c179e\"],[0.4444444444444444,\"#bd3786\"],[0.5555555555555556,\"#d8576b\"],[0.6666666666666666,\"#ed7953\"],[0.7777777777777778,\"#fb9f3a\"],[0.8888888888888888,\"#fdca26\"],[1.0,\"#f0f921\"]],\"sequentialminus\":[[0.0,\"#0d0887\"],[0.1111111111111111,\"#46039f\"],[0.2222222222222222,\"#7201a8\"],[0.3333333333333333,\"#9c179e\"],[0.4444444444444444,\"#bd3786\"],[0.5555555555555556,\"#d8576b\"],[0.6666666666666666,\"#ed7953\"],[0.7777777777777778,\"#fb9f3a\"],[0.8888888888888888,\"#fdca26\"],[1.0,\"#f0f921\"]],\"diverging\":[[0,\"#8e0152\"],[0.1,\"#c51b7d\"],[0.2,\"#de77ae\"],[0.3,\"#f1b6da\"],[0.4,\"#fde0ef\"],[0.5,\"#f7f7f7\"],[0.6,\"#e6f5d0\"],[0.7,\"#b8e186\"],[0.8,\"#7fbc41\"],[0.9,\"#4d9221\"],[1,\"#276419\"]]},\"xaxis\":{\"gridcolor\":\"white\",\"linecolor\":\"white\",\"ticks\":\"\",\"title\":{\"standoff\":15},\"zerolinecolor\":\"white\",\"automargin\":true,\"zerolinewidth\":2},\"yaxis\":{\"gridcolor\":\"white\",\"linecolor\":\"white\",\"ticks\":\"\",\"title\":{\"standoff\":15},\"zerolinecolor\":\"white\",\"automargin\":true,\"zerolinewidth\":2},\"scene\":{\"xaxis\":{\"backgroundcolor\":\"#E5ECF6\",\"gridcolor\":\"white\",\"linecolor\":\"white\",\"showbackground\":true,\"ticks\":\"\",\"zerolinecolor\":\"white\",\"gridwidth\":2},\"yaxis\":{\"backgroundcolor\":\"#E5ECF6\",\"gridcolor\":\"white\",\"linecolor\":\"white\",\"showbackground\":true,\"ticks\":\"\",\"zerolinecolor\":\"white\",\"gridwidth\":2},\"zaxis\":{\"backgroundcolor\":\"#E5ECF6\",\"gridcolor\":\"white\",\"linecolor\":\"white\",\"showbackground\":true,\"ticks\":\"\",\"zerolinecolor\":\"white\",\"gridwidth\":2}},\"shapedefaults\":{\"line\":{\"color\":\"#2a3f5f\"}},\"annotationdefaults\":{\"arrowcolor\":\"#2a3f5f\",\"arrowhead\":0,\"arrowwidth\":1},\"geo\":{\"bgcolor\":\"white\",\"landcolor\":\"#E5ECF6\",\"subunitcolor\":\"white\",\"showland\":true,\"showlakes\":true,\"lakecolor\":\"white\"},\"title\":{\"x\":0.05},\"mapbox\":{\"style\":\"light\"}}}},                        {\"responsive\": true}                    ).then(function(){\n                            \nvar gd = document.getElementById('fd82c63c-42e8-4e10-8205-38c203138e95');\nvar x = new MutationObserver(function (mutations, observer) {{\n        var display = window.getComputedStyle(gd).display;\n        if (!display || display === 'none') {{\n            console.log([gd, 'removed!']);\n            Plotly.purge(gd);\n            observer.disconnect();\n        }}\n}});\n\n// Listen for the removal of the full notebook cells\nvar notebookContainer = gd.closest('#notebook-container');\nif (notebookContainer) {{\n    x.observe(notebookContainer, {childList: true});\n}}\n\n// Listen for the clearing of the current output cell\nvar outputEl = gd.closest('.output');\nif (outputEl) {{\n    x.observe(outputEl, {childList: true});\n}}\n\n                        })                };                });            </script>        </div>"
     },
     "metadata": {},
     "output_type": "display_data"
    }
   ],
   "source": [
    "# Visualizing history\n",
    "optuna.visualization.plot_optimization_history(study)"
   ],
   "metadata": {
    "collapsed": false,
    "ExecuteTime": {
     "end_time": "2025-03-12T18:22:30.722497200Z",
     "start_time": "2025-03-12T18:22:30.558881300Z"
    }
   },
   "id": "b9688645a5dfd9ee"
  },
  {
   "cell_type": "code",
   "execution_count": 124,
   "outputs": [
    {
     "data": {
      "application/vnd.plotly.v1+json": {
       "data": [
        {
         "marker": {
          "color": [
           0,
           1,
           2,
           3,
           4,
           5,
           6,
           7,
           8,
           9,
           10,
           11,
           12,
           13,
           14,
           15,
           16,
           17,
           18,
           19,
           20,
           21,
           22,
           23,
           24,
           25,
           26,
           27,
           28,
           29,
           30,
           31,
           32,
           33,
           34,
           35,
           36,
           37,
           38,
           39,
           40,
           41,
           42,
           43,
           44,
           45,
           46,
           47,
           48,
           49,
           50,
           51,
           52,
           53,
           54,
           55,
           56,
           57,
           58,
           59,
           60,
           61,
           62,
           63,
           64,
           65,
           66,
           67,
           68,
           69,
           70,
           71,
           72,
           73,
           74,
           75,
           76,
           77,
           78,
           79,
           80,
           81,
           82,
           83,
           84,
           85,
           86,
           87,
           88,
           89,
           90,
           91,
           92,
           93,
           94,
           95,
           96,
           97,
           98,
           99,
           100,
           101,
           102,
           103,
           104,
           105,
           106,
           107,
           108,
           109,
           110,
           111,
           112,
           113,
           114,
           115,
           116,
           117,
           118,
           119,
           120,
           121,
           122,
           123,
           124,
           125,
           126,
           127,
           128,
           129,
           130,
           131,
           132,
           133,
           134,
           135,
           136,
           137,
           138,
           139,
           140,
           141,
           142,
           143,
           144,
           145,
           146,
           147,
           148,
           149,
           150,
           151,
           152,
           153,
           154,
           155,
           156,
           157,
           158,
           159,
           160,
           161,
           162,
           163,
           164,
           165,
           166,
           167,
           168,
           169,
           170,
           171,
           172,
           173,
           174,
           175,
           176,
           177,
           178,
           179,
           180,
           181,
           182,
           183,
           184,
           185,
           186,
           187,
           188,
           189,
           190,
           191,
           192,
           193,
           194,
           195,
           196,
           197,
           198,
           199
          ],
          "colorbar": {
           "title": {
            "text": "Trial"
           },
           "x": 1.0,
           "xpad": 40
          },
          "colorscale": [
           [
            0.0,
            "rgb(247,251,255)"
           ],
           [
            0.125,
            "rgb(222,235,247)"
           ],
           [
            0.25,
            "rgb(198,219,239)"
           ],
           [
            0.375,
            "rgb(158,202,225)"
           ],
           [
            0.5,
            "rgb(107,174,214)"
           ],
           [
            0.625,
            "rgb(66,146,198)"
           ],
           [
            0.75,
            "rgb(33,113,181)"
           ],
           [
            0.875,
            "rgb(8,81,156)"
           ],
           [
            1.0,
            "rgb(8,48,107)"
           ]
          ],
          "line": {
           "color": "Grey",
           "width": 0.5
          },
          "showscale": true
         },
         "mode": "markers",
         "name": "Feasible Trial",
         "showlegend": false,
         "x": [
          0.19277680592521607,
          0.09021521954925057,
          0.18731656585855938,
          0.1772451541956797,
          0.06396516217142965,
          0.15045150885043787,
          0.13998962178765179,
          0.12258591755400354,
          0.051678166095326564,
          0.11348268757660254,
          0.08710561808420092,
          0.08780264568650334,
          0.08541089285015413,
          0.08889291526201357,
          0.0762603445853429,
          0.10483624703358249,
          0.10346561236215164,
          0.06939221148612248,
          0.14371054755776275,
          0.053241220687683784,
          0.1618282938270916,
          0.10217870462710468,
          0.10198949412602516,
          0.12493956211913794,
          0.07878399367091724,
          0.09635361486434263,
          0.11154943773696578,
          0.08007042832136314,
          0.06628607791487653,
          0.1147990129275799,
          0.12943477814419052,
          0.09930779712650784,
          0.09028574905594734,
          0.10846199881902115,
          0.09550521671421594,
          0.07750896486906113,
          0.06147748606000576,
          0.08020735777270194,
          0.07256732849210039,
          0.058596673285263655,
          0.07202499621580598,
          0.07153080258094802,
          0.08502261725997753,
          0.08812808239846646,
          0.08549526353531559,
          0.19875603037905124,
          0.0587381308506237,
          0.0830885884954539,
          0.07339303598474742,
          0.0943133268008132,
          0.06551453622616833,
          0.07404245040223605,
          0.1800793785195965,
          0.053816503508030016,
          0.053293712402841864,
          0.06741625696679863,
          0.05087565801253472,
          0.0575974136202055,
          0.09163349275335361,
          0.16194023750303171,
          0.0832137384759361,
          0.08250242760154364,
          0.07588473661185176,
          0.11937458926075896,
          0.06316806865308805,
          0.07031899095679643,
          0.13167687654992397,
          0.08628707411879949,
          0.1070623414164587,
          0.09816473782880823,
          0.09179947805720262,
          0.08275138168369077,
          0.08087524221316661,
          0.07557135386158419,
          0.0683564673213429,
          0.08480651718126879,
          0.07784255529398809,
          0.08915999075404821,
          0.06211831393597242,
          0.055442953726316926,
          0.07219429718566968,
          0.06781462558064444,
          0.062163186986310716,
          0.05922928508554668,
          0.10116692633663697,
          0.06432519854643358,
          0.07362693303479201,
          0.08029995279735427,
          0.09503212141460268,
          0.05000282306814683,
          0.05012445646891926,
          0.06067038448128501,
          0.05494603213312387,
          0.056099909591949076,
          0.06497129211988172,
          0.05369507271202232,
          0.054107780495291635,
          0.06388546228098077,
          0.05213840670028856,
          0.05896006472604093,
          0.06885545755233768,
          0.054862814770379936,
          0.06551918895088583,
          0.06072423892202885,
          0.05761438148567668,
          0.05085180534873669,
          0.050108340619015326,
          0.07038336990235608,
          0.0520321680800424,
          0.06202874520210431,
          0.07614795049261282,
          0.05260684633218724,
          0.05664888736350328,
          0.05699012155384711,
          0.06508789581728178,
          0.1531267964971734,
          0.06671792187312636,
          0.07214532188002937,
          0.06119852617436636,
          0.05742183713928339,
          0.07886762112370792,
          0.05397956732428416,
          0.05377613686021217,
          0.05008055117549465,
          0.050747023056999976,
          0.05595225911549978,
          0.059684694744361305,
          0.05930507469822753,
          0.06341958044524693,
          0.05409783094547383,
          0.05494851235993663,
          0.056737760636437096,
          0.06159098043294911,
          0.055152963805391086,
          0.053929103621644,
          0.05003769268373329,
          0.05370635939199235,
          0.055244123350754126,
          0.05979516059960233,
          0.057370790542764755,
          0.06343621454680863,
          0.05394413726238432,
          0.053493183309476694,
          0.058527521727592374,
          0.06024734976498304,
          0.055718355692129753,
          0.0662690878225499,
          0.0501497452761108,
          0.05327577353992912,
          0.06267576443841644,
          0.05861134017810919,
          0.05843042553495655,
          0.05364228202844405,
          0.05670399388884252,
          0.06056870106797455,
          0.05003437700003157,
          0.0520452712735682,
          0.05099521839175527,
          0.06525640573252403,
          0.05780241011866515,
          0.11839762952212926,
          0.050316228978960806,
          0.05259173568829338,
          0.05031571664731906,
          0.05649338778239899,
          0.06033186223445057,
          0.05234267291675457,
          0.06920528557970256,
          0.05562994955856106,
          0.06310694614828405,
          0.050032356910132664,
          0.05028707997765429,
          0.05829774244255606,
          0.05890303769757238,
          0.05559082647497517,
          0.06135809548134849,
          0.13422880431289413,
          0.057877141567466726,
          0.053123002689320846,
          0.06689613736305997,
          0.05511602323296005,
          0.05013810847204944,
          0.05253553910369687,
          0.056154581713389815,
          0.060004098092972746,
          0.053012636323637924,
          0.0634794563374295,
          0.05000042322165044,
          0.057593757539034125,
          0.05472905627954412,
          0.05969069023309328,
          0.053446370671929,
          0.053708113142160514,
          0.056631724219073684,
          0.052603176718440274,
          0.05750377823998894,
          0.06262109963097277,
          0.06372571512058062,
          0.06143576264391083,
          0.05825624499653852
         ],
         "y": [
          37260.01998850904,
          36201.93821072879,
          82862.51727196526,
          37197.575479574785,
          82880.80071385918,
          37424.38450748565,
          37215.70696946487,
          82848.91715439475,
          82881.96661909895,
          36544.36522685074,
          35535.78571569014,
          35960.24932490225,
          35576.64550052314,
          35774.29138207075,
          35742.96562723121,
          36094.74652206635,
          35733.101481578466,
          36335.95661533981,
          82874.42713261134,
          35800.88193163616,
          36848.89163761218,
          36137.9410976568,
          35699.811662917156,
          35934.25383877437,
          35858.64610047449,
          36030.84202926536,
          82873.8204705164,
          35923.4208518863,
          35885.20752352767,
          35799.32786396431,
          36810.36283246041,
          36055.60687282573,
          35928.477696759546,
          36172.70490808085,
          36250.47071029854,
          35627.371665031125,
          82885.78473192937,
          35854.43610392248,
          35523.51540271344,
          82884.99620699287,
          35634.79622139427,
          35933.91939982222,
          35460.18753597403,
          36917.70181942517,
          36098.87909250839,
          36812.00982367609,
          35706.5465372647,
          82879.65957135978,
          35548.52362593448,
          35754.256418887475,
          36306.78037914368,
          35678.36398233722,
          36767.440621021626,
          35366.86864306763,
          35620.21987708665,
          35787.47951069604,
          35944.896541203234,
          82887.5617921615,
          35693.84710362557,
          37214.83211413924,
          35501.08053043616,
          35614.679269147724,
          36021.983893071774,
          35874.13130453736,
          35710.58687101951,
          35841.26178511625,
          36867.2917327167,
          35919.94838473202,
          36221.76165269332,
          82879.98993583614,
          35845.32171707914,
          35766.47752115628,
          35701.156186565226,
          35947.73161777684,
          35989.36600883444,
          35727.444409950695,
          36134.767263123016,
          36821.81393324442,
          35431.35362713609,
          35751.288094280906,
          35838.43075352716,
          35650.35743998662,
          35636.353281411844,
          35835.15723987494,
          35981.868326180425,
          35649.55444091608,
          82884.97821609593,
          35592.639431535405,
          35730.50302527912,
          35577.072425678634,
          35368.16816299613,
          35702.02711458569,
          35549.026313478964,
          35749.2971832699,
          35480.59583517326,
          35418.653986757214,
          35593.88284761652,
          35711.74437195462,
          35623.165981134,
          35559.08297576763,
          82883.37839234505,
          35588.0653382743,
          35690.694403061294,
          35735.25432240865,
          35603.27018977477,
          35541.215681861264,
          35652.9251580233,
          35776.68423320332,
          35877.085417518756,
          35699.826062012224,
          35694.545338751814,
          35762.489826640274,
          35499.84817604683,
          35808.436019221976,
          35778.2536089273,
          36332.417713714116,
          35984.85069462807,
          35670.21262397967,
          35752.45718459153,
          82884.76868163115,
          35614.050735109886,
          35625.33522051489,
          35368.705741417405,
          35515.9529022746,
          35722.83637123032,
          35875.58795550855,
          35403.41560585755,
          35642.30086343519,
          35643.888636942356,
          35517.30055902444,
          35341.216439355856,
          35717.28111714076,
          35567.2230664013,
          35314.574680027814,
          35516.87015128923,
          35641.58583228179,
          35579.94862234256,
          35595.46591983699,
          35722.42914782082,
          35738.263124974306,
          35650.794924158574,
          35544.64085793546,
          35553.407217749605,
          35649.47366027144,
          35862.59929054119,
          35614.61433767783,
          35621.51504520559,
          82887.77209826074,
          35628.271825844065,
          35717.821390123914,
          35428.178053511685,
          35698.32604863722,
          35558.578227723716,
          35568.06568139313,
          35618.33512985513,
          35502.179687723394,
          35481.46371858374,
          35499.829139048794,
          35760.67366516336,
          35749.291564958876,
          35905.28020140003,
          35446.527709606,
          35563.4081576299,
          35520.20464591335,
          35576.5668931585,
          35753.90719459441,
          35577.94402866461,
          36671.92923243458,
          35916.90906995557,
          35761.012757644,
          82888.06648363636,
          35592.60751488998,
          35427.272090215134,
          35595.21099896735,
          35770.49862424044,
          35650.60078847266,
          36135.16099748076,
          35754.843605222064,
          35724.60613956104,
          35694.38498334263,
          36125.54667136638,
          35586.41422164007,
          35705.062670734565,
          35802.85927689919,
          35573.41238685557,
          35531.4665188829,
          35554.60007641458,
          35649.890273193276,
          35522.4021175815,
          35645.40878171809,
          36096.549910124835,
          35651.74609234388,
          35545.49745195326,
          35713.15373305477,
          35719.2918704438,
          35503.574757976516,
          35384.81340419085,
          35708.57649187763,
          35738.350088524174,
          35686.734948420875
         ],
         "type": "scatter",
         "xaxis": "x",
         "yaxis": "y"
        },
        {
         "marker": {
          "color": [
           0,
           1,
           2,
           3,
           4,
           5,
           6,
           7,
           8,
           9,
           10,
           11,
           12,
           13,
           14,
           15,
           16,
           17,
           18,
           19,
           20,
           21,
           22,
           23,
           24,
           25,
           26,
           27,
           28,
           29,
           30,
           31,
           32,
           33,
           34,
           35,
           36,
           37,
           38,
           39,
           40,
           41,
           42,
           43,
           44,
           45,
           46,
           47,
           48,
           49,
           50,
           51,
           52,
           53,
           54,
           55,
           56,
           57,
           58,
           59,
           60,
           61,
           62,
           63,
           64,
           65,
           66,
           67,
           68,
           69,
           70,
           71,
           72,
           73,
           74,
           75,
           76,
           77,
           78,
           79,
           80,
           81,
           82,
           83,
           84,
           85,
           86,
           87,
           88,
           89,
           90,
           91,
           92,
           93,
           94,
           95,
           96,
           97,
           98,
           99,
           100,
           101,
           102,
           103,
           104,
           105,
           106,
           107,
           108,
           109,
           110,
           111,
           112,
           113,
           114,
           115,
           116,
           117,
           118,
           119,
           120,
           121,
           122,
           123,
           124,
           125,
           126,
           127,
           128,
           129,
           130,
           131,
           132,
           133,
           134,
           135,
           136,
           137,
           138,
           139,
           140,
           141,
           142,
           143,
           144,
           145,
           146,
           147,
           148,
           149,
           150,
           151,
           152,
           153,
           154,
           155,
           156,
           157,
           158,
           159,
           160,
           161,
           162,
           163,
           164,
           165,
           166,
           167,
           168,
           169,
           170,
           171,
           172,
           173,
           174,
           175,
           176,
           177,
           178,
           179,
           180,
           181,
           182,
           183,
           184,
           185,
           186,
           187,
           188,
           189,
           190,
           191,
           192,
           193,
           194,
           195,
           196,
           197,
           198,
           199
          ],
          "colorbar": {
           "title": {
            "text": "Trial"
           },
           "x": 1.0,
           "xpad": 40
          },
          "colorscale": [
           [
            0.0,
            "rgb(247,251,255)"
           ],
           [
            0.125,
            "rgb(222,235,247)"
           ],
           [
            0.25,
            "rgb(198,219,239)"
           ],
           [
            0.375,
            "rgb(158,202,225)"
           ],
           [
            0.5,
            "rgb(107,174,214)"
           ],
           [
            0.625,
            "rgb(66,146,198)"
           ],
           [
            0.75,
            "rgb(33,113,181)"
           ],
           [
            0.875,
            "rgb(8,81,156)"
           ],
           [
            1.0,
            "rgb(8,48,107)"
           ]
          ],
          "line": {
           "color": "Grey",
           "width": 0.5
          },
          "showscale": false
         },
         "mode": "markers",
         "name": "Feasible Trial",
         "showlegend": false,
         "x": [
          18,
          13,
          22,
          25,
          24,
          25,
          15,
          17,
          22,
          13,
          12,
          10,
          10,
          10,
          12,
          16,
          11,
          14,
          18,
          20,
          12,
          11,
          10,
          10,
          12,
          14,
          11,
          14,
          10,
          16,
          13,
          11,
          11,
          12,
          10,
          13,
          13,
          15,
          19,
          19,
          21,
          21,
          23,
          24,
          23,
          17,
          25,
          23,
          19,
          19,
          19,
          20,
          18,
          17,
          17,
          20,
          22,
          21,
          18,
          16,
          24,
          24,
          25,
          23,
          22,
          15,
          19,
          20,
          24,
          17,
          23,
          24,
          24,
          22,
          12,
          25,
          24,
          21,
          23,
          22,
          23,
          25,
          24,
          23,
          24,
          20,
          15,
          11,
          11,
          10,
          10,
          10,
          10,
          11,
          10,
          10,
          12,
          10,
          14,
          18,
          12,
          10,
          10,
          11,
          11,
          10,
          13,
          16,
          10,
          19,
          11,
          10,
          10,
          10,
          11,
          11,
          12,
          21,
          10,
          17,
          23,
          10,
          10,
          11,
          11,
          11,
          10,
          10,
          10,
          11,
          11,
          11,
          11,
          10,
          10,
          10,
          10,
          10,
          10,
          12,
          10,
          11,
          11,
          10,
          11,
          12,
          11,
          10,
          10,
          10,
          11,
          11,
          12,
          11,
          10,
          11,
          10,
          10,
          10,
          10,
          10,
          11,
          11,
          13,
          10,
          10,
          23,
          22,
          11,
          12,
          10,
          11,
          11,
          10,
          11,
          14,
          11,
          10,
          25,
          10,
          15,
          11,
          12,
          11,
          10,
          11,
          10,
          11,
          10,
          11,
          12,
          10,
          10,
          10,
          10,
          16,
          16,
          17,
          16,
          16
         ],
         "y": [
          37260.01998850904,
          36201.93821072879,
          82862.51727196526,
          37197.575479574785,
          82880.80071385918,
          37424.38450748565,
          37215.70696946487,
          82848.91715439475,
          82881.96661909895,
          36544.36522685074,
          35535.78571569014,
          35960.24932490225,
          35576.64550052314,
          35774.29138207075,
          35742.96562723121,
          36094.74652206635,
          35733.101481578466,
          36335.95661533981,
          82874.42713261134,
          35800.88193163616,
          36848.89163761218,
          36137.9410976568,
          35699.811662917156,
          35934.25383877437,
          35858.64610047449,
          36030.84202926536,
          82873.8204705164,
          35923.4208518863,
          35885.20752352767,
          35799.32786396431,
          36810.36283246041,
          36055.60687282573,
          35928.477696759546,
          36172.70490808085,
          36250.47071029854,
          35627.371665031125,
          82885.78473192937,
          35854.43610392248,
          35523.51540271344,
          82884.99620699287,
          35634.79622139427,
          35933.91939982222,
          35460.18753597403,
          36917.70181942517,
          36098.87909250839,
          36812.00982367609,
          35706.5465372647,
          82879.65957135978,
          35548.52362593448,
          35754.256418887475,
          36306.78037914368,
          35678.36398233722,
          36767.440621021626,
          35366.86864306763,
          35620.21987708665,
          35787.47951069604,
          35944.896541203234,
          82887.5617921615,
          35693.84710362557,
          37214.83211413924,
          35501.08053043616,
          35614.679269147724,
          36021.983893071774,
          35874.13130453736,
          35710.58687101951,
          35841.26178511625,
          36867.2917327167,
          35919.94838473202,
          36221.76165269332,
          82879.98993583614,
          35845.32171707914,
          35766.47752115628,
          35701.156186565226,
          35947.73161777684,
          35989.36600883444,
          35727.444409950695,
          36134.767263123016,
          36821.81393324442,
          35431.35362713609,
          35751.288094280906,
          35838.43075352716,
          35650.35743998662,
          35636.353281411844,
          35835.15723987494,
          35981.868326180425,
          35649.55444091608,
          82884.97821609593,
          35592.639431535405,
          35730.50302527912,
          35577.072425678634,
          35368.16816299613,
          35702.02711458569,
          35549.026313478964,
          35749.2971832699,
          35480.59583517326,
          35418.653986757214,
          35593.88284761652,
          35711.74437195462,
          35623.165981134,
          35559.08297576763,
          82883.37839234505,
          35588.0653382743,
          35690.694403061294,
          35735.25432240865,
          35603.27018977477,
          35541.215681861264,
          35652.9251580233,
          35776.68423320332,
          35877.085417518756,
          35699.826062012224,
          35694.545338751814,
          35762.489826640274,
          35499.84817604683,
          35808.436019221976,
          35778.2536089273,
          36332.417713714116,
          35984.85069462807,
          35670.21262397967,
          35752.45718459153,
          82884.76868163115,
          35614.050735109886,
          35625.33522051489,
          35368.705741417405,
          35515.9529022746,
          35722.83637123032,
          35875.58795550855,
          35403.41560585755,
          35642.30086343519,
          35643.888636942356,
          35517.30055902444,
          35341.216439355856,
          35717.28111714076,
          35567.2230664013,
          35314.574680027814,
          35516.87015128923,
          35641.58583228179,
          35579.94862234256,
          35595.46591983699,
          35722.42914782082,
          35738.263124974306,
          35650.794924158574,
          35544.64085793546,
          35553.407217749605,
          35649.47366027144,
          35862.59929054119,
          35614.61433767783,
          35621.51504520559,
          82887.77209826074,
          35628.271825844065,
          35717.821390123914,
          35428.178053511685,
          35698.32604863722,
          35558.578227723716,
          35568.06568139313,
          35618.33512985513,
          35502.179687723394,
          35481.46371858374,
          35499.829139048794,
          35760.67366516336,
          35749.291564958876,
          35905.28020140003,
          35446.527709606,
          35563.4081576299,
          35520.20464591335,
          35576.5668931585,
          35753.90719459441,
          35577.94402866461,
          36671.92923243458,
          35916.90906995557,
          35761.012757644,
          82888.06648363636,
          35592.60751488998,
          35427.272090215134,
          35595.21099896735,
          35770.49862424044,
          35650.60078847266,
          36135.16099748076,
          35754.843605222064,
          35724.60613956104,
          35694.38498334263,
          36125.54667136638,
          35586.41422164007,
          35705.062670734565,
          35802.85927689919,
          35573.41238685557,
          35531.4665188829,
          35554.60007641458,
          35649.890273193276,
          35522.4021175815,
          35645.40878171809,
          36096.549910124835,
          35651.74609234388,
          35545.49745195326,
          35713.15373305477,
          35719.2918704438,
          35503.574757976516,
          35384.81340419085,
          35708.57649187763,
          35738.350088524174,
          35686.734948420875
         ],
         "type": "scatter",
         "xaxis": "x2",
         "yaxis": "y2"
        },
        {
         "marker": {
          "color": [
           0,
           1,
           2,
           3,
           4,
           5,
           6,
           7,
           8,
           9,
           10,
           11,
           12,
           13,
           14,
           15,
           16,
           17,
           18,
           19,
           20,
           21,
           22,
           23,
           24,
           25,
           26,
           27,
           28,
           29,
           30,
           31,
           32,
           33,
           34,
           35,
           36,
           37,
           38,
           39,
           40,
           41,
           42,
           43,
           44,
           45,
           46,
           47,
           48,
           49,
           50,
           51,
           52,
           53,
           54,
           55,
           56,
           57,
           58,
           59,
           60,
           61,
           62,
           63,
           64,
           65,
           66,
           67,
           68,
           69,
           70,
           71,
           72,
           73,
           74,
           75,
           76,
           77,
           78,
           79,
           80,
           81,
           82,
           83,
           84,
           85,
           86,
           87,
           88,
           89,
           90,
           91,
           92,
           93,
           94,
           95,
           96,
           97,
           98,
           99,
           100,
           101,
           102,
           103,
           104,
           105,
           106,
           107,
           108,
           109,
           110,
           111,
           112,
           113,
           114,
           115,
           116,
           117,
           118,
           119,
           120,
           121,
           122,
           123,
           124,
           125,
           126,
           127,
           128,
           129,
           130,
           131,
           132,
           133,
           134,
           135,
           136,
           137,
           138,
           139,
           140,
           141,
           142,
           143,
           144,
           145,
           146,
           147,
           148,
           149,
           150,
           151,
           152,
           153,
           154,
           155,
           156,
           157,
           158,
           159,
           160,
           161,
           162,
           163,
           164,
           165,
           166,
           167,
           168,
           169,
           170,
           171,
           172,
           173,
           174,
           175,
           176,
           177,
           178,
           179,
           180,
           181,
           182,
           183,
           184,
           185,
           186,
           187,
           188,
           189,
           190,
           191,
           192,
           193,
           194,
           195,
           196,
           197,
           198,
           199
          ],
          "colorbar": {
           "title": {
            "text": "Trial"
           },
           "x": 1.0,
           "xpad": 40
          },
          "colorscale": [
           [
            0.0,
            "rgb(247,251,255)"
           ],
           [
            0.125,
            "rgb(222,235,247)"
           ],
           [
            0.25,
            "rgb(198,219,239)"
           ],
           [
            0.375,
            "rgb(158,202,225)"
           ],
           [
            0.5,
            "rgb(107,174,214)"
           ],
           [
            0.625,
            "rgb(66,146,198)"
           ],
           [
            0.75,
            "rgb(33,113,181)"
           ],
           [
            0.875,
            "rgb(8,81,156)"
           ],
           [
            1.0,
            "rgb(8,48,107)"
           ]
          ],
          "line": {
           "color": "Grey",
           "width": 0.5
          },
          "showscale": false
         },
         "mode": "markers",
         "name": "Feasible Trial",
         "showlegend": false,
         "x": [
          964,
          374,
          441,
          535,
          568,
          977,
          829,
          955,
          646,
          662,
          355,
          309,
          309,
          302,
          452,
          414,
          529,
          764,
          365,
          480,
          625,
          540,
          363,
          366,
          333,
          406,
          484,
          352,
          405,
          300,
          592,
          504,
          402,
          446,
          742,
          363,
          386,
          357,
          441,
          439,
          340,
          331,
          322,
          908,
          437,
          321,
          390,
          472,
          300,
          306,
          700,
          325,
          376,
          429,
          423,
          300,
          514,
          334,
          383,
          564,
          460,
          469,
          422,
          342,
          459,
          417,
          487,
          351,
          542,
          391,
          320,
          463,
          373,
          510,
          427,
          491,
          597,
          822,
          398,
          403,
          351,
          439,
          317,
          368,
          450,
          399,
          350,
          312,
          300,
          331,
          332,
          328,
          339,
          373,
          358,
          385,
          387,
          413,
          367,
          398,
          433,
          340,
          354,
          384,
          344,
          313,
          321,
          417,
          998,
          306,
          361,
          335,
          381,
          376,
          656,
          361,
          408,
          316,
          382,
          458,
          392,
          343,
          328,
          323,
          355,
          325,
          438,
          430,
          477,
          440,
          495,
          445,
          501,
          451,
          465,
          493,
          463,
          522,
          469,
          417,
          453,
          438,
          401,
          482,
          426,
          413,
          452,
          373,
          435,
          720,
          402,
          401,
          392,
          552,
          476,
          419,
          416,
          380,
          381,
          411,
          367,
          422,
          422,
          401,
          425,
          387,
          408,
          920,
          449,
          620,
          359,
          346,
          377,
          383,
          396,
          372,
          429,
          359,
          412,
          393,
          778,
          342,
          323,
          331,
          442,
          374,
          352,
          426,
          410,
          390,
          681,
          462,
          450,
          464,
          438,
          419,
          421,
          422,
          405,
          414
         ],
         "y": [
          37260.01998850904,
          36201.93821072879,
          82862.51727196526,
          37197.575479574785,
          82880.80071385918,
          37424.38450748565,
          37215.70696946487,
          82848.91715439475,
          82881.96661909895,
          36544.36522685074,
          35535.78571569014,
          35960.24932490225,
          35576.64550052314,
          35774.29138207075,
          35742.96562723121,
          36094.74652206635,
          35733.101481578466,
          36335.95661533981,
          82874.42713261134,
          35800.88193163616,
          36848.89163761218,
          36137.9410976568,
          35699.811662917156,
          35934.25383877437,
          35858.64610047449,
          36030.84202926536,
          82873.8204705164,
          35923.4208518863,
          35885.20752352767,
          35799.32786396431,
          36810.36283246041,
          36055.60687282573,
          35928.477696759546,
          36172.70490808085,
          36250.47071029854,
          35627.371665031125,
          82885.78473192937,
          35854.43610392248,
          35523.51540271344,
          82884.99620699287,
          35634.79622139427,
          35933.91939982222,
          35460.18753597403,
          36917.70181942517,
          36098.87909250839,
          36812.00982367609,
          35706.5465372647,
          82879.65957135978,
          35548.52362593448,
          35754.256418887475,
          36306.78037914368,
          35678.36398233722,
          36767.440621021626,
          35366.86864306763,
          35620.21987708665,
          35787.47951069604,
          35944.896541203234,
          82887.5617921615,
          35693.84710362557,
          37214.83211413924,
          35501.08053043616,
          35614.679269147724,
          36021.983893071774,
          35874.13130453736,
          35710.58687101951,
          35841.26178511625,
          36867.2917327167,
          35919.94838473202,
          36221.76165269332,
          82879.98993583614,
          35845.32171707914,
          35766.47752115628,
          35701.156186565226,
          35947.73161777684,
          35989.36600883444,
          35727.444409950695,
          36134.767263123016,
          36821.81393324442,
          35431.35362713609,
          35751.288094280906,
          35838.43075352716,
          35650.35743998662,
          35636.353281411844,
          35835.15723987494,
          35981.868326180425,
          35649.55444091608,
          82884.97821609593,
          35592.639431535405,
          35730.50302527912,
          35577.072425678634,
          35368.16816299613,
          35702.02711458569,
          35549.026313478964,
          35749.2971832699,
          35480.59583517326,
          35418.653986757214,
          35593.88284761652,
          35711.74437195462,
          35623.165981134,
          35559.08297576763,
          82883.37839234505,
          35588.0653382743,
          35690.694403061294,
          35735.25432240865,
          35603.27018977477,
          35541.215681861264,
          35652.9251580233,
          35776.68423320332,
          35877.085417518756,
          35699.826062012224,
          35694.545338751814,
          35762.489826640274,
          35499.84817604683,
          35808.436019221976,
          35778.2536089273,
          36332.417713714116,
          35984.85069462807,
          35670.21262397967,
          35752.45718459153,
          82884.76868163115,
          35614.050735109886,
          35625.33522051489,
          35368.705741417405,
          35515.9529022746,
          35722.83637123032,
          35875.58795550855,
          35403.41560585755,
          35642.30086343519,
          35643.888636942356,
          35517.30055902444,
          35341.216439355856,
          35717.28111714076,
          35567.2230664013,
          35314.574680027814,
          35516.87015128923,
          35641.58583228179,
          35579.94862234256,
          35595.46591983699,
          35722.42914782082,
          35738.263124974306,
          35650.794924158574,
          35544.64085793546,
          35553.407217749605,
          35649.47366027144,
          35862.59929054119,
          35614.61433767783,
          35621.51504520559,
          82887.77209826074,
          35628.271825844065,
          35717.821390123914,
          35428.178053511685,
          35698.32604863722,
          35558.578227723716,
          35568.06568139313,
          35618.33512985513,
          35502.179687723394,
          35481.46371858374,
          35499.829139048794,
          35760.67366516336,
          35749.291564958876,
          35905.28020140003,
          35446.527709606,
          35563.4081576299,
          35520.20464591335,
          35576.5668931585,
          35753.90719459441,
          35577.94402866461,
          36671.92923243458,
          35916.90906995557,
          35761.012757644,
          82888.06648363636,
          35592.60751488998,
          35427.272090215134,
          35595.21099896735,
          35770.49862424044,
          35650.60078847266,
          36135.16099748076,
          35754.843605222064,
          35724.60613956104,
          35694.38498334263,
          36125.54667136638,
          35586.41422164007,
          35705.062670734565,
          35802.85927689919,
          35573.41238685557,
          35531.4665188829,
          35554.60007641458,
          35649.890273193276,
          35522.4021175815,
          35645.40878171809,
          36096.549910124835,
          35651.74609234388,
          35545.49745195326,
          35713.15373305477,
          35719.2918704438,
          35503.574757976516,
          35384.81340419085,
          35708.57649187763,
          35738.350088524174,
          35686.734948420875
         ],
         "type": "scatter",
         "xaxis": "x3",
         "yaxis": "y3"
        },
        {
         "marker": {
          "color": [
           0,
           1,
           2,
           3,
           4,
           5,
           6,
           7,
           8,
           9,
           10,
           11,
           12,
           13,
           14,
           15,
           16,
           17,
           18,
           19,
           20,
           21,
           22,
           23,
           24,
           25,
           26,
           27,
           28,
           29,
           30,
           31,
           32,
           33,
           34,
           35,
           36,
           37,
           38,
           39,
           40,
           41,
           42,
           43,
           44,
           45,
           46,
           47,
           48,
           49,
           50,
           51,
           52,
           53,
           54,
           55,
           56,
           57,
           58,
           59,
           60,
           61,
           62,
           63,
           64,
           65,
           66,
           67,
           68,
           69,
           70,
           71,
           72,
           73,
           74,
           75,
           76,
           77,
           78,
           79,
           80,
           81,
           82,
           83,
           84,
           85,
           86,
           87,
           88,
           89,
           90,
           91,
           92,
           93,
           94,
           95,
           96,
           97,
           98,
           99,
           100,
           101,
           102,
           103,
           104,
           105,
           106,
           107,
           108,
           109,
           110,
           111,
           112,
           113,
           114,
           115,
           116,
           117,
           118,
           119,
           120,
           121,
           122,
           123,
           124,
           125,
           126,
           127,
           128,
           129,
           130,
           131,
           132,
           133,
           134,
           135,
           136,
           137,
           138,
           139,
           140,
           141,
           142,
           143,
           144,
           145,
           146,
           147,
           148,
           149,
           150,
           151,
           152,
           153,
           154,
           155,
           156,
           157,
           158,
           159,
           160,
           161,
           162,
           163,
           164,
           165,
           166,
           167,
           168,
           169,
           170,
           171,
           172,
           173,
           174,
           175,
           176,
           177,
           178,
           179,
           180,
           181,
           182,
           183,
           184,
           185,
           186,
           187,
           188,
           189,
           190,
           191,
           192,
           193,
           194,
           195,
           196,
           197,
           198,
           199
          ],
          "colorbar": {
           "title": {
            "text": "Trial"
           },
           "x": 1.0,
           "xpad": 40
          },
          "colorscale": [
           [
            0.0,
            "rgb(247,251,255)"
           ],
           [
            0.125,
            "rgb(222,235,247)"
           ],
           [
            0.25,
            "rgb(198,219,239)"
           ],
           [
            0.375,
            "rgb(158,202,225)"
           ],
           [
            0.5,
            "rgb(107,174,214)"
           ],
           [
            0.625,
            "rgb(66,146,198)"
           ],
           [
            0.75,
            "rgb(33,113,181)"
           ],
           [
            0.875,
            "rgb(8,81,156)"
           ],
           [
            1.0,
            "rgb(8,48,107)"
           ]
          ],
          "line": {
           "color": "Grey",
           "width": 0.5
          },
          "showscale": false
         },
         "mode": "markers",
         "name": "Feasible Trial",
         "showlegend": false,
         "x": [
          "regression",
          "regression",
          "huber",
          "regression",
          "huber",
          "regression",
          "regression",
          "huber",
          "huber",
          "regression",
          "regression",
          "regression",
          "regression",
          "regression",
          "regression",
          "regression",
          "regression",
          "regression",
          "huber",
          "regression",
          "regression",
          "regression",
          "regression",
          "regression",
          "regression",
          "regression",
          "huber",
          "regression",
          "regression",
          "regression",
          "regression",
          "regression",
          "regression",
          "regression",
          "regression",
          "regression",
          "huber",
          "regression",
          "regression",
          "huber",
          "regression",
          "regression",
          "regression",
          "regression",
          "regression",
          "regression",
          "regression",
          "huber",
          "regression",
          "regression",
          "regression",
          "regression",
          "regression",
          "regression",
          "regression",
          "regression",
          "regression",
          "huber",
          "regression",
          "regression",
          "regression",
          "regression",
          "regression",
          "regression",
          "regression",
          "regression",
          "regression",
          "regression",
          "regression",
          "huber",
          "regression",
          "regression",
          "regression",
          "regression",
          "regression",
          "regression",
          "regression",
          "regression",
          "regression",
          "regression",
          "regression",
          "regression",
          "regression",
          "regression",
          "regression",
          "regression",
          "huber",
          "regression",
          "regression",
          "regression",
          "regression",
          "regression",
          "regression",
          "regression",
          "regression",
          "regression",
          "regression",
          "regression",
          "regression",
          "regression",
          "huber",
          "regression",
          "regression",
          "regression",
          "regression",
          "regression",
          "regression",
          "regression",
          "regression",
          "regression",
          "regression",
          "regression",
          "regression",
          "regression",
          "regression",
          "regression",
          "regression",
          "regression",
          "regression",
          "huber",
          "regression",
          "regression",
          "regression",
          "regression",
          "regression",
          "regression",
          "regression",
          "regression",
          "regression",
          "regression",
          "regression",
          "regression",
          "regression",
          "regression",
          "regression",
          "regression",
          "regression",
          "regression",
          "regression",
          "regression",
          "regression",
          "regression",
          "regression",
          "regression",
          "regression",
          "regression",
          "regression",
          "huber",
          "regression",
          "regression",
          "regression",
          "regression",
          "regression",
          "regression",
          "regression",
          "regression",
          "regression",
          "regression",
          "regression",
          "regression",
          "regression",
          "regression",
          "regression",
          "regression",
          "regression",
          "regression",
          "regression",
          "regression",
          "regression",
          "regression",
          "huber",
          "regression",
          "regression",
          "regression",
          "regression",
          "regression",
          "regression",
          "regression",
          "regression",
          "regression",
          "regression",
          "regression",
          "regression",
          "regression",
          "regression",
          "regression",
          "regression",
          "regression",
          "regression",
          "regression",
          "regression",
          "regression",
          "regression",
          "regression",
          "regression",
          "regression",
          "regression",
          "regression",
          "regression",
          "regression"
         ],
         "y": [
          37260.01998850904,
          36201.93821072879,
          82862.51727196526,
          37197.575479574785,
          82880.80071385918,
          37424.38450748565,
          37215.70696946487,
          82848.91715439475,
          82881.96661909895,
          36544.36522685074,
          35535.78571569014,
          35960.24932490225,
          35576.64550052314,
          35774.29138207075,
          35742.96562723121,
          36094.74652206635,
          35733.101481578466,
          36335.95661533981,
          82874.42713261134,
          35800.88193163616,
          36848.89163761218,
          36137.9410976568,
          35699.811662917156,
          35934.25383877437,
          35858.64610047449,
          36030.84202926536,
          82873.8204705164,
          35923.4208518863,
          35885.20752352767,
          35799.32786396431,
          36810.36283246041,
          36055.60687282573,
          35928.477696759546,
          36172.70490808085,
          36250.47071029854,
          35627.371665031125,
          82885.78473192937,
          35854.43610392248,
          35523.51540271344,
          82884.99620699287,
          35634.79622139427,
          35933.91939982222,
          35460.18753597403,
          36917.70181942517,
          36098.87909250839,
          36812.00982367609,
          35706.5465372647,
          82879.65957135978,
          35548.52362593448,
          35754.256418887475,
          36306.78037914368,
          35678.36398233722,
          36767.440621021626,
          35366.86864306763,
          35620.21987708665,
          35787.47951069604,
          35944.896541203234,
          82887.5617921615,
          35693.84710362557,
          37214.83211413924,
          35501.08053043616,
          35614.679269147724,
          36021.983893071774,
          35874.13130453736,
          35710.58687101951,
          35841.26178511625,
          36867.2917327167,
          35919.94838473202,
          36221.76165269332,
          82879.98993583614,
          35845.32171707914,
          35766.47752115628,
          35701.156186565226,
          35947.73161777684,
          35989.36600883444,
          35727.444409950695,
          36134.767263123016,
          36821.81393324442,
          35431.35362713609,
          35751.288094280906,
          35838.43075352716,
          35650.35743998662,
          35636.353281411844,
          35835.15723987494,
          35981.868326180425,
          35649.55444091608,
          82884.97821609593,
          35592.639431535405,
          35730.50302527912,
          35577.072425678634,
          35368.16816299613,
          35702.02711458569,
          35549.026313478964,
          35749.2971832699,
          35480.59583517326,
          35418.653986757214,
          35593.88284761652,
          35711.74437195462,
          35623.165981134,
          35559.08297576763,
          82883.37839234505,
          35588.0653382743,
          35690.694403061294,
          35735.25432240865,
          35603.27018977477,
          35541.215681861264,
          35652.9251580233,
          35776.68423320332,
          35877.085417518756,
          35699.826062012224,
          35694.545338751814,
          35762.489826640274,
          35499.84817604683,
          35808.436019221976,
          35778.2536089273,
          36332.417713714116,
          35984.85069462807,
          35670.21262397967,
          35752.45718459153,
          82884.76868163115,
          35614.050735109886,
          35625.33522051489,
          35368.705741417405,
          35515.9529022746,
          35722.83637123032,
          35875.58795550855,
          35403.41560585755,
          35642.30086343519,
          35643.888636942356,
          35517.30055902444,
          35341.216439355856,
          35717.28111714076,
          35567.2230664013,
          35314.574680027814,
          35516.87015128923,
          35641.58583228179,
          35579.94862234256,
          35595.46591983699,
          35722.42914782082,
          35738.263124974306,
          35650.794924158574,
          35544.64085793546,
          35553.407217749605,
          35649.47366027144,
          35862.59929054119,
          35614.61433767783,
          35621.51504520559,
          82887.77209826074,
          35628.271825844065,
          35717.821390123914,
          35428.178053511685,
          35698.32604863722,
          35558.578227723716,
          35568.06568139313,
          35618.33512985513,
          35502.179687723394,
          35481.46371858374,
          35499.829139048794,
          35760.67366516336,
          35749.291564958876,
          35905.28020140003,
          35446.527709606,
          35563.4081576299,
          35520.20464591335,
          35576.5668931585,
          35753.90719459441,
          35577.94402866461,
          36671.92923243458,
          35916.90906995557,
          35761.012757644,
          82888.06648363636,
          35592.60751488998,
          35427.272090215134,
          35595.21099896735,
          35770.49862424044,
          35650.60078847266,
          36135.16099748076,
          35754.843605222064,
          35724.60613956104,
          35694.38498334263,
          36125.54667136638,
          35586.41422164007,
          35705.062670734565,
          35802.85927689919,
          35573.41238685557,
          35531.4665188829,
          35554.60007641458,
          35649.890273193276,
          35522.4021175815,
          35645.40878171809,
          36096.549910124835,
          35651.74609234388,
          35545.49745195326,
          35713.15373305477,
          35719.2918704438,
          35503.574757976516,
          35384.81340419085,
          35708.57649187763,
          35738.350088524174,
          35686.734948420875
         ],
         "type": "scatter",
         "xaxis": "x4",
         "yaxis": "y4"
        }
       ],
       "layout": {
        "template": {
         "data": {
          "histogram2dcontour": [
           {
            "type": "histogram2dcontour",
            "colorbar": {
             "outlinewidth": 0,
             "ticks": ""
            },
            "colorscale": [
             [
              0.0,
              "#0d0887"
             ],
             [
              0.1111111111111111,
              "#46039f"
             ],
             [
              0.2222222222222222,
              "#7201a8"
             ],
             [
              0.3333333333333333,
              "#9c179e"
             ],
             [
              0.4444444444444444,
              "#bd3786"
             ],
             [
              0.5555555555555556,
              "#d8576b"
             ],
             [
              0.6666666666666666,
              "#ed7953"
             ],
             [
              0.7777777777777778,
              "#fb9f3a"
             ],
             [
              0.8888888888888888,
              "#fdca26"
             ],
             [
              1.0,
              "#f0f921"
             ]
            ]
           }
          ],
          "choropleth": [
           {
            "type": "choropleth",
            "colorbar": {
             "outlinewidth": 0,
             "ticks": ""
            }
           }
          ],
          "histogram2d": [
           {
            "type": "histogram2d",
            "colorbar": {
             "outlinewidth": 0,
             "ticks": ""
            },
            "colorscale": [
             [
              0.0,
              "#0d0887"
             ],
             [
              0.1111111111111111,
              "#46039f"
             ],
             [
              0.2222222222222222,
              "#7201a8"
             ],
             [
              0.3333333333333333,
              "#9c179e"
             ],
             [
              0.4444444444444444,
              "#bd3786"
             ],
             [
              0.5555555555555556,
              "#d8576b"
             ],
             [
              0.6666666666666666,
              "#ed7953"
             ],
             [
              0.7777777777777778,
              "#fb9f3a"
             ],
             [
              0.8888888888888888,
              "#fdca26"
             ],
             [
              1.0,
              "#f0f921"
             ]
            ]
           }
          ],
          "heatmap": [
           {
            "type": "heatmap",
            "colorbar": {
             "outlinewidth": 0,
             "ticks": ""
            },
            "colorscale": [
             [
              0.0,
              "#0d0887"
             ],
             [
              0.1111111111111111,
              "#46039f"
             ],
             [
              0.2222222222222222,
              "#7201a8"
             ],
             [
              0.3333333333333333,
              "#9c179e"
             ],
             [
              0.4444444444444444,
              "#bd3786"
             ],
             [
              0.5555555555555556,
              "#d8576b"
             ],
             [
              0.6666666666666666,
              "#ed7953"
             ],
             [
              0.7777777777777778,
              "#fb9f3a"
             ],
             [
              0.8888888888888888,
              "#fdca26"
             ],
             [
              1.0,
              "#f0f921"
             ]
            ]
           }
          ],
          "heatmapgl": [
           {
            "type": "heatmapgl",
            "colorbar": {
             "outlinewidth": 0,
             "ticks": ""
            },
            "colorscale": [
             [
              0.0,
              "#0d0887"
             ],
             [
              0.1111111111111111,
              "#46039f"
             ],
             [
              0.2222222222222222,
              "#7201a8"
             ],
             [
              0.3333333333333333,
              "#9c179e"
             ],
             [
              0.4444444444444444,
              "#bd3786"
             ],
             [
              0.5555555555555556,
              "#d8576b"
             ],
             [
              0.6666666666666666,
              "#ed7953"
             ],
             [
              0.7777777777777778,
              "#fb9f3a"
             ],
             [
              0.8888888888888888,
              "#fdca26"
             ],
             [
              1.0,
              "#f0f921"
             ]
            ]
           }
          ],
          "contourcarpet": [
           {
            "type": "contourcarpet",
            "colorbar": {
             "outlinewidth": 0,
             "ticks": ""
            }
           }
          ],
          "contour": [
           {
            "type": "contour",
            "colorbar": {
             "outlinewidth": 0,
             "ticks": ""
            },
            "colorscale": [
             [
              0.0,
              "#0d0887"
             ],
             [
              0.1111111111111111,
              "#46039f"
             ],
             [
              0.2222222222222222,
              "#7201a8"
             ],
             [
              0.3333333333333333,
              "#9c179e"
             ],
             [
              0.4444444444444444,
              "#bd3786"
             ],
             [
              0.5555555555555556,
              "#d8576b"
             ],
             [
              0.6666666666666666,
              "#ed7953"
             ],
             [
              0.7777777777777778,
              "#fb9f3a"
             ],
             [
              0.8888888888888888,
              "#fdca26"
             ],
             [
              1.0,
              "#f0f921"
             ]
            ]
           }
          ],
          "surface": [
           {
            "type": "surface",
            "colorbar": {
             "outlinewidth": 0,
             "ticks": ""
            },
            "colorscale": [
             [
              0.0,
              "#0d0887"
             ],
             [
              0.1111111111111111,
              "#46039f"
             ],
             [
              0.2222222222222222,
              "#7201a8"
             ],
             [
              0.3333333333333333,
              "#9c179e"
             ],
             [
              0.4444444444444444,
              "#bd3786"
             ],
             [
              0.5555555555555556,
              "#d8576b"
             ],
             [
              0.6666666666666666,
              "#ed7953"
             ],
             [
              0.7777777777777778,
              "#fb9f3a"
             ],
             [
              0.8888888888888888,
              "#fdca26"
             ],
             [
              1.0,
              "#f0f921"
             ]
            ]
           }
          ],
          "mesh3d": [
           {
            "type": "mesh3d",
            "colorbar": {
             "outlinewidth": 0,
             "ticks": ""
            }
           }
          ],
          "scatter": [
           {
            "fillpattern": {
             "fillmode": "overlay",
             "size": 10,
             "solidity": 0.2
            },
            "type": "scatter"
           }
          ],
          "parcoords": [
           {
            "type": "parcoords",
            "line": {
             "colorbar": {
              "outlinewidth": 0,
              "ticks": ""
             }
            }
           }
          ],
          "scatterpolargl": [
           {
            "type": "scatterpolargl",
            "marker": {
             "colorbar": {
              "outlinewidth": 0,
              "ticks": ""
             }
            }
           }
          ],
          "bar": [
           {
            "error_x": {
             "color": "#2a3f5f"
            },
            "error_y": {
             "color": "#2a3f5f"
            },
            "marker": {
             "line": {
              "color": "#E5ECF6",
              "width": 0.5
             },
             "pattern": {
              "fillmode": "overlay",
              "size": 10,
              "solidity": 0.2
             }
            },
            "type": "bar"
           }
          ],
          "scattergeo": [
           {
            "type": "scattergeo",
            "marker": {
             "colorbar": {
              "outlinewidth": 0,
              "ticks": ""
             }
            }
           }
          ],
          "scatterpolar": [
           {
            "type": "scatterpolar",
            "marker": {
             "colorbar": {
              "outlinewidth": 0,
              "ticks": ""
             }
            }
           }
          ],
          "histogram": [
           {
            "marker": {
             "pattern": {
              "fillmode": "overlay",
              "size": 10,
              "solidity": 0.2
             }
            },
            "type": "histogram"
           }
          ],
          "scattergl": [
           {
            "type": "scattergl",
            "marker": {
             "colorbar": {
              "outlinewidth": 0,
              "ticks": ""
             }
            }
           }
          ],
          "scatter3d": [
           {
            "type": "scatter3d",
            "line": {
             "colorbar": {
              "outlinewidth": 0,
              "ticks": ""
             }
            },
            "marker": {
             "colorbar": {
              "outlinewidth": 0,
              "ticks": ""
             }
            }
           }
          ],
          "scattermapbox": [
           {
            "type": "scattermapbox",
            "marker": {
             "colorbar": {
              "outlinewidth": 0,
              "ticks": ""
             }
            }
           }
          ],
          "scatterternary": [
           {
            "type": "scatterternary",
            "marker": {
             "colorbar": {
              "outlinewidth": 0,
              "ticks": ""
             }
            }
           }
          ],
          "scattercarpet": [
           {
            "type": "scattercarpet",
            "marker": {
             "colorbar": {
              "outlinewidth": 0,
              "ticks": ""
             }
            }
           }
          ],
          "carpet": [
           {
            "aaxis": {
             "endlinecolor": "#2a3f5f",
             "gridcolor": "white",
             "linecolor": "white",
             "minorgridcolor": "white",
             "startlinecolor": "#2a3f5f"
            },
            "baxis": {
             "endlinecolor": "#2a3f5f",
             "gridcolor": "white",
             "linecolor": "white",
             "minorgridcolor": "white",
             "startlinecolor": "#2a3f5f"
            },
            "type": "carpet"
           }
          ],
          "table": [
           {
            "cells": {
             "fill": {
              "color": "#EBF0F8"
             },
             "line": {
              "color": "white"
             }
            },
            "header": {
             "fill": {
              "color": "#C8D4E3"
             },
             "line": {
              "color": "white"
             }
            },
            "type": "table"
           }
          ],
          "barpolar": [
           {
            "marker": {
             "line": {
              "color": "#E5ECF6",
              "width": 0.5
             },
             "pattern": {
              "fillmode": "overlay",
              "size": 10,
              "solidity": 0.2
             }
            },
            "type": "barpolar"
           }
          ],
          "pie": [
           {
            "automargin": true,
            "type": "pie"
           }
          ]
         },
         "layout": {
          "autotypenumbers": "strict",
          "colorway": [
           "#636efa",
           "#EF553B",
           "#00cc96",
           "#ab63fa",
           "#FFA15A",
           "#19d3f3",
           "#FF6692",
           "#B6E880",
           "#FF97FF",
           "#FECB52"
          ],
          "font": {
           "color": "#2a3f5f"
          },
          "hovermode": "closest",
          "hoverlabel": {
           "align": "left"
          },
          "paper_bgcolor": "white",
          "plot_bgcolor": "#E5ECF6",
          "polar": {
           "bgcolor": "#E5ECF6",
           "angularaxis": {
            "gridcolor": "white",
            "linecolor": "white",
            "ticks": ""
           },
           "radialaxis": {
            "gridcolor": "white",
            "linecolor": "white",
            "ticks": ""
           }
          },
          "ternary": {
           "bgcolor": "#E5ECF6",
           "aaxis": {
            "gridcolor": "white",
            "linecolor": "white",
            "ticks": ""
           },
           "baxis": {
            "gridcolor": "white",
            "linecolor": "white",
            "ticks": ""
           },
           "caxis": {
            "gridcolor": "white",
            "linecolor": "white",
            "ticks": ""
           }
          },
          "coloraxis": {
           "colorbar": {
            "outlinewidth": 0,
            "ticks": ""
           }
          },
          "colorscale": {
           "sequential": [
            [
             0.0,
             "#0d0887"
            ],
            [
             0.1111111111111111,
             "#46039f"
            ],
            [
             0.2222222222222222,
             "#7201a8"
            ],
            [
             0.3333333333333333,
             "#9c179e"
            ],
            [
             0.4444444444444444,
             "#bd3786"
            ],
            [
             0.5555555555555556,
             "#d8576b"
            ],
            [
             0.6666666666666666,
             "#ed7953"
            ],
            [
             0.7777777777777778,
             "#fb9f3a"
            ],
            [
             0.8888888888888888,
             "#fdca26"
            ],
            [
             1.0,
             "#f0f921"
            ]
           ],
           "sequentialminus": [
            [
             0.0,
             "#0d0887"
            ],
            [
             0.1111111111111111,
             "#46039f"
            ],
            [
             0.2222222222222222,
             "#7201a8"
            ],
            [
             0.3333333333333333,
             "#9c179e"
            ],
            [
             0.4444444444444444,
             "#bd3786"
            ],
            [
             0.5555555555555556,
             "#d8576b"
            ],
            [
             0.6666666666666666,
             "#ed7953"
            ],
            [
             0.7777777777777778,
             "#fb9f3a"
            ],
            [
             0.8888888888888888,
             "#fdca26"
            ],
            [
             1.0,
             "#f0f921"
            ]
           ],
           "diverging": [
            [
             0,
             "#8e0152"
            ],
            [
             0.1,
             "#c51b7d"
            ],
            [
             0.2,
             "#de77ae"
            ],
            [
             0.3,
             "#f1b6da"
            ],
            [
             0.4,
             "#fde0ef"
            ],
            [
             0.5,
             "#f7f7f7"
            ],
            [
             0.6,
             "#e6f5d0"
            ],
            [
             0.7,
             "#b8e186"
            ],
            [
             0.8,
             "#7fbc41"
            ],
            [
             0.9,
             "#4d9221"
            ],
            [
             1,
             "#276419"
            ]
           ]
          },
          "xaxis": {
           "gridcolor": "white",
           "linecolor": "white",
           "ticks": "",
           "title": {
            "standoff": 15
           },
           "zerolinecolor": "white",
           "automargin": true,
           "zerolinewidth": 2
          },
          "yaxis": {
           "gridcolor": "white",
           "linecolor": "white",
           "ticks": "",
           "title": {
            "standoff": 15
           },
           "zerolinecolor": "white",
           "automargin": true,
           "zerolinewidth": 2
          },
          "scene": {
           "xaxis": {
            "backgroundcolor": "#E5ECF6",
            "gridcolor": "white",
            "linecolor": "white",
            "showbackground": true,
            "ticks": "",
            "zerolinecolor": "white",
            "gridwidth": 2
           },
           "yaxis": {
            "backgroundcolor": "#E5ECF6",
            "gridcolor": "white",
            "linecolor": "white",
            "showbackground": true,
            "ticks": "",
            "zerolinecolor": "white",
            "gridwidth": 2
           },
           "zaxis": {
            "backgroundcolor": "#E5ECF6",
            "gridcolor": "white",
            "linecolor": "white",
            "showbackground": true,
            "ticks": "",
            "zerolinecolor": "white",
            "gridwidth": 2
           }
          },
          "shapedefaults": {
           "line": {
            "color": "#2a3f5f"
           }
          },
          "annotationdefaults": {
           "arrowcolor": "#2a3f5f",
           "arrowhead": 0,
           "arrowwidth": 1
          },
          "geo": {
           "bgcolor": "white",
           "landcolor": "#E5ECF6",
           "subunitcolor": "white",
           "showland": true,
           "showlakes": true,
           "lakecolor": "white"
          },
          "title": {
           "x": 0.05
          },
          "mapbox": {
           "style": "light"
          }
         }
        },
        "xaxis": {
         "anchor": "y",
         "domain": [
          0.0,
          0.2125
         ],
         "title": {
          "text": "learning_rate"
         }
        },
        "yaxis": {
         "anchor": "x",
         "domain": [
          0.0,
          1.0
         ],
         "title": {
          "text": "Objective Value"
         }
        },
        "xaxis2": {
         "anchor": "y2",
         "domain": [
          0.2625,
          0.475
         ],
         "title": {
          "text": "max_depth"
         }
        },
        "yaxis2": {
         "anchor": "x2",
         "domain": [
          0.0,
          1.0
         ],
         "matches": "y",
         "showticklabels": false
        },
        "xaxis3": {
         "anchor": "y3",
         "domain": [
          0.525,
          0.7375
         ],
         "title": {
          "text": "n_estimators"
         }
        },
        "yaxis3": {
         "anchor": "x3",
         "domain": [
          0.0,
          1.0
         ],
         "matches": "y",
         "showticklabels": false
        },
        "xaxis4": {
         "anchor": "y4",
         "domain": [
          0.7875,
          1.0
         ],
         "title": {
          "text": "objective"
         },
         "type": "category",
         "categoryorder": "array",
         "categoryarray": [
          "huber",
          "regression"
         ]
        },
        "yaxis4": {
         "anchor": "x4",
         "domain": [
          0.0,
          1.0
         ],
         "matches": "y",
         "showticklabels": false
        },
        "title": {
         "text": "Slice Plot"
        },
        "width": 1200
       },
       "config": {
        "plotlyServerURL": "https://plot.ly"
       }
      },
      "text/html": "<div>                            <div id=\"b0eb0dc0-abeb-446c-8b15-966ecd53f5da\" class=\"plotly-graph-div\" style=\"height:525px; width:1200px;\"></div>            <script type=\"text/javascript\">                require([\"plotly\"], function(Plotly) {                    window.PLOTLYENV=window.PLOTLYENV || {};                                    if (document.getElementById(\"b0eb0dc0-abeb-446c-8b15-966ecd53f5da\")) {                    Plotly.newPlot(                        \"b0eb0dc0-abeb-446c-8b15-966ecd53f5da\",                        [{\"marker\":{\"color\":[0,1,2,3,4,5,6,7,8,9,10,11,12,13,14,15,16,17,18,19,20,21,22,23,24,25,26,27,28,29,30,31,32,33,34,35,36,37,38,39,40,41,42,43,44,45,46,47,48,49,50,51,52,53,54,55,56,57,58,59,60,61,62,63,64,65,66,67,68,69,70,71,72,73,74,75,76,77,78,79,80,81,82,83,84,85,86,87,88,89,90,91,92,93,94,95,96,97,98,99,100,101,102,103,104,105,106,107,108,109,110,111,112,113,114,115,116,117,118,119,120,121,122,123,124,125,126,127,128,129,130,131,132,133,134,135,136,137,138,139,140,141,142,143,144,145,146,147,148,149,150,151,152,153,154,155,156,157,158,159,160,161,162,163,164,165,166,167,168,169,170,171,172,173,174,175,176,177,178,179,180,181,182,183,184,185,186,187,188,189,190,191,192,193,194,195,196,197,198,199],\"colorbar\":{\"title\":{\"text\":\"Trial\"},\"x\":1.0,\"xpad\":40},\"colorscale\":[[0.0,\"rgb(247,251,255)\"],[0.125,\"rgb(222,235,247)\"],[0.25,\"rgb(198,219,239)\"],[0.375,\"rgb(158,202,225)\"],[0.5,\"rgb(107,174,214)\"],[0.625,\"rgb(66,146,198)\"],[0.75,\"rgb(33,113,181)\"],[0.875,\"rgb(8,81,156)\"],[1.0,\"rgb(8,48,107)\"]],\"line\":{\"color\":\"Grey\",\"width\":0.5},\"showscale\":true},\"mode\":\"markers\",\"name\":\"Feasible Trial\",\"showlegend\":false,\"x\":[0.19277680592521607,0.09021521954925057,0.18731656585855938,0.1772451541956797,0.06396516217142965,0.15045150885043787,0.13998962178765179,0.12258591755400354,0.051678166095326564,0.11348268757660254,0.08710561808420092,0.08780264568650334,0.08541089285015413,0.08889291526201357,0.0762603445853429,0.10483624703358249,0.10346561236215164,0.06939221148612248,0.14371054755776275,0.053241220687683784,0.1618282938270916,0.10217870462710468,0.10198949412602516,0.12493956211913794,0.07878399367091724,0.09635361486434263,0.11154943773696578,0.08007042832136314,0.06628607791487653,0.1147990129275799,0.12943477814419052,0.09930779712650784,0.09028574905594734,0.10846199881902115,0.09550521671421594,0.07750896486906113,0.06147748606000576,0.08020735777270194,0.07256732849210039,0.058596673285263655,0.07202499621580598,0.07153080258094802,0.08502261725997753,0.08812808239846646,0.08549526353531559,0.19875603037905124,0.0587381308506237,0.0830885884954539,0.07339303598474742,0.0943133268008132,0.06551453622616833,0.07404245040223605,0.1800793785195965,0.053816503508030016,0.053293712402841864,0.06741625696679863,0.05087565801253472,0.0575974136202055,0.09163349275335361,0.16194023750303171,0.0832137384759361,0.08250242760154364,0.07588473661185176,0.11937458926075896,0.06316806865308805,0.07031899095679643,0.13167687654992397,0.08628707411879949,0.1070623414164587,0.09816473782880823,0.09179947805720262,0.08275138168369077,0.08087524221316661,0.07557135386158419,0.0683564673213429,0.08480651718126879,0.07784255529398809,0.08915999075404821,0.06211831393597242,0.055442953726316926,0.07219429718566968,0.06781462558064444,0.062163186986310716,0.05922928508554668,0.10116692633663697,0.06432519854643358,0.07362693303479201,0.08029995279735427,0.09503212141460268,0.05000282306814683,0.05012445646891926,0.06067038448128501,0.05494603213312387,0.056099909591949076,0.06497129211988172,0.05369507271202232,0.054107780495291635,0.06388546228098077,0.05213840670028856,0.05896006472604093,0.06885545755233768,0.054862814770379936,0.06551918895088583,0.06072423892202885,0.05761438148567668,0.05085180534873669,0.050108340619015326,0.07038336990235608,0.0520321680800424,0.06202874520210431,0.07614795049261282,0.05260684633218724,0.05664888736350328,0.05699012155384711,0.06508789581728178,0.1531267964971734,0.06671792187312636,0.07214532188002937,0.06119852617436636,0.05742183713928339,0.07886762112370792,0.05397956732428416,0.05377613686021217,0.05008055117549465,0.050747023056999976,0.05595225911549978,0.059684694744361305,0.05930507469822753,0.06341958044524693,0.05409783094547383,0.05494851235993663,0.056737760636437096,0.06159098043294911,0.055152963805391086,0.053929103621644,0.05003769268373329,0.05370635939199235,0.055244123350754126,0.05979516059960233,0.057370790542764755,0.06343621454680863,0.05394413726238432,0.053493183309476694,0.058527521727592374,0.06024734976498304,0.055718355692129753,0.0662690878225499,0.0501497452761108,0.05327577353992912,0.06267576443841644,0.05861134017810919,0.05843042553495655,0.05364228202844405,0.05670399388884252,0.06056870106797455,0.05003437700003157,0.0520452712735682,0.05099521839175527,0.06525640573252403,0.05780241011866515,0.11839762952212926,0.050316228978960806,0.05259173568829338,0.05031571664731906,0.05649338778239899,0.06033186223445057,0.05234267291675457,0.06920528557970256,0.05562994955856106,0.06310694614828405,0.050032356910132664,0.05028707997765429,0.05829774244255606,0.05890303769757238,0.05559082647497517,0.06135809548134849,0.13422880431289413,0.057877141567466726,0.053123002689320846,0.06689613736305997,0.05511602323296005,0.05013810847204944,0.05253553910369687,0.056154581713389815,0.060004098092972746,0.053012636323637924,0.0634794563374295,0.05000042322165044,0.057593757539034125,0.05472905627954412,0.05969069023309328,0.053446370671929,0.053708113142160514,0.056631724219073684,0.052603176718440274,0.05750377823998894,0.06262109963097277,0.06372571512058062,0.06143576264391083,0.05825624499653852],\"y\":[37260.01998850904,36201.93821072879,82862.51727196526,37197.575479574785,82880.80071385918,37424.38450748565,37215.70696946487,82848.91715439475,82881.96661909895,36544.36522685074,35535.78571569014,35960.24932490225,35576.64550052314,35774.29138207075,35742.96562723121,36094.74652206635,35733.101481578466,36335.95661533981,82874.42713261134,35800.88193163616,36848.89163761218,36137.9410976568,35699.811662917156,35934.25383877437,35858.64610047449,36030.84202926536,82873.8204705164,35923.4208518863,35885.20752352767,35799.32786396431,36810.36283246041,36055.60687282573,35928.477696759546,36172.70490808085,36250.47071029854,35627.371665031125,82885.78473192937,35854.43610392248,35523.51540271344,82884.99620699287,35634.79622139427,35933.91939982222,35460.18753597403,36917.70181942517,36098.87909250839,36812.00982367609,35706.5465372647,82879.65957135978,35548.52362593448,35754.256418887475,36306.78037914368,35678.36398233722,36767.440621021626,35366.86864306763,35620.21987708665,35787.47951069604,35944.896541203234,82887.5617921615,35693.84710362557,37214.83211413924,35501.08053043616,35614.679269147724,36021.983893071774,35874.13130453736,35710.58687101951,35841.26178511625,36867.2917327167,35919.94838473202,36221.76165269332,82879.98993583614,35845.32171707914,35766.47752115628,35701.156186565226,35947.73161777684,35989.36600883444,35727.444409950695,36134.767263123016,36821.81393324442,35431.35362713609,35751.288094280906,35838.43075352716,35650.35743998662,35636.353281411844,35835.15723987494,35981.868326180425,35649.55444091608,82884.97821609593,35592.639431535405,35730.50302527912,35577.072425678634,35368.16816299613,35702.02711458569,35549.026313478964,35749.2971832699,35480.59583517326,35418.653986757214,35593.88284761652,35711.74437195462,35623.165981134,35559.08297576763,82883.37839234505,35588.0653382743,35690.694403061294,35735.25432240865,35603.27018977477,35541.215681861264,35652.9251580233,35776.68423320332,35877.085417518756,35699.826062012224,35694.545338751814,35762.489826640274,35499.84817604683,35808.436019221976,35778.2536089273,36332.417713714116,35984.85069462807,35670.21262397967,35752.45718459153,82884.76868163115,35614.050735109886,35625.33522051489,35368.705741417405,35515.9529022746,35722.83637123032,35875.58795550855,35403.41560585755,35642.30086343519,35643.888636942356,35517.30055902444,35341.216439355856,35717.28111714076,35567.2230664013,35314.574680027814,35516.87015128923,35641.58583228179,35579.94862234256,35595.46591983699,35722.42914782082,35738.263124974306,35650.794924158574,35544.64085793546,35553.407217749605,35649.47366027144,35862.59929054119,35614.61433767783,35621.51504520559,82887.77209826074,35628.271825844065,35717.821390123914,35428.178053511685,35698.32604863722,35558.578227723716,35568.06568139313,35618.33512985513,35502.179687723394,35481.46371858374,35499.829139048794,35760.67366516336,35749.291564958876,35905.28020140003,35446.527709606,35563.4081576299,35520.20464591335,35576.5668931585,35753.90719459441,35577.94402866461,36671.92923243458,35916.90906995557,35761.012757644,82888.06648363636,35592.60751488998,35427.272090215134,35595.21099896735,35770.49862424044,35650.60078847266,36135.16099748076,35754.843605222064,35724.60613956104,35694.38498334263,36125.54667136638,35586.41422164007,35705.062670734565,35802.85927689919,35573.41238685557,35531.4665188829,35554.60007641458,35649.890273193276,35522.4021175815,35645.40878171809,36096.549910124835,35651.74609234388,35545.49745195326,35713.15373305477,35719.2918704438,35503.574757976516,35384.81340419085,35708.57649187763,35738.350088524174,35686.734948420875],\"type\":\"scatter\",\"xaxis\":\"x\",\"yaxis\":\"y\"},{\"marker\":{\"color\":[0,1,2,3,4,5,6,7,8,9,10,11,12,13,14,15,16,17,18,19,20,21,22,23,24,25,26,27,28,29,30,31,32,33,34,35,36,37,38,39,40,41,42,43,44,45,46,47,48,49,50,51,52,53,54,55,56,57,58,59,60,61,62,63,64,65,66,67,68,69,70,71,72,73,74,75,76,77,78,79,80,81,82,83,84,85,86,87,88,89,90,91,92,93,94,95,96,97,98,99,100,101,102,103,104,105,106,107,108,109,110,111,112,113,114,115,116,117,118,119,120,121,122,123,124,125,126,127,128,129,130,131,132,133,134,135,136,137,138,139,140,141,142,143,144,145,146,147,148,149,150,151,152,153,154,155,156,157,158,159,160,161,162,163,164,165,166,167,168,169,170,171,172,173,174,175,176,177,178,179,180,181,182,183,184,185,186,187,188,189,190,191,192,193,194,195,196,197,198,199],\"colorbar\":{\"title\":{\"text\":\"Trial\"},\"x\":1.0,\"xpad\":40},\"colorscale\":[[0.0,\"rgb(247,251,255)\"],[0.125,\"rgb(222,235,247)\"],[0.25,\"rgb(198,219,239)\"],[0.375,\"rgb(158,202,225)\"],[0.5,\"rgb(107,174,214)\"],[0.625,\"rgb(66,146,198)\"],[0.75,\"rgb(33,113,181)\"],[0.875,\"rgb(8,81,156)\"],[1.0,\"rgb(8,48,107)\"]],\"line\":{\"color\":\"Grey\",\"width\":0.5},\"showscale\":false},\"mode\":\"markers\",\"name\":\"Feasible Trial\",\"showlegend\":false,\"x\":[18,13,22,25,24,25,15,17,22,13,12,10,10,10,12,16,11,14,18,20,12,11,10,10,12,14,11,14,10,16,13,11,11,12,10,13,13,15,19,19,21,21,23,24,23,17,25,23,19,19,19,20,18,17,17,20,22,21,18,16,24,24,25,23,22,15,19,20,24,17,23,24,24,22,12,25,24,21,23,22,23,25,24,23,24,20,15,11,11,10,10,10,10,11,10,10,12,10,14,18,12,10,10,11,11,10,13,16,10,19,11,10,10,10,11,11,12,21,10,17,23,10,10,11,11,11,10,10,10,11,11,11,11,10,10,10,10,10,10,12,10,11,11,10,11,12,11,10,10,10,11,11,12,11,10,11,10,10,10,10,10,11,11,13,10,10,23,22,11,12,10,11,11,10,11,14,11,10,25,10,15,11,12,11,10,11,10,11,10,11,12,10,10,10,10,16,16,17,16,16],\"y\":[37260.01998850904,36201.93821072879,82862.51727196526,37197.575479574785,82880.80071385918,37424.38450748565,37215.70696946487,82848.91715439475,82881.96661909895,36544.36522685074,35535.78571569014,35960.24932490225,35576.64550052314,35774.29138207075,35742.96562723121,36094.74652206635,35733.101481578466,36335.95661533981,82874.42713261134,35800.88193163616,36848.89163761218,36137.9410976568,35699.811662917156,35934.25383877437,35858.64610047449,36030.84202926536,82873.8204705164,35923.4208518863,35885.20752352767,35799.32786396431,36810.36283246041,36055.60687282573,35928.477696759546,36172.70490808085,36250.47071029854,35627.371665031125,82885.78473192937,35854.43610392248,35523.51540271344,82884.99620699287,35634.79622139427,35933.91939982222,35460.18753597403,36917.70181942517,36098.87909250839,36812.00982367609,35706.5465372647,82879.65957135978,35548.52362593448,35754.256418887475,36306.78037914368,35678.36398233722,36767.440621021626,35366.86864306763,35620.21987708665,35787.47951069604,35944.896541203234,82887.5617921615,35693.84710362557,37214.83211413924,35501.08053043616,35614.679269147724,36021.983893071774,35874.13130453736,35710.58687101951,35841.26178511625,36867.2917327167,35919.94838473202,36221.76165269332,82879.98993583614,35845.32171707914,35766.47752115628,35701.156186565226,35947.73161777684,35989.36600883444,35727.444409950695,36134.767263123016,36821.81393324442,35431.35362713609,35751.288094280906,35838.43075352716,35650.35743998662,35636.353281411844,35835.15723987494,35981.868326180425,35649.55444091608,82884.97821609593,35592.639431535405,35730.50302527912,35577.072425678634,35368.16816299613,35702.02711458569,35549.026313478964,35749.2971832699,35480.59583517326,35418.653986757214,35593.88284761652,35711.74437195462,35623.165981134,35559.08297576763,82883.37839234505,35588.0653382743,35690.694403061294,35735.25432240865,35603.27018977477,35541.215681861264,35652.9251580233,35776.68423320332,35877.085417518756,35699.826062012224,35694.545338751814,35762.489826640274,35499.84817604683,35808.436019221976,35778.2536089273,36332.417713714116,35984.85069462807,35670.21262397967,35752.45718459153,82884.76868163115,35614.050735109886,35625.33522051489,35368.705741417405,35515.9529022746,35722.83637123032,35875.58795550855,35403.41560585755,35642.30086343519,35643.888636942356,35517.30055902444,35341.216439355856,35717.28111714076,35567.2230664013,35314.574680027814,35516.87015128923,35641.58583228179,35579.94862234256,35595.46591983699,35722.42914782082,35738.263124974306,35650.794924158574,35544.64085793546,35553.407217749605,35649.47366027144,35862.59929054119,35614.61433767783,35621.51504520559,82887.77209826074,35628.271825844065,35717.821390123914,35428.178053511685,35698.32604863722,35558.578227723716,35568.06568139313,35618.33512985513,35502.179687723394,35481.46371858374,35499.829139048794,35760.67366516336,35749.291564958876,35905.28020140003,35446.527709606,35563.4081576299,35520.20464591335,35576.5668931585,35753.90719459441,35577.94402866461,36671.92923243458,35916.90906995557,35761.012757644,82888.06648363636,35592.60751488998,35427.272090215134,35595.21099896735,35770.49862424044,35650.60078847266,36135.16099748076,35754.843605222064,35724.60613956104,35694.38498334263,36125.54667136638,35586.41422164007,35705.062670734565,35802.85927689919,35573.41238685557,35531.4665188829,35554.60007641458,35649.890273193276,35522.4021175815,35645.40878171809,36096.549910124835,35651.74609234388,35545.49745195326,35713.15373305477,35719.2918704438,35503.574757976516,35384.81340419085,35708.57649187763,35738.350088524174,35686.734948420875],\"type\":\"scatter\",\"xaxis\":\"x2\",\"yaxis\":\"y2\"},{\"marker\":{\"color\":[0,1,2,3,4,5,6,7,8,9,10,11,12,13,14,15,16,17,18,19,20,21,22,23,24,25,26,27,28,29,30,31,32,33,34,35,36,37,38,39,40,41,42,43,44,45,46,47,48,49,50,51,52,53,54,55,56,57,58,59,60,61,62,63,64,65,66,67,68,69,70,71,72,73,74,75,76,77,78,79,80,81,82,83,84,85,86,87,88,89,90,91,92,93,94,95,96,97,98,99,100,101,102,103,104,105,106,107,108,109,110,111,112,113,114,115,116,117,118,119,120,121,122,123,124,125,126,127,128,129,130,131,132,133,134,135,136,137,138,139,140,141,142,143,144,145,146,147,148,149,150,151,152,153,154,155,156,157,158,159,160,161,162,163,164,165,166,167,168,169,170,171,172,173,174,175,176,177,178,179,180,181,182,183,184,185,186,187,188,189,190,191,192,193,194,195,196,197,198,199],\"colorbar\":{\"title\":{\"text\":\"Trial\"},\"x\":1.0,\"xpad\":40},\"colorscale\":[[0.0,\"rgb(247,251,255)\"],[0.125,\"rgb(222,235,247)\"],[0.25,\"rgb(198,219,239)\"],[0.375,\"rgb(158,202,225)\"],[0.5,\"rgb(107,174,214)\"],[0.625,\"rgb(66,146,198)\"],[0.75,\"rgb(33,113,181)\"],[0.875,\"rgb(8,81,156)\"],[1.0,\"rgb(8,48,107)\"]],\"line\":{\"color\":\"Grey\",\"width\":0.5},\"showscale\":false},\"mode\":\"markers\",\"name\":\"Feasible Trial\",\"showlegend\":false,\"x\":[964,374,441,535,568,977,829,955,646,662,355,309,309,302,452,414,529,764,365,480,625,540,363,366,333,406,484,352,405,300,592,504,402,446,742,363,386,357,441,439,340,331,322,908,437,321,390,472,300,306,700,325,376,429,423,300,514,334,383,564,460,469,422,342,459,417,487,351,542,391,320,463,373,510,427,491,597,822,398,403,351,439,317,368,450,399,350,312,300,331,332,328,339,373,358,385,387,413,367,398,433,340,354,384,344,313,321,417,998,306,361,335,381,376,656,361,408,316,382,458,392,343,328,323,355,325,438,430,477,440,495,445,501,451,465,493,463,522,469,417,453,438,401,482,426,413,452,373,435,720,402,401,392,552,476,419,416,380,381,411,367,422,422,401,425,387,408,920,449,620,359,346,377,383,396,372,429,359,412,393,778,342,323,331,442,374,352,426,410,390,681,462,450,464,438,419,421,422,405,414],\"y\":[37260.01998850904,36201.93821072879,82862.51727196526,37197.575479574785,82880.80071385918,37424.38450748565,37215.70696946487,82848.91715439475,82881.96661909895,36544.36522685074,35535.78571569014,35960.24932490225,35576.64550052314,35774.29138207075,35742.96562723121,36094.74652206635,35733.101481578466,36335.95661533981,82874.42713261134,35800.88193163616,36848.89163761218,36137.9410976568,35699.811662917156,35934.25383877437,35858.64610047449,36030.84202926536,82873.8204705164,35923.4208518863,35885.20752352767,35799.32786396431,36810.36283246041,36055.60687282573,35928.477696759546,36172.70490808085,36250.47071029854,35627.371665031125,82885.78473192937,35854.43610392248,35523.51540271344,82884.99620699287,35634.79622139427,35933.91939982222,35460.18753597403,36917.70181942517,36098.87909250839,36812.00982367609,35706.5465372647,82879.65957135978,35548.52362593448,35754.256418887475,36306.78037914368,35678.36398233722,36767.440621021626,35366.86864306763,35620.21987708665,35787.47951069604,35944.896541203234,82887.5617921615,35693.84710362557,37214.83211413924,35501.08053043616,35614.679269147724,36021.983893071774,35874.13130453736,35710.58687101951,35841.26178511625,36867.2917327167,35919.94838473202,36221.76165269332,82879.98993583614,35845.32171707914,35766.47752115628,35701.156186565226,35947.73161777684,35989.36600883444,35727.444409950695,36134.767263123016,36821.81393324442,35431.35362713609,35751.288094280906,35838.43075352716,35650.35743998662,35636.353281411844,35835.15723987494,35981.868326180425,35649.55444091608,82884.97821609593,35592.639431535405,35730.50302527912,35577.072425678634,35368.16816299613,35702.02711458569,35549.026313478964,35749.2971832699,35480.59583517326,35418.653986757214,35593.88284761652,35711.74437195462,35623.165981134,35559.08297576763,82883.37839234505,35588.0653382743,35690.694403061294,35735.25432240865,35603.27018977477,35541.215681861264,35652.9251580233,35776.68423320332,35877.085417518756,35699.826062012224,35694.545338751814,35762.489826640274,35499.84817604683,35808.436019221976,35778.2536089273,36332.417713714116,35984.85069462807,35670.21262397967,35752.45718459153,82884.76868163115,35614.050735109886,35625.33522051489,35368.705741417405,35515.9529022746,35722.83637123032,35875.58795550855,35403.41560585755,35642.30086343519,35643.888636942356,35517.30055902444,35341.216439355856,35717.28111714076,35567.2230664013,35314.574680027814,35516.87015128923,35641.58583228179,35579.94862234256,35595.46591983699,35722.42914782082,35738.263124974306,35650.794924158574,35544.64085793546,35553.407217749605,35649.47366027144,35862.59929054119,35614.61433767783,35621.51504520559,82887.77209826074,35628.271825844065,35717.821390123914,35428.178053511685,35698.32604863722,35558.578227723716,35568.06568139313,35618.33512985513,35502.179687723394,35481.46371858374,35499.829139048794,35760.67366516336,35749.291564958876,35905.28020140003,35446.527709606,35563.4081576299,35520.20464591335,35576.5668931585,35753.90719459441,35577.94402866461,36671.92923243458,35916.90906995557,35761.012757644,82888.06648363636,35592.60751488998,35427.272090215134,35595.21099896735,35770.49862424044,35650.60078847266,36135.16099748076,35754.843605222064,35724.60613956104,35694.38498334263,36125.54667136638,35586.41422164007,35705.062670734565,35802.85927689919,35573.41238685557,35531.4665188829,35554.60007641458,35649.890273193276,35522.4021175815,35645.40878171809,36096.549910124835,35651.74609234388,35545.49745195326,35713.15373305477,35719.2918704438,35503.574757976516,35384.81340419085,35708.57649187763,35738.350088524174,35686.734948420875],\"type\":\"scatter\",\"xaxis\":\"x3\",\"yaxis\":\"y3\"},{\"marker\":{\"color\":[0,1,2,3,4,5,6,7,8,9,10,11,12,13,14,15,16,17,18,19,20,21,22,23,24,25,26,27,28,29,30,31,32,33,34,35,36,37,38,39,40,41,42,43,44,45,46,47,48,49,50,51,52,53,54,55,56,57,58,59,60,61,62,63,64,65,66,67,68,69,70,71,72,73,74,75,76,77,78,79,80,81,82,83,84,85,86,87,88,89,90,91,92,93,94,95,96,97,98,99,100,101,102,103,104,105,106,107,108,109,110,111,112,113,114,115,116,117,118,119,120,121,122,123,124,125,126,127,128,129,130,131,132,133,134,135,136,137,138,139,140,141,142,143,144,145,146,147,148,149,150,151,152,153,154,155,156,157,158,159,160,161,162,163,164,165,166,167,168,169,170,171,172,173,174,175,176,177,178,179,180,181,182,183,184,185,186,187,188,189,190,191,192,193,194,195,196,197,198,199],\"colorbar\":{\"title\":{\"text\":\"Trial\"},\"x\":1.0,\"xpad\":40},\"colorscale\":[[0.0,\"rgb(247,251,255)\"],[0.125,\"rgb(222,235,247)\"],[0.25,\"rgb(198,219,239)\"],[0.375,\"rgb(158,202,225)\"],[0.5,\"rgb(107,174,214)\"],[0.625,\"rgb(66,146,198)\"],[0.75,\"rgb(33,113,181)\"],[0.875,\"rgb(8,81,156)\"],[1.0,\"rgb(8,48,107)\"]],\"line\":{\"color\":\"Grey\",\"width\":0.5},\"showscale\":false},\"mode\":\"markers\",\"name\":\"Feasible Trial\",\"showlegend\":false,\"x\":[\"regression\",\"regression\",\"huber\",\"regression\",\"huber\",\"regression\",\"regression\",\"huber\",\"huber\",\"regression\",\"regression\",\"regression\",\"regression\",\"regression\",\"regression\",\"regression\",\"regression\",\"regression\",\"huber\",\"regression\",\"regression\",\"regression\",\"regression\",\"regression\",\"regression\",\"regression\",\"huber\",\"regression\",\"regression\",\"regression\",\"regression\",\"regression\",\"regression\",\"regression\",\"regression\",\"regression\",\"huber\",\"regression\",\"regression\",\"huber\",\"regression\",\"regression\",\"regression\",\"regression\",\"regression\",\"regression\",\"regression\",\"huber\",\"regression\",\"regression\",\"regression\",\"regression\",\"regression\",\"regression\",\"regression\",\"regression\",\"regression\",\"huber\",\"regression\",\"regression\",\"regression\",\"regression\",\"regression\",\"regression\",\"regression\",\"regression\",\"regression\",\"regression\",\"regression\",\"huber\",\"regression\",\"regression\",\"regression\",\"regression\",\"regression\",\"regression\",\"regression\",\"regression\",\"regression\",\"regression\",\"regression\",\"regression\",\"regression\",\"regression\",\"regression\",\"regression\",\"huber\",\"regression\",\"regression\",\"regression\",\"regression\",\"regression\",\"regression\",\"regression\",\"regression\",\"regression\",\"regression\",\"regression\",\"regression\",\"regression\",\"huber\",\"regression\",\"regression\",\"regression\",\"regression\",\"regression\",\"regression\",\"regression\",\"regression\",\"regression\",\"regression\",\"regression\",\"regression\",\"regression\",\"regression\",\"regression\",\"regression\",\"regression\",\"regression\",\"huber\",\"regression\",\"regression\",\"regression\",\"regression\",\"regression\",\"regression\",\"regression\",\"regression\",\"regression\",\"regression\",\"regression\",\"regression\",\"regression\",\"regression\",\"regression\",\"regression\",\"regression\",\"regression\",\"regression\",\"regression\",\"regression\",\"regression\",\"regression\",\"regression\",\"regression\",\"regression\",\"regression\",\"huber\",\"regression\",\"regression\",\"regression\",\"regression\",\"regression\",\"regression\",\"regression\",\"regression\",\"regression\",\"regression\",\"regression\",\"regression\",\"regression\",\"regression\",\"regression\",\"regression\",\"regression\",\"regression\",\"regression\",\"regression\",\"regression\",\"regression\",\"huber\",\"regression\",\"regression\",\"regression\",\"regression\",\"regression\",\"regression\",\"regression\",\"regression\",\"regression\",\"regression\",\"regression\",\"regression\",\"regression\",\"regression\",\"regression\",\"regression\",\"regression\",\"regression\",\"regression\",\"regression\",\"regression\",\"regression\",\"regression\",\"regression\",\"regression\",\"regression\",\"regression\",\"regression\",\"regression\"],\"y\":[37260.01998850904,36201.93821072879,82862.51727196526,37197.575479574785,82880.80071385918,37424.38450748565,37215.70696946487,82848.91715439475,82881.96661909895,36544.36522685074,35535.78571569014,35960.24932490225,35576.64550052314,35774.29138207075,35742.96562723121,36094.74652206635,35733.101481578466,36335.95661533981,82874.42713261134,35800.88193163616,36848.89163761218,36137.9410976568,35699.811662917156,35934.25383877437,35858.64610047449,36030.84202926536,82873.8204705164,35923.4208518863,35885.20752352767,35799.32786396431,36810.36283246041,36055.60687282573,35928.477696759546,36172.70490808085,36250.47071029854,35627.371665031125,82885.78473192937,35854.43610392248,35523.51540271344,82884.99620699287,35634.79622139427,35933.91939982222,35460.18753597403,36917.70181942517,36098.87909250839,36812.00982367609,35706.5465372647,82879.65957135978,35548.52362593448,35754.256418887475,36306.78037914368,35678.36398233722,36767.440621021626,35366.86864306763,35620.21987708665,35787.47951069604,35944.896541203234,82887.5617921615,35693.84710362557,37214.83211413924,35501.08053043616,35614.679269147724,36021.983893071774,35874.13130453736,35710.58687101951,35841.26178511625,36867.2917327167,35919.94838473202,36221.76165269332,82879.98993583614,35845.32171707914,35766.47752115628,35701.156186565226,35947.73161777684,35989.36600883444,35727.444409950695,36134.767263123016,36821.81393324442,35431.35362713609,35751.288094280906,35838.43075352716,35650.35743998662,35636.353281411844,35835.15723987494,35981.868326180425,35649.55444091608,82884.97821609593,35592.639431535405,35730.50302527912,35577.072425678634,35368.16816299613,35702.02711458569,35549.026313478964,35749.2971832699,35480.59583517326,35418.653986757214,35593.88284761652,35711.74437195462,35623.165981134,35559.08297576763,82883.37839234505,35588.0653382743,35690.694403061294,35735.25432240865,35603.27018977477,35541.215681861264,35652.9251580233,35776.68423320332,35877.085417518756,35699.826062012224,35694.545338751814,35762.489826640274,35499.84817604683,35808.436019221976,35778.2536089273,36332.417713714116,35984.85069462807,35670.21262397967,35752.45718459153,82884.76868163115,35614.050735109886,35625.33522051489,35368.705741417405,35515.9529022746,35722.83637123032,35875.58795550855,35403.41560585755,35642.30086343519,35643.888636942356,35517.30055902444,35341.216439355856,35717.28111714076,35567.2230664013,35314.574680027814,35516.87015128923,35641.58583228179,35579.94862234256,35595.46591983699,35722.42914782082,35738.263124974306,35650.794924158574,35544.64085793546,35553.407217749605,35649.47366027144,35862.59929054119,35614.61433767783,35621.51504520559,82887.77209826074,35628.271825844065,35717.821390123914,35428.178053511685,35698.32604863722,35558.578227723716,35568.06568139313,35618.33512985513,35502.179687723394,35481.46371858374,35499.829139048794,35760.67366516336,35749.291564958876,35905.28020140003,35446.527709606,35563.4081576299,35520.20464591335,35576.5668931585,35753.90719459441,35577.94402866461,36671.92923243458,35916.90906995557,35761.012757644,82888.06648363636,35592.60751488998,35427.272090215134,35595.21099896735,35770.49862424044,35650.60078847266,36135.16099748076,35754.843605222064,35724.60613956104,35694.38498334263,36125.54667136638,35586.41422164007,35705.062670734565,35802.85927689919,35573.41238685557,35531.4665188829,35554.60007641458,35649.890273193276,35522.4021175815,35645.40878171809,36096.549910124835,35651.74609234388,35545.49745195326,35713.15373305477,35719.2918704438,35503.574757976516,35384.81340419085,35708.57649187763,35738.350088524174,35686.734948420875],\"type\":\"scatter\",\"xaxis\":\"x4\",\"yaxis\":\"y4\"}],                        {\"template\":{\"data\":{\"histogram2dcontour\":[{\"type\":\"histogram2dcontour\",\"colorbar\":{\"outlinewidth\":0,\"ticks\":\"\"},\"colorscale\":[[0.0,\"#0d0887\"],[0.1111111111111111,\"#46039f\"],[0.2222222222222222,\"#7201a8\"],[0.3333333333333333,\"#9c179e\"],[0.4444444444444444,\"#bd3786\"],[0.5555555555555556,\"#d8576b\"],[0.6666666666666666,\"#ed7953\"],[0.7777777777777778,\"#fb9f3a\"],[0.8888888888888888,\"#fdca26\"],[1.0,\"#f0f921\"]]}],\"choropleth\":[{\"type\":\"choropleth\",\"colorbar\":{\"outlinewidth\":0,\"ticks\":\"\"}}],\"histogram2d\":[{\"type\":\"histogram2d\",\"colorbar\":{\"outlinewidth\":0,\"ticks\":\"\"},\"colorscale\":[[0.0,\"#0d0887\"],[0.1111111111111111,\"#46039f\"],[0.2222222222222222,\"#7201a8\"],[0.3333333333333333,\"#9c179e\"],[0.4444444444444444,\"#bd3786\"],[0.5555555555555556,\"#d8576b\"],[0.6666666666666666,\"#ed7953\"],[0.7777777777777778,\"#fb9f3a\"],[0.8888888888888888,\"#fdca26\"],[1.0,\"#f0f921\"]]}],\"heatmap\":[{\"type\":\"heatmap\",\"colorbar\":{\"outlinewidth\":0,\"ticks\":\"\"},\"colorscale\":[[0.0,\"#0d0887\"],[0.1111111111111111,\"#46039f\"],[0.2222222222222222,\"#7201a8\"],[0.3333333333333333,\"#9c179e\"],[0.4444444444444444,\"#bd3786\"],[0.5555555555555556,\"#d8576b\"],[0.6666666666666666,\"#ed7953\"],[0.7777777777777778,\"#fb9f3a\"],[0.8888888888888888,\"#fdca26\"],[1.0,\"#f0f921\"]]}],\"heatmapgl\":[{\"type\":\"heatmapgl\",\"colorbar\":{\"outlinewidth\":0,\"ticks\":\"\"},\"colorscale\":[[0.0,\"#0d0887\"],[0.1111111111111111,\"#46039f\"],[0.2222222222222222,\"#7201a8\"],[0.3333333333333333,\"#9c179e\"],[0.4444444444444444,\"#bd3786\"],[0.5555555555555556,\"#d8576b\"],[0.6666666666666666,\"#ed7953\"],[0.7777777777777778,\"#fb9f3a\"],[0.8888888888888888,\"#fdca26\"],[1.0,\"#f0f921\"]]}],\"contourcarpet\":[{\"type\":\"contourcarpet\",\"colorbar\":{\"outlinewidth\":0,\"ticks\":\"\"}}],\"contour\":[{\"type\":\"contour\",\"colorbar\":{\"outlinewidth\":0,\"ticks\":\"\"},\"colorscale\":[[0.0,\"#0d0887\"],[0.1111111111111111,\"#46039f\"],[0.2222222222222222,\"#7201a8\"],[0.3333333333333333,\"#9c179e\"],[0.4444444444444444,\"#bd3786\"],[0.5555555555555556,\"#d8576b\"],[0.6666666666666666,\"#ed7953\"],[0.7777777777777778,\"#fb9f3a\"],[0.8888888888888888,\"#fdca26\"],[1.0,\"#f0f921\"]]}],\"surface\":[{\"type\":\"surface\",\"colorbar\":{\"outlinewidth\":0,\"ticks\":\"\"},\"colorscale\":[[0.0,\"#0d0887\"],[0.1111111111111111,\"#46039f\"],[0.2222222222222222,\"#7201a8\"],[0.3333333333333333,\"#9c179e\"],[0.4444444444444444,\"#bd3786\"],[0.5555555555555556,\"#d8576b\"],[0.6666666666666666,\"#ed7953\"],[0.7777777777777778,\"#fb9f3a\"],[0.8888888888888888,\"#fdca26\"],[1.0,\"#f0f921\"]]}],\"mesh3d\":[{\"type\":\"mesh3d\",\"colorbar\":{\"outlinewidth\":0,\"ticks\":\"\"}}],\"scatter\":[{\"fillpattern\":{\"fillmode\":\"overlay\",\"size\":10,\"solidity\":0.2},\"type\":\"scatter\"}],\"parcoords\":[{\"type\":\"parcoords\",\"line\":{\"colorbar\":{\"outlinewidth\":0,\"ticks\":\"\"}}}],\"scatterpolargl\":[{\"type\":\"scatterpolargl\",\"marker\":{\"colorbar\":{\"outlinewidth\":0,\"ticks\":\"\"}}}],\"bar\":[{\"error_x\":{\"color\":\"#2a3f5f\"},\"error_y\":{\"color\":\"#2a3f5f\"},\"marker\":{\"line\":{\"color\":\"#E5ECF6\",\"width\":0.5},\"pattern\":{\"fillmode\":\"overlay\",\"size\":10,\"solidity\":0.2}},\"type\":\"bar\"}],\"scattergeo\":[{\"type\":\"scattergeo\",\"marker\":{\"colorbar\":{\"outlinewidth\":0,\"ticks\":\"\"}}}],\"scatterpolar\":[{\"type\":\"scatterpolar\",\"marker\":{\"colorbar\":{\"outlinewidth\":0,\"ticks\":\"\"}}}],\"histogram\":[{\"marker\":{\"pattern\":{\"fillmode\":\"overlay\",\"size\":10,\"solidity\":0.2}},\"type\":\"histogram\"}],\"scattergl\":[{\"type\":\"scattergl\",\"marker\":{\"colorbar\":{\"outlinewidth\":0,\"ticks\":\"\"}}}],\"scatter3d\":[{\"type\":\"scatter3d\",\"line\":{\"colorbar\":{\"outlinewidth\":0,\"ticks\":\"\"}},\"marker\":{\"colorbar\":{\"outlinewidth\":0,\"ticks\":\"\"}}}],\"scattermapbox\":[{\"type\":\"scattermapbox\",\"marker\":{\"colorbar\":{\"outlinewidth\":0,\"ticks\":\"\"}}}],\"scatterternary\":[{\"type\":\"scatterternary\",\"marker\":{\"colorbar\":{\"outlinewidth\":0,\"ticks\":\"\"}}}],\"scattercarpet\":[{\"type\":\"scattercarpet\",\"marker\":{\"colorbar\":{\"outlinewidth\":0,\"ticks\":\"\"}}}],\"carpet\":[{\"aaxis\":{\"endlinecolor\":\"#2a3f5f\",\"gridcolor\":\"white\",\"linecolor\":\"white\",\"minorgridcolor\":\"white\",\"startlinecolor\":\"#2a3f5f\"},\"baxis\":{\"endlinecolor\":\"#2a3f5f\",\"gridcolor\":\"white\",\"linecolor\":\"white\",\"minorgridcolor\":\"white\",\"startlinecolor\":\"#2a3f5f\"},\"type\":\"carpet\"}],\"table\":[{\"cells\":{\"fill\":{\"color\":\"#EBF0F8\"},\"line\":{\"color\":\"white\"}},\"header\":{\"fill\":{\"color\":\"#C8D4E3\"},\"line\":{\"color\":\"white\"}},\"type\":\"table\"}],\"barpolar\":[{\"marker\":{\"line\":{\"color\":\"#E5ECF6\",\"width\":0.5},\"pattern\":{\"fillmode\":\"overlay\",\"size\":10,\"solidity\":0.2}},\"type\":\"barpolar\"}],\"pie\":[{\"automargin\":true,\"type\":\"pie\"}]},\"layout\":{\"autotypenumbers\":\"strict\",\"colorway\":[\"#636efa\",\"#EF553B\",\"#00cc96\",\"#ab63fa\",\"#FFA15A\",\"#19d3f3\",\"#FF6692\",\"#B6E880\",\"#FF97FF\",\"#FECB52\"],\"font\":{\"color\":\"#2a3f5f\"},\"hovermode\":\"closest\",\"hoverlabel\":{\"align\":\"left\"},\"paper_bgcolor\":\"white\",\"plot_bgcolor\":\"#E5ECF6\",\"polar\":{\"bgcolor\":\"#E5ECF6\",\"angularaxis\":{\"gridcolor\":\"white\",\"linecolor\":\"white\",\"ticks\":\"\"},\"radialaxis\":{\"gridcolor\":\"white\",\"linecolor\":\"white\",\"ticks\":\"\"}},\"ternary\":{\"bgcolor\":\"#E5ECF6\",\"aaxis\":{\"gridcolor\":\"white\",\"linecolor\":\"white\",\"ticks\":\"\"},\"baxis\":{\"gridcolor\":\"white\",\"linecolor\":\"white\",\"ticks\":\"\"},\"caxis\":{\"gridcolor\":\"white\",\"linecolor\":\"white\",\"ticks\":\"\"}},\"coloraxis\":{\"colorbar\":{\"outlinewidth\":0,\"ticks\":\"\"}},\"colorscale\":{\"sequential\":[[0.0,\"#0d0887\"],[0.1111111111111111,\"#46039f\"],[0.2222222222222222,\"#7201a8\"],[0.3333333333333333,\"#9c179e\"],[0.4444444444444444,\"#bd3786\"],[0.5555555555555556,\"#d8576b\"],[0.6666666666666666,\"#ed7953\"],[0.7777777777777778,\"#fb9f3a\"],[0.8888888888888888,\"#fdca26\"],[1.0,\"#f0f921\"]],\"sequentialminus\":[[0.0,\"#0d0887\"],[0.1111111111111111,\"#46039f\"],[0.2222222222222222,\"#7201a8\"],[0.3333333333333333,\"#9c179e\"],[0.4444444444444444,\"#bd3786\"],[0.5555555555555556,\"#d8576b\"],[0.6666666666666666,\"#ed7953\"],[0.7777777777777778,\"#fb9f3a\"],[0.8888888888888888,\"#fdca26\"],[1.0,\"#f0f921\"]],\"diverging\":[[0,\"#8e0152\"],[0.1,\"#c51b7d\"],[0.2,\"#de77ae\"],[0.3,\"#f1b6da\"],[0.4,\"#fde0ef\"],[0.5,\"#f7f7f7\"],[0.6,\"#e6f5d0\"],[0.7,\"#b8e186\"],[0.8,\"#7fbc41\"],[0.9,\"#4d9221\"],[1,\"#276419\"]]},\"xaxis\":{\"gridcolor\":\"white\",\"linecolor\":\"white\",\"ticks\":\"\",\"title\":{\"standoff\":15},\"zerolinecolor\":\"white\",\"automargin\":true,\"zerolinewidth\":2},\"yaxis\":{\"gridcolor\":\"white\",\"linecolor\":\"white\",\"ticks\":\"\",\"title\":{\"standoff\":15},\"zerolinecolor\":\"white\",\"automargin\":true,\"zerolinewidth\":2},\"scene\":{\"xaxis\":{\"backgroundcolor\":\"#E5ECF6\",\"gridcolor\":\"white\",\"linecolor\":\"white\",\"showbackground\":true,\"ticks\":\"\",\"zerolinecolor\":\"white\",\"gridwidth\":2},\"yaxis\":{\"backgroundcolor\":\"#E5ECF6\",\"gridcolor\":\"white\",\"linecolor\":\"white\",\"showbackground\":true,\"ticks\":\"\",\"zerolinecolor\":\"white\",\"gridwidth\":2},\"zaxis\":{\"backgroundcolor\":\"#E5ECF6\",\"gridcolor\":\"white\",\"linecolor\":\"white\",\"showbackground\":true,\"ticks\":\"\",\"zerolinecolor\":\"white\",\"gridwidth\":2}},\"shapedefaults\":{\"line\":{\"color\":\"#2a3f5f\"}},\"annotationdefaults\":{\"arrowcolor\":\"#2a3f5f\",\"arrowhead\":0,\"arrowwidth\":1},\"geo\":{\"bgcolor\":\"white\",\"landcolor\":\"#E5ECF6\",\"subunitcolor\":\"white\",\"showland\":true,\"showlakes\":true,\"lakecolor\":\"white\"},\"title\":{\"x\":0.05},\"mapbox\":{\"style\":\"light\"}}},\"xaxis\":{\"anchor\":\"y\",\"domain\":[0.0,0.2125],\"title\":{\"text\":\"learning_rate\"}},\"yaxis\":{\"anchor\":\"x\",\"domain\":[0.0,1.0],\"title\":{\"text\":\"Objective Value\"}},\"xaxis2\":{\"anchor\":\"y2\",\"domain\":[0.2625,0.475],\"title\":{\"text\":\"max_depth\"}},\"yaxis2\":{\"anchor\":\"x2\",\"domain\":[0.0,1.0],\"matches\":\"y\",\"showticklabels\":false},\"xaxis3\":{\"anchor\":\"y3\",\"domain\":[0.525,0.7375],\"title\":{\"text\":\"n_estimators\"}},\"yaxis3\":{\"anchor\":\"x3\",\"domain\":[0.0,1.0],\"matches\":\"y\",\"showticklabels\":false},\"xaxis4\":{\"anchor\":\"y4\",\"domain\":[0.7875,1.0],\"title\":{\"text\":\"objective\"},\"type\":\"category\",\"categoryorder\":\"array\",\"categoryarray\":[\"huber\",\"regression\"]},\"yaxis4\":{\"anchor\":\"x4\",\"domain\":[0.0,1.0],\"matches\":\"y\",\"showticklabels\":false},\"title\":{\"text\":\"Slice Plot\"},\"width\":1200},                        {\"responsive\": true}                    ).then(function(){\n                            \nvar gd = document.getElementById('b0eb0dc0-abeb-446c-8b15-966ecd53f5da');\nvar x = new MutationObserver(function (mutations, observer) {{\n        var display = window.getComputedStyle(gd).display;\n        if (!display || display === 'none') {{\n            console.log([gd, 'removed!']);\n            Plotly.purge(gd);\n            observer.disconnect();\n        }}\n}});\n\n// Listen for the removal of the full notebook cells\nvar notebookContainer = gd.closest('#notebook-container');\nif (notebookContainer) {{\n    x.observe(notebookContainer, {childList: true});\n}}\n\n// Listen for the clearing of the current output cell\nvar outputEl = gd.closest('.output');\nif (outputEl) {{\n    x.observe(outputEl, {childList: true});\n}}\n\n                        })                };                });            </script>        </div>"
     },
     "metadata": {},
     "output_type": "display_data"
    }
   ],
   "source": [
    "# Visualizing our parameters separately\n",
    "optuna.visualization.plot_slice(study)"
   ],
   "metadata": {
    "collapsed": false,
    "ExecuteTime": {
     "end_time": "2025-03-12T18:22:30.979639100Z",
     "start_time": "2025-03-12T18:22:30.722497200Z"
    }
   },
   "id": "ddbc8f0dfb412323"
  },
  {
   "cell_type": "markdown",
   "source": [
    "# Training and Saving Model"
   ],
   "metadata": {
    "collapsed": false
   },
   "id": "9d5370fff8e9d58f"
  },
  {
   "cell_type": "code",
   "execution_count": 125,
   "outputs": [
    {
     "data": {
      "text/plain": "LGBMRegressor(learning_rate=0.055152963805391086, max_depth=10,\n              n_estimators=451, objective='regression', verbosity=-1)",
      "text/html": "<style>#sk-container-id-2 {color: black;}#sk-container-id-2 pre{padding: 0;}#sk-container-id-2 div.sk-toggleable {background-color: white;}#sk-container-id-2 label.sk-toggleable__label {cursor: pointer;display: block;width: 100%;margin-bottom: 0;padding: 0.3em;box-sizing: border-box;text-align: center;}#sk-container-id-2 label.sk-toggleable__label-arrow:before {content: \"▸\";float: left;margin-right: 0.25em;color: #696969;}#sk-container-id-2 label.sk-toggleable__label-arrow:hover:before {color: black;}#sk-container-id-2 div.sk-estimator:hover label.sk-toggleable__label-arrow:before {color: black;}#sk-container-id-2 div.sk-toggleable__content {max-height: 0;max-width: 0;overflow: hidden;text-align: left;background-color: #f0f8ff;}#sk-container-id-2 div.sk-toggleable__content pre {margin: 0.2em;color: black;border-radius: 0.25em;background-color: #f0f8ff;}#sk-container-id-2 input.sk-toggleable__control:checked~div.sk-toggleable__content {max-height: 200px;max-width: 100%;overflow: auto;}#sk-container-id-2 input.sk-toggleable__control:checked~label.sk-toggleable__label-arrow:before {content: \"▾\";}#sk-container-id-2 div.sk-estimator input.sk-toggleable__control:checked~label.sk-toggleable__label {background-color: #d4ebff;}#sk-container-id-2 div.sk-label input.sk-toggleable__control:checked~label.sk-toggleable__label {background-color: #d4ebff;}#sk-container-id-2 input.sk-hidden--visually {border: 0;clip: rect(1px 1px 1px 1px);clip: rect(1px, 1px, 1px, 1px);height: 1px;margin: -1px;overflow: hidden;padding: 0;position: absolute;width: 1px;}#sk-container-id-2 div.sk-estimator {font-family: monospace;background-color: #f0f8ff;border: 1px dotted black;border-radius: 0.25em;box-sizing: border-box;margin-bottom: 0.5em;}#sk-container-id-2 div.sk-estimator:hover {background-color: #d4ebff;}#sk-container-id-2 div.sk-parallel-item::after {content: \"\";width: 100%;border-bottom: 1px solid gray;flex-grow: 1;}#sk-container-id-2 div.sk-label:hover label.sk-toggleable__label {background-color: #d4ebff;}#sk-container-id-2 div.sk-serial::before {content: \"\";position: absolute;border-left: 1px solid gray;box-sizing: border-box;top: 0;bottom: 0;left: 50%;z-index: 0;}#sk-container-id-2 div.sk-serial {display: flex;flex-direction: column;align-items: center;background-color: white;padding-right: 0.2em;padding-left: 0.2em;position: relative;}#sk-container-id-2 div.sk-item {position: relative;z-index: 1;}#sk-container-id-2 div.sk-parallel {display: flex;align-items: stretch;justify-content: center;background-color: white;position: relative;}#sk-container-id-2 div.sk-item::before, #sk-container-id-2 div.sk-parallel-item::before {content: \"\";position: absolute;border-left: 1px solid gray;box-sizing: border-box;top: 0;bottom: 0;left: 50%;z-index: -1;}#sk-container-id-2 div.sk-parallel-item {display: flex;flex-direction: column;z-index: 1;position: relative;background-color: white;}#sk-container-id-2 div.sk-parallel-item:first-child::after {align-self: flex-end;width: 50%;}#sk-container-id-2 div.sk-parallel-item:last-child::after {align-self: flex-start;width: 50%;}#sk-container-id-2 div.sk-parallel-item:only-child::after {width: 0;}#sk-container-id-2 div.sk-dashed-wrapped {border: 1px dashed gray;margin: 0 0.4em 0.5em 0.4em;box-sizing: border-box;padding-bottom: 0.4em;background-color: white;}#sk-container-id-2 div.sk-label label {font-family: monospace;font-weight: bold;display: inline-block;line-height: 1.2em;}#sk-container-id-2 div.sk-label-container {text-align: center;}#sk-container-id-2 div.sk-container {/* jupyter's `normalize.less` sets `[hidden] { display: none; }` but bootstrap.min.css set `[hidden] { display: none !important; }` so we also need the `!important` here to be able to override the default hidden behavior on the sphinx rendered scikit-learn.org. See: https://github.com/scikit-learn/scikit-learn/issues/21755 */display: inline-block !important;position: relative;}#sk-container-id-2 div.sk-text-repr-fallback {display: none;}</style><div id=\"sk-container-id-2\" class=\"sk-top-container\"><div class=\"sk-text-repr-fallback\"><pre>LGBMRegressor(learning_rate=0.055152963805391086, max_depth=10,\n              n_estimators=451, objective=&#x27;regression&#x27;, verbosity=-1)</pre><b>In a Jupyter environment, please rerun this cell to show the HTML representation or trust the notebook. <br />On GitHub, the HTML representation is unable to render, please try loading this page with nbviewer.org.</b></div><div class=\"sk-container\" hidden><div class=\"sk-item\"><div class=\"sk-estimator sk-toggleable\"><input class=\"sk-toggleable__control sk-hidden--visually\" id=\"sk-estimator-id-2\" type=\"checkbox\" checked><label for=\"sk-estimator-id-2\" class=\"sk-toggleable__label sk-toggleable__label-arrow\">LGBMRegressor</label><div class=\"sk-toggleable__content\"><pre>LGBMRegressor(learning_rate=0.055152963805391086, max_depth=10,\n              n_estimators=451, objective=&#x27;regression&#x27;, verbosity=-1)</pre></div></div></div></div></div>"
     },
     "execution_count": 125,
     "metadata": {},
     "output_type": "execute_result"
    }
   ],
   "source": [
    "# Train model with best params\n",
    "model = LGBMRegressor(verbosity=-1,**best_params)\n",
    "model.fit(x_train,y_train)"
   ],
   "metadata": {
    "collapsed": false,
    "ExecuteTime": {
     "end_time": "2025-03-12T18:22:31.795125500Z",
     "start_time": "2025-03-12T18:22:30.979639100Z"
    }
   },
   "id": "ce71bb233bfc81d5"
  },
  {
   "cell_type": "code",
   "execution_count": 126,
   "outputs": [
    {
     "data": {
      "text/plain": "27183.22434704642"
     },
     "execution_count": 126,
     "metadata": {},
     "output_type": "execute_result"
    }
   ],
   "source": [
    "# Final rmse score on test set\n",
    "y_pred = model.predict(x_test)\n",
    "mean_squared_error(y_test,y_pred,squared=False)"
   ],
   "metadata": {
    "collapsed": false,
    "ExecuteTime": {
     "end_time": "2025-03-12T18:22:31.897295100Z",
     "start_time": "2025-03-12T18:22:31.799156Z"
    }
   },
   "id": "ccce97c39ee18ca0"
  },
  {
   "cell_type": "code",
   "execution_count": 127,
   "outputs": [],
   "source": [
    "# Saving model\n",
    "pickle.dump(model,open(\"model.pkl\",\"wb\"))"
   ],
   "metadata": {
    "collapsed": false,
    "ExecuteTime": {
     "end_time": "2025-03-12T18:22:32.007057900Z",
     "start_time": "2025-03-12T18:22:31.902592900Z"
    }
   },
   "id": "bcbd9bc93308ad3e"
  }
 ],
 "metadata": {
  "kernelspec": {
   "display_name": "Python 3",
   "language": "python",
   "name": "python3"
  },
  "language_info": {
   "codemirror_mode": {
    "name": "ipython",
    "version": 2
   },
   "file_extension": ".py",
   "mimetype": "text/x-python",
   "name": "python",
   "nbconvert_exporter": "python",
   "pygments_lexer": "ipython2",
   "version": "2.7.6"
  }
 },
 "nbformat": 4,
 "nbformat_minor": 5
}
